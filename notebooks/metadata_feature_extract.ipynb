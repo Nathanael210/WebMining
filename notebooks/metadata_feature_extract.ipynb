{
 "cells": [
  {
   "cell_type": "code",
   "execution_count": null,
   "metadata": {
    "id": "2PbgJXxAg8Et"
   },
   "outputs": [],
   "source": [
    "import pandas as pd\n",
    "import numpy as np\n",
    "import os\n",
    "import re\n",
    "import datetime\n",
    "from datetime import datetime\n",
    "from datetime import date\n",
    "import pickle"
   ]
  },
  {
   "cell_type": "markdown",
   "metadata": {
    "id": "sfBWeuLM96rV"
   },
   "source": [
    "### Read Metadata"
   ]
  },
  {
   "cell_type": "code",
   "execution_count": null,
   "metadata": {
    "id": "GEH5nh8Lj5at"
   },
   "outputs": [],
   "source": [
    "metadata = pd.read_csv(r'../data/processed/metadata.csv')\n",
    "metadata = metadata.drop('Unnamed: 0', axis = 1)\n",
    "metadata.head(2)"
   ]
  },
  {
   "cell_type": "code",
   "execution_count": null,
   "metadata": {
    "id": "Ucrs-sXHk6HD"
   },
   "outputs": [],
   "source": [
    "metadata['paper_id'] = [x.split('/')[1] for x in metadata['paper_id']]\n",
    "metadata['paper_id'] = metadata['paper_id'].astype('int')"
   ]
  },
  {
   "cell_type": "markdown",
   "metadata": {
    "id": "x5ijms9k80dr"
   },
   "source": [
    "### Submitter Related features"
   ]
  },
  {
   "cell_type": "code",
   "execution_count": null,
   "metadata": {
    "id": "SpF1FbI71dQ4"
   },
   "outputs": [],
   "source": [
    "metadata['submitter'] = metadata['submitter'].str.lower()\n",
    "metadata['submitter'] = metadata['submitter'].str.replace(r'[:%-]', '', regex = True)\n",
    "\n",
    "def find_email(text):\n",
    "    email = re.findall(r'[\\w.+-+ ]+@[\\w.-]*',str(text))\n",
    "    return \",\".join(email)\n",
    "\n",
    "metadata['submitter_email'] = metadata['submitter'].apply(lambda x: find_email(x))\n",
    "metadata['submitter_email'] = metadata['submitter_email'].str.replace(r' ','', regex = True)"
   ]
  },
  {
   "cell_type": "code",
   "execution_count": null,
   "metadata": {
    "id": "7iSPoaJ9nqjn"
   },
   "outputs": [],
   "source": [
    "metadata['submitter_name'] = metadata['submitter'].str.replace(r'[\\w.+-+%]+@[\\w-]+\\.[\\w.-]+', \"\", regex = True)\n",
    "metadata['submitter_name'] = metadata['submitter_name'].str.replace(r'[\\<([{})>\\]\"]', \"\", regex = True)"
   ]
  },
  {
   "cell_type": "code",
   "execution_count": null,
   "metadata": {
    "id": "YYDFJIsN-23X"
   },
   "outputs": [],
   "source": [
    "metadata['submitter_email'] = metadata['submitter_email'].fillna(\"\")\n",
    "metadata['submitter_name'] = metadata['submitter_name'].fillna(\"\")\n",
    "\n",
    "metadata = metadata.replace(r'^\\s*$', np.nan, regex=True)\n",
    "metadata['submitter_details'] = metadata['submitter_email'].mask(pd.isnull, metadata['submitter_name'])"
   ]
  },
  {
   "cell_type": "code",
   "execution_count": null,
   "metadata": {
    "id": "M37oW7BOuitk"
   },
   "outputs": [],
   "source": [
    "metadata.head()"
   ]
  },
  {
   "cell_type": "markdown",
   "metadata": {
    "id": "ZcyRtx_o9Wje"
   },
   "source": [
    "### Submission Date Related Features"
   ]
  },
  {
   "cell_type": "code",
   "execution_count": null,
   "metadata": {
    "id": "r2tvsX-R36da"
   },
   "outputs": [],
   "source": [
    "metadata['submission_date'] = metadata['submission_date'].str.lower()\n",
    "metadata['is_revised'] = metadata[\"submission_date\"].map(lambda x: 1 if \"revised\" in x else 0)\n",
    "metadata['times_revised'] = metadata[\"submission_date\"].str.count('revised')"
   ]
  },
  {
   "cell_type": "code",
   "execution_count": null,
   "metadata": {
    "id": "YZa73i1kyKji"
   },
   "outputs": [],
   "source": [
    "metadata['first_submission_datetime'] = [x.split('date (revised)')[0] for x in metadata['submission_date']]\n",
    "metadata['first_submission_datetime'] = metadata['first_submission_datetime'].str.extract(r'((?:\\d{,2}\\s)?(?:jan|feb|mar|apr|may|jun|jul|aug|sep|oct|nov|dec)[a-z]*(?:-|\\.|\\s|,)\\s?\\d{1,4}(?:-|\\.|\\s|,)\\s?(?:\\d{2}:\\d{2}:\\d{2}))')"
   ]
  },
  {
   "cell_type": "code",
   "execution_count": null,
   "metadata": {
    "id": "3NJpk6sJnMzh"
   },
   "outputs": [],
   "source": [
    "one = metadata['first_submission_datetime'].str.extract(r'((?:\\d{,2}\\s)?(?:jan|feb|mar|apr|may|jun|jul|aug|sep|oct|nov|dec)[a-z]*(?:-|\\.|\\s|,)\\s?\\d{1,4})')\n",
    "two = metadata['first_submission_datetime'].str.extract(r'((?:\\d{1,2})(?:(?:\\/|-)\\d{1,2})(?:(?:\\/|-)\\d{2,4}))')\n",
    "final = one.fillna(two)\n",
    "metadata['first_submission_date'] = final"
   ]
  },
  {
   "cell_type": "code",
   "execution_count": null,
   "metadata": {
    "id": "iljuTK2vkbo2"
   },
   "outputs": [],
   "source": [
    "diff_date_types = []\n",
    "for i in range(len(metadata.first_submission_date)):\n",
    "  try:\n",
    "    metadata['first_submission_datetime'][i] = pd.to_datetime(metadata['first_submission_datetime'][i])\n",
    "    metadata['first_submission_date'][i] = pd.to_datetime(metadata['first_submission_date'][i]).date()\n",
    "  except:\n",
    "    diff_date_types.append(i)\n"
   ]
  },
  {
   "cell_type": "markdown",
   "metadata": {
    "id": "MwdPUrpH_AZf"
   },
   "source": [
    "### Comment related features"
   ]
  },
  {
   "cell_type": "code",
   "execution_count": null,
   "metadata": {
    "id": "fJuav3-ooXUk"
   },
   "outputs": [],
   "source": [
    "metadata[\"comments\"]= metadata[\"comments\"].str.lower()\n",
    "\n",
    "def page_num_extract(line):\n",
    "  pages = re.findall(\"(\\d* pages)|(\\d* pp\\.)|(\\d*pp\\.)|(\\d*p\\.)|(\\d+pp)|(\\d pp)|(\\d*pages)|(pp\\. \\d*)|(pp\\.\\d*)\", str(line))\n",
    "  mul_pages = []\n",
    "  for i in pages:\n",
    "     z = re.findall(\"\\d*\", str(i))\n",
    "     z = list(filter(None, z))\n",
    "     mul_pages.append(z)\n",
    "     pages = [int(item) for sublist in mul_pages for item in sublist]\n",
    "\n",
    "  if not pages:\n",
    "    pages = np.nan\n",
    "  else:\n",
    "    pages = sum(pages)\n",
    "  return pages\n",
    "\n",
    "metadata['num_of_pages'] = metadata['comments'].apply(lambda x: page_num_extract(x))"
   ]
  },
  {
   "cell_type": "code",
   "execution_count": null,
   "metadata": {
    "id": "36zFHbx7jZOx"
   },
   "outputs": [],
   "source": [
    "metadata['format'] = \"\"\n",
    "def find_format(text):\n",
    "    format = re.findall(\"latex|harvmac|revtex|plaintex|plain tex|levtex\", str(text))\n",
    "    return \",\".join(format)\n",
    "metadata['format'] = metadata['comments'].apply(lambda x: find_format(x))"
   ]
  },
  {
   "cell_type": "code",
   "execution_count": null,
   "metadata": {
    "id": "Fclco_Wxqfaf"
   },
   "outputs": [],
   "source": [
    "metadata.head(2)"
   ]
  },
  {
   "cell_type": "markdown",
   "metadata": {
    "id": "kTQHLXrCBr76"
   },
   "source": [
    "### Author Related Features"
   ]
  },
  {
   "cell_type": "code",
   "execution_count": null,
   "metadata": {
    "id": "gOCLzRVsfuPk"
   },
   "outputs": [],
   "source": [
    "metadata['authors'] = metadata['authors'].str.replace(r\"\\([^()]*\\)\", \"\", regex = True)\n",
    "metadata['authors'] = metadata['authors'].str.replace(r\"[^ a-zA-Z0-9.,-]+\", '', regex = True)\n",
    "metadata['authors'] = metadata['authors'].str.replace(r' and', \",\", regex = True)"
   ]
  },
  {
   "cell_type": "markdown",
   "metadata": {
    "id": "0y-tjOnyA9j1"
   },
   "source": [
    "### Journal Related Features"
   ]
  },
  {
   "cell_type": "code",
   "execution_count": null,
   "metadata": {
    "id": "kwz3O7WlyvNG"
   },
   "outputs": [],
   "source": [
    "for i in range(len(metadata['journal_ref'])):\n",
    "  try:\n",
    "    metadata['journal_ref'][i] = re.findall(r'[\\w\\d\\W]*?\\(\\d*\\)',metadata['journal_ref'][i])[0]\n",
    "  except:\n",
    "    ''\n",
    "  "
   ]
  },
  {
   "cell_type": "code",
   "execution_count": null,
   "metadata": {
    "id": "UoEbHJyE2YI4"
   },
   "outputs": [],
   "source": [
    "metadata['journal_counts'] = metadata.groupby(['journal_ref'])['journal_ref'].transform('count')\n",
    "metadata.head()"
   ]
  },
  {
   "cell_type": "code",
   "execution_count": null,
   "metadata": {
    "id": "tlEVSoqrkhbc"
   },
   "outputs": [],
   "source": [
    "metadata.to_csv(r'../data/processed/metadata_features.csv')"
   ]
  },
  {
   "cell_type": "code",
   "execution_count": null,
   "metadata": {},
   "outputs": [],
   "source": []
  }
 ],
 "metadata": {
  "colab": {
   "name": "metadata_feature_extract.ipynb",
   "provenance": []
  },
  "kernelspec": {
   "display_name": "Python 3 (ipykernel)",
   "language": "python",
   "name": "python3"
  },
  "language_info": {
   "codemirror_mode": {
    "name": "ipython",
    "version": 3
   },
   "file_extension": ".py",
   "mimetype": "text/x-python",
   "name": "python",
   "nbconvert_exporter": "python",
   "pygments_lexer": "ipython3",
   "version": "3.9.12"
  }
 },
 "nbformat": 4,
 "nbformat_minor": 1
}
