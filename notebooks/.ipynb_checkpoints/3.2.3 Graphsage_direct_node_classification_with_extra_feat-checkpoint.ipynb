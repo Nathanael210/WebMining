{
 "cells": [
  {
   "cell_type": "markdown",
   "metadata": {
    "id": "A-6WACro7EOE"
   },
   "source": [
    "# Inductive node classification and representation learning using GraphSAGE\n"
   ]
  },
  {
   "cell_type": "code",
   "execution_count": 1,
   "metadata": {
    "colab": {
     "base_uri": "https://localhost:8080/"
    },
    "executionInfo": {
     "elapsed": 8753,
     "status": "ok",
     "timestamp": 1653297826851,
     "user": {
      "displayName": "Vitor Faria",
      "userId": "10491360195309454196"
     },
     "user_tz": 180
    },
    "id": "zPoAueD97EOL",
    "nbsphinx": "hidden",
    "outputId": "958c174a-7251-4600-91d2-b37b07c79bcd",
    "tags": [
     "CloudRunner"
    ]
   },
   "outputs": [
    {
     "name": "stdout",
     "output_type": "stream",
     "text": [
      "\u001b[K     |████████████████████████████████| 435 kB 5.4 MB/s \n",
      "\u001b[K     |████████████████████████████████| 482 kB 52.1 MB/s \n",
      "\u001b[K     |████████████████████████████████| 462 kB 58.4 MB/s \n",
      "\u001b[K     |████████████████████████████████| 41 kB 622 kB/s \n",
      "\u001b[?25h  Building wheel for mplleaflet (setup.py) ... \u001b[?25l\u001b[?25hdone\n"
     ]
    }
   ],
   "source": [
    "# install StellarGraph if running on Google Colab\n",
    "import sys\n",
    "if 'google.colab' in sys.modules:\n",
    "    %pip install -q stellargraph[demos]==1.2.1"
   ]
  },
  {
   "cell_type": "code",
   "execution_count": 2,
   "metadata": {
    "executionInfo": {
     "elapsed": 8986,
     "status": "ok",
     "timestamp": 1653297835819,
     "user": {
      "displayName": "Vitor Faria",
      "userId": "10491360195309454196"
     },
     "user_tz": 180
    },
    "id": "ame2QF0z7EOO"
   },
   "outputs": [],
   "source": [
    "import networkx as nx\n",
    "import pandas as pd\n",
    "import numpy as np\n",
    "import itertools\n",
    "import os\n",
    "\n",
    "from sklearn.decomposition import PCA\n",
    "from sklearn.manifold import TSNE\n",
    "from sklearn.utils import class_weight\n",
    "\n",
    "import stellargraph as sg\n",
    "from stellargraph import StellarGraph, StellarDiGraph\n",
    "from stellargraph import globalvar\n",
    "from stellargraph import random as sg_random\n",
    "from stellargraph.mapper import GraphSAGENodeGenerator, DirectedGraphSAGENodeGenerator\n",
    "from stellargraph.layer import GraphSAGE, MeanAggregator, DirectedGraphSAGE\n",
    "\n",
    "from tensorflow.keras import layers, optimizers, losses, metrics, Model\n",
    "from tensorflow import random as tf_random\n",
    "from keras.callbacks import ModelCheckpoint, EarlyStopping\n",
    "from keras.models import Sequential, load_model\n",
    "from sklearn import preprocessing, feature_extraction, model_selection\n",
    "from sklearn.metrics import classification_report, accuracy_score, confusion_matrix, f1_score, make_scorer\n",
    "from sklearn.utils.multiclass import unique_labels\n",
    "from stellargraph import datasets\n",
    "from IPython.display import display, HTML\n",
    "import matplotlib.pyplot as plt\n",
    "\n",
    "# from google.colab import drive\n",
    "# drive.mount('/content/drive')\n",
    "\n",
    "import torch\n",
    "torch.cuda.is_available()\n",
    "\n",
    "\n",
    "sg_random.set_seed(42)\n",
    "tf_random.set_seed(42)\n",
    "%matplotlib inline"
   ]
  },
  {
   "cell_type": "markdown",
   "metadata": {
    "id": "ygUM42SNBdva"
   },
   "source": [
    "## Paths"
   ]
  },
  {
   "cell_type": "code",
   "execution_count": 3,
   "metadata": {
    "executionInfo": {
     "elapsed": 11,
     "status": "ok",
     "timestamp": 1653297835819,
     "user": {
      "displayName": "Vitor Faria",
      "userId": "10491360195309454196"
     },
     "user_tz": 180
    },
    "id": "vI4g-xgWBhSd"
   },
   "outputs": [],
   "source": [
    "#Specific paths\n",
    "PATH_DATES = 'hep-th-slacdates_unzipped.txt'\n",
    "PATH_CITATION = 'hep-th-citations_unzipped_filtered.txt'\n",
    "PATH_LABEL = 'papers_label.csv'\n",
    "PATH_ATTRIBUTES = 'all_features_with_further_preprocessing.csv'\n",
    "\n",
    "PATH_MODEL_GS_D_F = 'graphsage_directed_extra_feat.hdf5'\n"
   ]
  },
  {
   "cell_type": "markdown",
   "metadata": {
    "id": "ft0lNCgQ7EOP"
   },
   "source": [
    "## Loading the dataset"
   ]
  },
  {
   "cell_type": "code",
   "execution_count": 4,
   "metadata": {
    "executionInfo": {
     "elapsed": 8,
     "status": "ok",
     "timestamp": 1653297835819,
     "user": {
      "displayName": "Vitor Faria",
      "userId": "10491360195309454196"
     },
     "user_tz": 180
    },
    "id": "AkoxsxneDEeX"
   },
   "outputs": [],
   "source": [
    "def read_dates(path):\n",
    "    df = pd.read_csv(path, sep=' ', header=None, names=['id_paper', 'slac_date'])\n",
    "    df['slac_date'] = pd.to_datetime(df['slac_date'])\n",
    "    display(df.head(5))\n",
    "    return (df)"
   ]
  },
  {
   "cell_type": "code",
   "execution_count": 5,
   "metadata": {
    "executionInfo": {
     "elapsed": 8,
     "status": "ok",
     "timestamp": 1653297835819,
     "user": {
      "displayName": "Vitor Faria",
      "userId": "10491360195309454196"
     },
     "user_tz": 180
    },
    "id": "4qAD-AN-DSTo"
   },
   "outputs": [],
   "source": [
    "def read_citation(path, df):\n",
    "    df = pd.read_csv(path, sep=' ', header=None, names=['source', 'target'])\n",
    "    display(df.head(5))\n",
    "    return(df)"
   ]
  },
  {
   "cell_type": "code",
   "execution_count": 6,
   "metadata": {
    "executionInfo": {
     "elapsed": 8,
     "status": "ok",
     "timestamp": 1653297835820,
     "user": {
      "displayName": "Vitor Faria",
      "userId": "10491360195309454196"
     },
     "user_tz": 180
    },
    "id": "FyKt7aPhml9P"
   },
   "outputs": [],
   "source": [
    "def get_labels(path, df2, label, date):\n",
    "    df1 = pd.read_csv(path, index_col=0)\n",
    "    df1.index.name='id_paper'\n",
    "    df2 = df2.set_index(\"id_paper\")\n",
    "    df1 = pd.merge(df1, df2, left_index=True, right_index=True)\n",
    "    label_full = df1[label]\n",
    "    label_train = df1[df1.slac_date < date][label]\n",
    "    label_test = df1[df1.slac_date >= date][label]\n",
    "    print('Full nodes: %s   Train nodes: %s   Test nodes: %s'%(len(label_full), len(label_train), len(label_test)))\n",
    "    return (label_full, label_train, label_test)\n"
   ]
  },
  {
   "cell_type": "code",
   "execution_count": 7,
   "metadata": {
    "executionInfo": {
     "elapsed": 8,
     "status": "ok",
     "timestamp": 1653297835820,
     "user": {
      "displayName": "Vitor Faria",
      "userId": "10491360195309454196"
     },
     "user_tz": 180
    },
    "id": "HppoD4fgddvF"
   },
   "outputs": [],
   "source": [
    "def get_features(path, df2, date):\n",
    "    # Papers ids \n",
    "    df1 = pd.read_csv(path, index_col=0)\n",
    "    df1.index.name='id_paper'\n",
    "\n",
    "    # Date df\n",
    "    df2 = df2.set_index(\"id_paper\")\n",
    "\n",
    "    # Combine datasets\n",
    "    df1 = pd.merge(df1, df2, left_index=True, right_index=True)\n",
    "\n",
    "    # Date features\n",
    "    df1['slac_date'] = pd.to_datetime(df1['slac_date'])\n",
    "    df1['year']= df1[date].dt.year\n",
    "    df1['month']= df1[date].dt.month\n",
    "    df1['week']= df1[date].dt.isocalendar().week\n",
    "\n",
    "    df1['month_sin'] = np.sin((df1.month-1)*(2.*np.pi/12))\n",
    "    df1['month_cos'] = np.cos((df1.month-1)*(2.*np.pi/12))\n",
    "\n",
    "    df1['week_sin'] = np.sin((df1[date].dt.isocalendar().week-1)*(2.*np.pi/53))\n",
    "    df1['week_cos'] = np.cos((df1[date].dt.isocalendar().week-1)*(2.*np.pi/53))\n",
    "\n",
    "    ls = ['year', 'month_sin', 'month_cos', 'week_sin', 'week_cos']\n",
    "    df_date = df1[ls]\n",
    "    display(df_date.head(5))\n",
    "    return(df_date)\n"
   ]
  },
  {
   "cell_type": "code",
   "execution_count": 8,
   "metadata": {
    "colab": {
     "base_uri": "https://localhost:8080/",
     "height": 206
    },
    "executionInfo": {
     "elapsed": 454,
     "status": "ok",
     "timestamp": 1653297836267,
     "user": {
      "displayName": "Vitor Faria",
      "userId": "10491360195309454196"
     },
     "user_tz": 180
    },
    "id": "YRnTbsyDDFgs",
    "outputId": "9706c4dd-83e2-4300-e6d9-e499815e1983"
   },
   "outputs": [
    {
     "data": {
      "text/html": [
       "\n",
       "  <div id=\"df-d9aa9a44-389e-472b-a1a2-83c150016b50\">\n",
       "    <div class=\"colab-df-container\">\n",
       "      <div>\n",
       "<style scoped>\n",
       "    .dataframe tbody tr th:only-of-type {\n",
       "        vertical-align: middle;\n",
       "    }\n",
       "\n",
       "    .dataframe tbody tr th {\n",
       "        vertical-align: top;\n",
       "    }\n",
       "\n",
       "    .dataframe thead th {\n",
       "        text-align: right;\n",
       "    }\n",
       "</style>\n",
       "<table border=\"1\" class=\"dataframe\">\n",
       "  <thead>\n",
       "    <tr style=\"text-align: right;\">\n",
       "      <th></th>\n",
       "      <th>id_paper</th>\n",
       "      <th>slac_date</th>\n",
       "    </tr>\n",
       "  </thead>\n",
       "  <tbody>\n",
       "    <tr>\n",
       "      <th>0</th>\n",
       "      <td>1001</td>\n",
       "      <td>2000-01-04</td>\n",
       "    </tr>\n",
       "    <tr>\n",
       "      <th>1</th>\n",
       "      <td>1002</td>\n",
       "      <td>2000-01-04</td>\n",
       "    </tr>\n",
       "    <tr>\n",
       "      <th>2</th>\n",
       "      <td>1003</td>\n",
       "      <td>2000-01-04</td>\n",
       "    </tr>\n",
       "    <tr>\n",
       "      <th>3</th>\n",
       "      <td>1004</td>\n",
       "      <td>2000-01-04</td>\n",
       "    </tr>\n",
       "    <tr>\n",
       "      <th>4</th>\n",
       "      <td>1005</td>\n",
       "      <td>2000-01-04</td>\n",
       "    </tr>\n",
       "  </tbody>\n",
       "</table>\n",
       "</div>\n",
       "      <button class=\"colab-df-convert\" onclick=\"convertToInteractive('df-d9aa9a44-389e-472b-a1a2-83c150016b50')\"\n",
       "              title=\"Convert this dataframe to an interactive table.\"\n",
       "              style=\"display:none;\">\n",
       "        \n",
       "  <svg xmlns=\"http://www.w3.org/2000/svg\" height=\"24px\"viewBox=\"0 0 24 24\"\n",
       "       width=\"24px\">\n",
       "    <path d=\"M0 0h24v24H0V0z\" fill=\"none\"/>\n",
       "    <path d=\"M18.56 5.44l.94 2.06.94-2.06 2.06-.94-2.06-.94-.94-2.06-.94 2.06-2.06.94zm-11 1L8.5 8.5l.94-2.06 2.06-.94-2.06-.94L8.5 2.5l-.94 2.06-2.06.94zm10 10l.94 2.06.94-2.06 2.06-.94-2.06-.94-.94-2.06-.94 2.06-2.06.94z\"/><path d=\"M17.41 7.96l-1.37-1.37c-.4-.4-.92-.59-1.43-.59-.52 0-1.04.2-1.43.59L10.3 9.45l-7.72 7.72c-.78.78-.78 2.05 0 2.83L4 21.41c.39.39.9.59 1.41.59.51 0 1.02-.2 1.41-.59l7.78-7.78 2.81-2.81c.8-.78.8-2.07 0-2.86zM5.41 20L4 18.59l7.72-7.72 1.47 1.35L5.41 20z\"/>\n",
       "  </svg>\n",
       "      </button>\n",
       "      \n",
       "  <style>\n",
       "    .colab-df-container {\n",
       "      display:flex;\n",
       "      flex-wrap:wrap;\n",
       "      gap: 12px;\n",
       "    }\n",
       "\n",
       "    .colab-df-convert {\n",
       "      background-color: #E8F0FE;\n",
       "      border: none;\n",
       "      border-radius: 50%;\n",
       "      cursor: pointer;\n",
       "      display: none;\n",
       "      fill: #1967D2;\n",
       "      height: 32px;\n",
       "      padding: 0 0 0 0;\n",
       "      width: 32px;\n",
       "    }\n",
       "\n",
       "    .colab-df-convert:hover {\n",
       "      background-color: #E2EBFA;\n",
       "      box-shadow: 0px 1px 2px rgba(60, 64, 67, 0.3), 0px 1px 3px 1px rgba(60, 64, 67, 0.15);\n",
       "      fill: #174EA6;\n",
       "    }\n",
       "\n",
       "    [theme=dark] .colab-df-convert {\n",
       "      background-color: #3B4455;\n",
       "      fill: #D2E3FC;\n",
       "    }\n",
       "\n",
       "    [theme=dark] .colab-df-convert:hover {\n",
       "      background-color: #434B5C;\n",
       "      box-shadow: 0px 1px 3px 1px rgba(0, 0, 0, 0.15);\n",
       "      filter: drop-shadow(0px 1px 2px rgba(0, 0, 0, 0.3));\n",
       "      fill: #FFFFFF;\n",
       "    }\n",
       "  </style>\n",
       "\n",
       "      <script>\n",
       "        const buttonEl =\n",
       "          document.querySelector('#df-d9aa9a44-389e-472b-a1a2-83c150016b50 button.colab-df-convert');\n",
       "        buttonEl.style.display =\n",
       "          google.colab.kernel.accessAllowed ? 'block' : 'none';\n",
       "\n",
       "        async function convertToInteractive(key) {\n",
       "          const element = document.querySelector('#df-d9aa9a44-389e-472b-a1a2-83c150016b50');\n",
       "          const dataTable =\n",
       "            await google.colab.kernel.invokeFunction('convertToInteractive',\n",
       "                                                     [key], {});\n",
       "          if (!dataTable) return;\n",
       "\n",
       "          const docLinkHtml = 'Like what you see? Visit the ' +\n",
       "            '<a target=\"_blank\" href=https://colab.research.google.com/notebooks/data_table.ipynb>data table notebook</a>'\n",
       "            + ' to learn more about interactive tables.';\n",
       "          element.innerHTML = '';\n",
       "          dataTable['output_type'] = 'display_data';\n",
       "          await google.colab.output.renderOutput(dataTable, element);\n",
       "          const docLink = document.createElement('div');\n",
       "          docLink.innerHTML = docLinkHtml;\n",
       "          element.appendChild(docLink);\n",
       "        }\n",
       "      </script>\n",
       "    </div>\n",
       "  </div>\n",
       "  "
      ],
      "text/plain": [
       "   id_paper  slac_date\n",
       "0      1001 2000-01-04\n",
       "1      1002 2000-01-04\n",
       "2      1003 2000-01-04\n",
       "3      1004 2000-01-04\n",
       "4      1005 2000-01-04"
      ]
     },
     "metadata": {},
     "output_type": "display_data"
    }
   ],
   "source": [
    "df_dates = read_dates(PATH_DATES)"
   ]
  },
  {
   "cell_type": "code",
   "execution_count": 9,
   "metadata": {
    "colab": {
     "base_uri": "https://localhost:8080/",
     "height": 206
    },
    "executionInfo": {
     "elapsed": 14,
     "status": "ok",
     "timestamp": 1653297836267,
     "user": {
      "displayName": "Vitor Faria",
      "userId": "10491360195309454196"
     },
     "user_tz": 180
    },
    "id": "S-oNGBuVDN0N",
    "outputId": "8f53f54c-ddfa-40ae-81e1-64f0b74f34b1"
   },
   "outputs": [
    {
     "data": {
      "text/html": [
       "\n",
       "  <div id=\"df-8d293cb0-48c5-4fc1-bbe1-93457da9a8e9\">\n",
       "    <div class=\"colab-df-container\">\n",
       "      <div>\n",
       "<style scoped>\n",
       "    .dataframe tbody tr th:only-of-type {\n",
       "        vertical-align: middle;\n",
       "    }\n",
       "\n",
       "    .dataframe tbody tr th {\n",
       "        vertical-align: top;\n",
       "    }\n",
       "\n",
       "    .dataframe thead th {\n",
       "        text-align: right;\n",
       "    }\n",
       "</style>\n",
       "<table border=\"1\" class=\"dataframe\">\n",
       "  <thead>\n",
       "    <tr style=\"text-align: right;\">\n",
       "      <th></th>\n",
       "      <th>source</th>\n",
       "      <th>target</th>\n",
       "    </tr>\n",
       "  </thead>\n",
       "  <tbody>\n",
       "    <tr>\n",
       "      <th>0</th>\n",
       "      <td>1001</td>\n",
       "      <td>9304045</td>\n",
       "    </tr>\n",
       "    <tr>\n",
       "      <th>1</th>\n",
       "      <td>1001</td>\n",
       "      <td>9308122</td>\n",
       "    </tr>\n",
       "    <tr>\n",
       "      <th>2</th>\n",
       "      <td>1001</td>\n",
       "      <td>9309097</td>\n",
       "    </tr>\n",
       "    <tr>\n",
       "      <th>3</th>\n",
       "      <td>1001</td>\n",
       "      <td>9311042</td>\n",
       "    </tr>\n",
       "    <tr>\n",
       "      <th>4</th>\n",
       "      <td>1001</td>\n",
       "      <td>9401139</td>\n",
       "    </tr>\n",
       "  </tbody>\n",
       "</table>\n",
       "</div>\n",
       "      <button class=\"colab-df-convert\" onclick=\"convertToInteractive('df-8d293cb0-48c5-4fc1-bbe1-93457da9a8e9')\"\n",
       "              title=\"Convert this dataframe to an interactive table.\"\n",
       "              style=\"display:none;\">\n",
       "        \n",
       "  <svg xmlns=\"http://www.w3.org/2000/svg\" height=\"24px\"viewBox=\"0 0 24 24\"\n",
       "       width=\"24px\">\n",
       "    <path d=\"M0 0h24v24H0V0z\" fill=\"none\"/>\n",
       "    <path d=\"M18.56 5.44l.94 2.06.94-2.06 2.06-.94-2.06-.94-.94-2.06-.94 2.06-2.06.94zm-11 1L8.5 8.5l.94-2.06 2.06-.94-2.06-.94L8.5 2.5l-.94 2.06-2.06.94zm10 10l.94 2.06.94-2.06 2.06-.94-2.06-.94-.94-2.06-.94 2.06-2.06.94z\"/><path d=\"M17.41 7.96l-1.37-1.37c-.4-.4-.92-.59-1.43-.59-.52 0-1.04.2-1.43.59L10.3 9.45l-7.72 7.72c-.78.78-.78 2.05 0 2.83L4 21.41c.39.39.9.59 1.41.59.51 0 1.02-.2 1.41-.59l7.78-7.78 2.81-2.81c.8-.78.8-2.07 0-2.86zM5.41 20L4 18.59l7.72-7.72 1.47 1.35L5.41 20z\"/>\n",
       "  </svg>\n",
       "      </button>\n",
       "      \n",
       "  <style>\n",
       "    .colab-df-container {\n",
       "      display:flex;\n",
       "      flex-wrap:wrap;\n",
       "      gap: 12px;\n",
       "    }\n",
       "\n",
       "    .colab-df-convert {\n",
       "      background-color: #E8F0FE;\n",
       "      border: none;\n",
       "      border-radius: 50%;\n",
       "      cursor: pointer;\n",
       "      display: none;\n",
       "      fill: #1967D2;\n",
       "      height: 32px;\n",
       "      padding: 0 0 0 0;\n",
       "      width: 32px;\n",
       "    }\n",
       "\n",
       "    .colab-df-convert:hover {\n",
       "      background-color: #E2EBFA;\n",
       "      box-shadow: 0px 1px 2px rgba(60, 64, 67, 0.3), 0px 1px 3px 1px rgba(60, 64, 67, 0.15);\n",
       "      fill: #174EA6;\n",
       "    }\n",
       "\n",
       "    [theme=dark] .colab-df-convert {\n",
       "      background-color: #3B4455;\n",
       "      fill: #D2E3FC;\n",
       "    }\n",
       "\n",
       "    [theme=dark] .colab-df-convert:hover {\n",
       "      background-color: #434B5C;\n",
       "      box-shadow: 0px 1px 3px 1px rgba(0, 0, 0, 0.15);\n",
       "      filter: drop-shadow(0px 1px 2px rgba(0, 0, 0, 0.3));\n",
       "      fill: #FFFFFF;\n",
       "    }\n",
       "  </style>\n",
       "\n",
       "      <script>\n",
       "        const buttonEl =\n",
       "          document.querySelector('#df-8d293cb0-48c5-4fc1-bbe1-93457da9a8e9 button.colab-df-convert');\n",
       "        buttonEl.style.display =\n",
       "          google.colab.kernel.accessAllowed ? 'block' : 'none';\n",
       "\n",
       "        async function convertToInteractive(key) {\n",
       "          const element = document.querySelector('#df-8d293cb0-48c5-4fc1-bbe1-93457da9a8e9');\n",
       "          const dataTable =\n",
       "            await google.colab.kernel.invokeFunction('convertToInteractive',\n",
       "                                                     [key], {});\n",
       "          if (!dataTable) return;\n",
       "\n",
       "          const docLinkHtml = 'Like what you see? Visit the ' +\n",
       "            '<a target=\"_blank\" href=https://colab.research.google.com/notebooks/data_table.ipynb>data table notebook</a>'\n",
       "            + ' to learn more about interactive tables.';\n",
       "          element.innerHTML = '';\n",
       "          dataTable['output_type'] = 'display_data';\n",
       "          await google.colab.output.renderOutput(dataTable, element);\n",
       "          const docLink = document.createElement('div');\n",
       "          docLink.innerHTML = docLinkHtml;\n",
       "          element.appendChild(docLink);\n",
       "        }\n",
       "      </script>\n",
       "    </div>\n",
       "  </div>\n",
       "  "
      ],
      "text/plain": [
       "   source   target\n",
       "0    1001  9304045\n",
       "1    1001  9308122\n",
       "2    1001  9309097\n",
       "3    1001  9311042\n",
       "4    1001  9401139"
      ]
     },
     "metadata": {},
     "output_type": "display_data"
    }
   ],
   "source": [
    "df_citation = read_citation(PATH_CITATION, df_dates)"
   ]
  },
  {
   "cell_type": "code",
   "execution_count": 10,
   "metadata": {
    "colab": {
     "base_uri": "https://localhost:8080/"
    },
    "executionInfo": {
     "elapsed": 443,
     "status": "ok",
     "timestamp": 1653297836697,
     "user": {
      "displayName": "Vitor Faria",
      "userId": "10491360195309454196"
     },
     "user_tz": 180
    },
    "id": "xqmCm9pAGWON",
    "outputId": "b457061d-1d25-4fe0-9082-fa2529335f23"
   },
   "outputs": [
    {
     "name": "stdout",
     "output_type": "stream",
     "text": [
      "Full nodes: 27750   Train nodes: 23567   Test nodes: 4183\n"
     ]
    }
   ],
   "source": [
    "full_nodes, train_nodes, test_nodes = get_labels(PATH_LABEL, df_dates, 'label', '2002-01-01')"
   ]
  },
  {
   "cell_type": "code",
   "execution_count": 11,
   "metadata": {
    "colab": {
     "base_uri": "https://localhost:8080/",
     "height": 238
    },
    "executionInfo": {
     "elapsed": 24,
     "status": "ok",
     "timestamp": 1653297836699,
     "user": {
      "displayName": "Vitor Faria",
      "userId": "10491360195309454196"
     },
     "user_tz": 180
    },
    "id": "xSuEjlchom3G",
    "outputId": "a22389d1-42e7-4b6b-8551-398826cb572b"
   },
   "outputs": [
    {
     "data": {
      "text/html": [
       "\n",
       "  <div id=\"df-dc8976f1-90d7-46a3-a8aa-27242c4d363a\">\n",
       "    <div class=\"colab-df-container\">\n",
       "      <div>\n",
       "<style scoped>\n",
       "    .dataframe tbody tr th:only-of-type {\n",
       "        vertical-align: middle;\n",
       "    }\n",
       "\n",
       "    .dataframe tbody tr th {\n",
       "        vertical-align: top;\n",
       "    }\n",
       "\n",
       "    .dataframe thead th {\n",
       "        text-align: right;\n",
       "    }\n",
       "</style>\n",
       "<table border=\"1\" class=\"dataframe\">\n",
       "  <thead>\n",
       "    <tr style=\"text-align: right;\">\n",
       "      <th></th>\n",
       "      <th>year</th>\n",
       "      <th>month_sin</th>\n",
       "      <th>month_cos</th>\n",
       "      <th>week_sin</th>\n",
       "      <th>week_cos</th>\n",
       "    </tr>\n",
       "    <tr>\n",
       "      <th>id_paper</th>\n",
       "      <th></th>\n",
       "      <th></th>\n",
       "      <th></th>\n",
       "      <th></th>\n",
       "      <th></th>\n",
       "    </tr>\n",
       "  </thead>\n",
       "  <tbody>\n",
       "    <tr>\n",
       "      <th>1001</th>\n",
       "      <td>2000</td>\n",
       "      <td>0.0</td>\n",
       "      <td>1.0</td>\n",
       "      <td>0.0</td>\n",
       "      <td>1.0</td>\n",
       "    </tr>\n",
       "    <tr>\n",
       "      <th>1002</th>\n",
       "      <td>2000</td>\n",
       "      <td>0.0</td>\n",
       "      <td>1.0</td>\n",
       "      <td>0.0</td>\n",
       "      <td>1.0</td>\n",
       "    </tr>\n",
       "    <tr>\n",
       "      <th>1003</th>\n",
       "      <td>2000</td>\n",
       "      <td>0.0</td>\n",
       "      <td>1.0</td>\n",
       "      <td>0.0</td>\n",
       "      <td>1.0</td>\n",
       "    </tr>\n",
       "    <tr>\n",
       "      <th>1004</th>\n",
       "      <td>2000</td>\n",
       "      <td>0.0</td>\n",
       "      <td>1.0</td>\n",
       "      <td>0.0</td>\n",
       "      <td>1.0</td>\n",
       "    </tr>\n",
       "    <tr>\n",
       "      <th>1005</th>\n",
       "      <td>2000</td>\n",
       "      <td>0.0</td>\n",
       "      <td>1.0</td>\n",
       "      <td>0.0</td>\n",
       "      <td>1.0</td>\n",
       "    </tr>\n",
       "  </tbody>\n",
       "</table>\n",
       "</div>\n",
       "      <button class=\"colab-df-convert\" onclick=\"convertToInteractive('df-dc8976f1-90d7-46a3-a8aa-27242c4d363a')\"\n",
       "              title=\"Convert this dataframe to an interactive table.\"\n",
       "              style=\"display:none;\">\n",
       "        \n",
       "  <svg xmlns=\"http://www.w3.org/2000/svg\" height=\"24px\"viewBox=\"0 0 24 24\"\n",
       "       width=\"24px\">\n",
       "    <path d=\"M0 0h24v24H0V0z\" fill=\"none\"/>\n",
       "    <path d=\"M18.56 5.44l.94 2.06.94-2.06 2.06-.94-2.06-.94-.94-2.06-.94 2.06-2.06.94zm-11 1L8.5 8.5l.94-2.06 2.06-.94-2.06-.94L8.5 2.5l-.94 2.06-2.06.94zm10 10l.94 2.06.94-2.06 2.06-.94-2.06-.94-.94-2.06-.94 2.06-2.06.94z\"/><path d=\"M17.41 7.96l-1.37-1.37c-.4-.4-.92-.59-1.43-.59-.52 0-1.04.2-1.43.59L10.3 9.45l-7.72 7.72c-.78.78-.78 2.05 0 2.83L4 21.41c.39.39.9.59 1.41.59.51 0 1.02-.2 1.41-.59l7.78-7.78 2.81-2.81c.8-.78.8-2.07 0-2.86zM5.41 20L4 18.59l7.72-7.72 1.47 1.35L5.41 20z\"/>\n",
       "  </svg>\n",
       "      </button>\n",
       "      \n",
       "  <style>\n",
       "    .colab-df-container {\n",
       "      display:flex;\n",
       "      flex-wrap:wrap;\n",
       "      gap: 12px;\n",
       "    }\n",
       "\n",
       "    .colab-df-convert {\n",
       "      background-color: #E8F0FE;\n",
       "      border: none;\n",
       "      border-radius: 50%;\n",
       "      cursor: pointer;\n",
       "      display: none;\n",
       "      fill: #1967D2;\n",
       "      height: 32px;\n",
       "      padding: 0 0 0 0;\n",
       "      width: 32px;\n",
       "    }\n",
       "\n",
       "    .colab-df-convert:hover {\n",
       "      background-color: #E2EBFA;\n",
       "      box-shadow: 0px 1px 2px rgba(60, 64, 67, 0.3), 0px 1px 3px 1px rgba(60, 64, 67, 0.15);\n",
       "      fill: #174EA6;\n",
       "    }\n",
       "\n",
       "    [theme=dark] .colab-df-convert {\n",
       "      background-color: #3B4455;\n",
       "      fill: #D2E3FC;\n",
       "    }\n",
       "\n",
       "    [theme=dark] .colab-df-convert:hover {\n",
       "      background-color: #434B5C;\n",
       "      box-shadow: 0px 1px 3px 1px rgba(0, 0, 0, 0.15);\n",
       "      filter: drop-shadow(0px 1px 2px rgba(0, 0, 0, 0.3));\n",
       "      fill: #FFFFFF;\n",
       "    }\n",
       "  </style>\n",
       "\n",
       "      <script>\n",
       "        const buttonEl =\n",
       "          document.querySelector('#df-dc8976f1-90d7-46a3-a8aa-27242c4d363a button.colab-df-convert');\n",
       "        buttonEl.style.display =\n",
       "          google.colab.kernel.accessAllowed ? 'block' : 'none';\n",
       "\n",
       "        async function convertToInteractive(key) {\n",
       "          const element = document.querySelector('#df-dc8976f1-90d7-46a3-a8aa-27242c4d363a');\n",
       "          const dataTable =\n",
       "            await google.colab.kernel.invokeFunction('convertToInteractive',\n",
       "                                                     [key], {});\n",
       "          if (!dataTable) return;\n",
       "\n",
       "          const docLinkHtml = 'Like what you see? Visit the ' +\n",
       "            '<a target=\"_blank\" href=https://colab.research.google.com/notebooks/data_table.ipynb>data table notebook</a>'\n",
       "            + ' to learn more about interactive tables.';\n",
       "          element.innerHTML = '';\n",
       "          dataTable['output_type'] = 'display_data';\n",
       "          await google.colab.output.renderOutput(dataTable, element);\n",
       "          const docLink = document.createElement('div');\n",
       "          docLink.innerHTML = docLinkHtml;\n",
       "          element.appendChild(docLink);\n",
       "        }\n",
       "      </script>\n",
       "    </div>\n",
       "  </div>\n",
       "  "
      ],
      "text/plain": [
       "          year  month_sin  month_cos  week_sin  week_cos\n",
       "id_paper                                                \n",
       "1001      2000        0.0        1.0       0.0       1.0\n",
       "1002      2000        0.0        1.0       0.0       1.0\n",
       "1003      2000        0.0        1.0       0.0       1.0\n",
       "1004      2000        0.0        1.0       0.0       1.0\n",
       "1005      2000        0.0        1.0       0.0       1.0"
      ]
     },
     "metadata": {},
     "output_type": "display_data"
    }
   ],
   "source": [
    "df_attributes = get_features(PATH_LABEL, df_dates, 'slac_date')"
   ]
  },
  {
   "cell_type": "code",
   "execution_count": 12,
   "metadata": {
    "executionInfo": {
     "elapsed": 221,
     "status": "ok",
     "timestamp": 1653297836902,
     "user": {
      "displayName": "Vitor Faria",
      "userId": "10491360195309454196"
     },
     "user_tz": 180
    },
    "id": "5xB-YicAyLkW"
   },
   "outputs": [],
   "source": [
    "df_attributes.to_csv('dates_sin_cos.csv')"
   ]
  },
  {
   "cell_type": "code",
   "execution_count": 13,
   "metadata": {
    "colab": {
     "base_uri": "https://localhost:8080/",
     "height": 302
    },
    "executionInfo": {
     "elapsed": 468,
     "status": "ok",
     "timestamp": 1653297837368,
     "user": {
      "displayName": "Vitor Faria",
      "userId": "10491360195309454196"
     },
     "user_tz": 180
    },
    "id": "cBndhPxKflPw",
    "outputId": "37ad03e3-3acc-4f7f-c6aa-a685da492e89"
   },
   "outputs": [
    {
     "data": {
      "text/html": [
       "\n",
       "  <div id=\"df-6a37e030-e8ef-4d47-aade-6cce974c057d\">\n",
       "    <div class=\"colab-df-container\">\n",
       "      <div>\n",
       "<style scoped>\n",
       "    .dataframe tbody tr th:only-of-type {\n",
       "        vertical-align: middle;\n",
       "    }\n",
       "\n",
       "    .dataframe tbody tr th {\n",
       "        vertical-align: top;\n",
       "    }\n",
       "\n",
       "    .dataframe thead th {\n",
       "        text-align: right;\n",
       "    }\n",
       "</style>\n",
       "<table border=\"1\" class=\"dataframe\">\n",
       "  <thead>\n",
       "    <tr style=\"text-align: right;\">\n",
       "      <th></th>\n",
       "      <th>year</th>\n",
       "      <th>month_sin</th>\n",
       "      <th>month_cos</th>\n",
       "      <th>week_sin</th>\n",
       "      <th>week_cos</th>\n",
       "      <th>recency_of_cited_papers_avg</th>\n",
       "      <th>max_time_difference_bw_cited_papers</th>\n",
       "      <th>is_revised</th>\n",
       "      <th>times_revised</th>\n",
       "      <th>num_of_pages</th>\n",
       "      <th>journal_counts</th>\n",
       "      <th>submitter_active</th>\n",
       "      <th>journal_popularity</th>\n",
       "      <th>format_latex</th>\n",
       "      <th>format_revtex</th>\n",
       "      <th>format_harvmac</th>\n",
       "      <th>format_plaintex</th>\n",
       "      <th>citations_till_date</th>\n",
       "    </tr>\n",
       "    <tr>\n",
       "      <th>id_paper</th>\n",
       "      <th></th>\n",
       "      <th></th>\n",
       "      <th></th>\n",
       "      <th></th>\n",
       "      <th></th>\n",
       "      <th></th>\n",
       "      <th></th>\n",
       "      <th></th>\n",
       "      <th></th>\n",
       "      <th></th>\n",
       "      <th></th>\n",
       "      <th></th>\n",
       "      <th></th>\n",
       "      <th></th>\n",
       "      <th></th>\n",
       "      <th></th>\n",
       "      <th></th>\n",
       "      <th></th>\n",
       "    </tr>\n",
       "  </thead>\n",
       "  <tbody>\n",
       "    <tr>\n",
       "      <th>1001</th>\n",
       "      <td>2000</td>\n",
       "      <td>0.0</td>\n",
       "      <td>1.0</td>\n",
       "      <td>0.0</td>\n",
       "      <td>1.0</td>\n",
       "      <td>1182.903614</td>\n",
       "      <td>2394.0</td>\n",
       "      <td>1</td>\n",
       "      <td>1</td>\n",
       "      <td>82.0</td>\n",
       "      <td>0.0</td>\n",
       "      <td>1</td>\n",
       "      <td>0</td>\n",
       "      <td>1</td>\n",
       "      <td>0</td>\n",
       "      <td>0</td>\n",
       "      <td>0</td>\n",
       "      <td>33</td>\n",
       "    </tr>\n",
       "    <tr>\n",
       "      <th>1002</th>\n",
       "      <td>2000</td>\n",
       "      <td>0.0</td>\n",
       "      <td>1.0</td>\n",
       "      <td>0.0</td>\n",
       "      <td>1.0</td>\n",
       "      <td>627.500000</td>\n",
       "      <td>2899.0</td>\n",
       "      <td>0</td>\n",
       "      <td>0</td>\n",
       "      <td>11.0</td>\n",
       "      <td>105.0</td>\n",
       "      <td>1</td>\n",
       "      <td>1</td>\n",
       "      <td>1</td>\n",
       "      <td>0</td>\n",
       "      <td>0</td>\n",
       "      <td>0</td>\n",
       "      <td>176</td>\n",
       "    </tr>\n",
       "    <tr>\n",
       "      <th>1003</th>\n",
       "      <td>2000</td>\n",
       "      <td>0.0</td>\n",
       "      <td>1.0</td>\n",
       "      <td>0.0</td>\n",
       "      <td>1.0</td>\n",
       "      <td>11.000000</td>\n",
       "      <td>0.0</td>\n",
       "      <td>0</td>\n",
       "      <td>0</td>\n",
       "      <td>4.0</td>\n",
       "      <td>0.0</td>\n",
       "      <td>0</td>\n",
       "      <td>0</td>\n",
       "      <td>0</td>\n",
       "      <td>1</td>\n",
       "      <td>0</td>\n",
       "      <td>0</td>\n",
       "      <td>0</td>\n",
       "    </tr>\n",
       "    <tr>\n",
       "      <th>1004</th>\n",
       "      <td>2000</td>\n",
       "      <td>0.0</td>\n",
       "      <td>1.0</td>\n",
       "      <td>0.0</td>\n",
       "      <td>1.0</td>\n",
       "      <td>442.000000</td>\n",
       "      <td>0.0</td>\n",
       "      <td>0</td>\n",
       "      <td>0</td>\n",
       "      <td>7.0</td>\n",
       "      <td>192.0</td>\n",
       "      <td>0</td>\n",
       "      <td>1</td>\n",
       "      <td>1</td>\n",
       "      <td>1</td>\n",
       "      <td>0</td>\n",
       "      <td>0</td>\n",
       "      <td>0</td>\n",
       "    </tr>\n",
       "    <tr>\n",
       "      <th>1005</th>\n",
       "      <td>2000</td>\n",
       "      <td>0.0</td>\n",
       "      <td>1.0</td>\n",
       "      <td>0.0</td>\n",
       "      <td>1.0</td>\n",
       "      <td>602.047619</td>\n",
       "      <td>2201.0</td>\n",
       "      <td>0</td>\n",
       "      <td>0</td>\n",
       "      <td>18.0</td>\n",
       "      <td>0.0</td>\n",
       "      <td>0</td>\n",
       "      <td>0</td>\n",
       "      <td>1</td>\n",
       "      <td>0</td>\n",
       "      <td>0</td>\n",
       "      <td>0</td>\n",
       "      <td>0</td>\n",
       "    </tr>\n",
       "  </tbody>\n",
       "</table>\n",
       "</div>\n",
       "      <button class=\"colab-df-convert\" onclick=\"convertToInteractive('df-6a37e030-e8ef-4d47-aade-6cce974c057d')\"\n",
       "              title=\"Convert this dataframe to an interactive table.\"\n",
       "              style=\"display:none;\">\n",
       "        \n",
       "  <svg xmlns=\"http://www.w3.org/2000/svg\" height=\"24px\"viewBox=\"0 0 24 24\"\n",
       "       width=\"24px\">\n",
       "    <path d=\"M0 0h24v24H0V0z\" fill=\"none\"/>\n",
       "    <path d=\"M18.56 5.44l.94 2.06.94-2.06 2.06-.94-2.06-.94-.94-2.06-.94 2.06-2.06.94zm-11 1L8.5 8.5l.94-2.06 2.06-.94-2.06-.94L8.5 2.5l-.94 2.06-2.06.94zm10 10l.94 2.06.94-2.06 2.06-.94-2.06-.94-.94-2.06-.94 2.06-2.06.94z\"/><path d=\"M17.41 7.96l-1.37-1.37c-.4-.4-.92-.59-1.43-.59-.52 0-1.04.2-1.43.59L10.3 9.45l-7.72 7.72c-.78.78-.78 2.05 0 2.83L4 21.41c.39.39.9.59 1.41.59.51 0 1.02-.2 1.41-.59l7.78-7.78 2.81-2.81c.8-.78.8-2.07 0-2.86zM5.41 20L4 18.59l7.72-7.72 1.47 1.35L5.41 20z\"/>\n",
       "  </svg>\n",
       "      </button>\n",
       "      \n",
       "  <style>\n",
       "    .colab-df-container {\n",
       "      display:flex;\n",
       "      flex-wrap:wrap;\n",
       "      gap: 12px;\n",
       "    }\n",
       "\n",
       "    .colab-df-convert {\n",
       "      background-color: #E8F0FE;\n",
       "      border: none;\n",
       "      border-radius: 50%;\n",
       "      cursor: pointer;\n",
       "      display: none;\n",
       "      fill: #1967D2;\n",
       "      height: 32px;\n",
       "      padding: 0 0 0 0;\n",
       "      width: 32px;\n",
       "    }\n",
       "\n",
       "    .colab-df-convert:hover {\n",
       "      background-color: #E2EBFA;\n",
       "      box-shadow: 0px 1px 2px rgba(60, 64, 67, 0.3), 0px 1px 3px 1px rgba(60, 64, 67, 0.15);\n",
       "      fill: #174EA6;\n",
       "    }\n",
       "\n",
       "    [theme=dark] .colab-df-convert {\n",
       "      background-color: #3B4455;\n",
       "      fill: #D2E3FC;\n",
       "    }\n",
       "\n",
       "    [theme=dark] .colab-df-convert:hover {\n",
       "      background-color: #434B5C;\n",
       "      box-shadow: 0px 1px 3px 1px rgba(0, 0, 0, 0.15);\n",
       "      filter: drop-shadow(0px 1px 2px rgba(0, 0, 0, 0.3));\n",
       "      fill: #FFFFFF;\n",
       "    }\n",
       "  </style>\n",
       "\n",
       "      <script>\n",
       "        const buttonEl =\n",
       "          document.querySelector('#df-6a37e030-e8ef-4d47-aade-6cce974c057d button.colab-df-convert');\n",
       "        buttonEl.style.display =\n",
       "          google.colab.kernel.accessAllowed ? 'block' : 'none';\n",
       "\n",
       "        async function convertToInteractive(key) {\n",
       "          const element = document.querySelector('#df-6a37e030-e8ef-4d47-aade-6cce974c057d');\n",
       "          const dataTable =\n",
       "            await google.colab.kernel.invokeFunction('convertToInteractive',\n",
       "                                                     [key], {});\n",
       "          if (!dataTable) return;\n",
       "\n",
       "          const docLinkHtml = 'Like what you see? Visit the ' +\n",
       "            '<a target=\"_blank\" href=https://colab.research.google.com/notebooks/data_table.ipynb>data table notebook</a>'\n",
       "            + ' to learn more about interactive tables.';\n",
       "          element.innerHTML = '';\n",
       "          dataTable['output_type'] = 'display_data';\n",
       "          await google.colab.output.renderOutput(dataTable, element);\n",
       "          const docLink = document.createElement('div');\n",
       "          docLink.innerHTML = docLinkHtml;\n",
       "          element.appendChild(docLink);\n",
       "        }\n",
       "      </script>\n",
       "    </div>\n",
       "  </div>\n",
       "  "
      ],
      "text/plain": [
       "          year  month_sin  month_cos  week_sin  week_cos  \\\n",
       "id_paper                                                   \n",
       "1001      2000        0.0        1.0       0.0       1.0   \n",
       "1002      2000        0.0        1.0       0.0       1.0   \n",
       "1003      2000        0.0        1.0       0.0       1.0   \n",
       "1004      2000        0.0        1.0       0.0       1.0   \n",
       "1005      2000        0.0        1.0       0.0       1.0   \n",
       "\n",
       "          recency_of_cited_papers_avg  max_time_difference_bw_cited_papers  \\\n",
       "id_paper                                                                     \n",
       "1001                      1182.903614                               2394.0   \n",
       "1002                       627.500000                               2899.0   \n",
       "1003                        11.000000                                  0.0   \n",
       "1004                       442.000000                                  0.0   \n",
       "1005                       602.047619                               2201.0   \n",
       "\n",
       "          is_revised  times_revised  num_of_pages  journal_counts  \\\n",
       "id_paper                                                            \n",
       "1001               1              1          82.0             0.0   \n",
       "1002               0              0          11.0           105.0   \n",
       "1003               0              0           4.0             0.0   \n",
       "1004               0              0           7.0           192.0   \n",
       "1005               0              0          18.0             0.0   \n",
       "\n",
       "          submitter_active  journal_popularity  format_latex  format_revtex  \\\n",
       "id_paper                                                                      \n",
       "1001                     1                   0             1              0   \n",
       "1002                     1                   1             1              0   \n",
       "1003                     0                   0             0              1   \n",
       "1004                     0                   1             1              1   \n",
       "1005                     0                   0             1              0   \n",
       "\n",
       "          format_harvmac  format_plaintex  citations_till_date  \n",
       "id_paper                                                        \n",
       "1001                   0                0                   33  \n",
       "1002                   0                0                  176  \n",
       "1003                   0                0                    0  \n",
       "1004                   0                0                    0  \n",
       "1005                   0                0                    0  "
      ]
     },
     "execution_count": 13,
     "metadata": {},
     "output_type": "execute_result"
    }
   ],
   "source": [
    "extra_features = [\n",
    "    # 'Unnamed: 0', \n",
    "    # 'indegrees_of_cited_papers_sum',\n",
    "    # 'indegrees_of_cited_papers_avg', \n",
    "    'recency_of_cited_papers_avg',\n",
    "    'max_time_difference_bw_cited_papers', \n",
    "    # 'outdegree',\n",
    "    # 'outdegrees_of_cited_papers_sum', \n",
    "    # 'outdegrees_of_cited_papers_avg',\n",
    "    # 'submitter', \n",
    "    # 'submission_date', \n",
    "    # 'title', \n",
    "    # 'authors', \n",
    "    # 'comments',\n",
    "    # 'report_no', \n",
    "    # 'journal_ref', \n",
    "    # 'abstract', \n",
    "    # 'submitter_email',\n",
    "    # 'submitter_name', \n",
    "    # 'submitter_details', \n",
    "    'is_revised', \n",
    "    'times_revised',\n",
    "    # 'first_submission_datetime', \n",
    "    # 'first_submission_date', \n",
    "    'num_of_pages',\n",
    "    # 'format', \n",
    "    'journal_counts', \n",
    "    # 'first_365_days', \n",
    "    # 'label', \n",
    "    # 'label_name',\n",
    "    'submitter_active', \n",
    "    # 'submitter_counts', \n",
    "    'journal_popularity',\n",
    "    'format_latex', \n",
    "    'format_revtex', \n",
    "    'format_harvmac', \n",
    "    'format_plaintex',\n",
    "    # 'date_added_graph', \n",
    "    # 'datedelta', \n",
    "    'citations_till_date',\n",
    "]\n",
    "\n",
    "df_extra_features = pd.read_csv(\n",
    "    PATH_ATTRIBUTES, \n",
    "    index_col=1\n",
    ")[extra_features].fillna(0)\n",
    "\n",
    "df_attributes = pd.merge(\n",
    "    df_attributes, \n",
    "    df_extra_features, \n",
    "    how='inner',\n",
    "    left_index=True, \n",
    "    right_index=True\n",
    ").rename_axis('id_paper')\n",
    "\n",
    "df_attributes.head()"
   ]
  },
  {
   "cell_type": "markdown",
   "metadata": {
    "id": "3xlzx479EhDe"
   },
   "source": [
    "## Graph construction"
   ]
  },
  {
   "cell_type": "code",
   "execution_count": 14,
   "metadata": {
    "colab": {
     "base_uri": "https://localhost:8080/"
    },
    "executionInfo": {
     "elapsed": 242,
     "status": "ok",
     "timestamp": 1653297837607,
     "user": {
      "displayName": "Vitor Faria",
      "userId": "10491360195309454196"
     },
     "user_tz": 180
    },
    "id": "tzwadVwqwBT7",
    "outputId": "7d631376-e4a0-43c3-d6d4-80c0b34dfae7"
   },
   "outputs": [
    {
     "name": "stdout",
     "output_type": "stream",
     "text": [
      "StellarDiGraph: Directed multigraph\n",
      " Nodes: 27750, Edges: 351763\n",
      "\n",
      " Node types:\n",
      "  paper: [27750]\n",
      "    Features: float32 vector, length 18\n",
      "    Edge types: paper-cites->paper\n",
      "\n",
      " Edge types:\n",
      "    paper-cites->paper: [351763]\n",
      "        Weights: all 1 (default)\n",
      "        Features: none\n"
     ]
    }
   ],
   "source": [
    "graph_citation_full = StellarDiGraph({\"paper\": df_attributes}, {\"cites\": df_citation})\n",
    "print(graph_citation_full.info())\n"
   ]
  },
  {
   "cell_type": "code",
   "execution_count": 15,
   "metadata": {
    "colab": {
     "base_uri": "https://localhost:8080/"
    },
    "executionInfo": {
     "elapsed": 598,
     "status": "ok",
     "timestamp": 1653297838203,
     "user": {
      "displayName": "Vitor Faria",
      "userId": "10491360195309454196"
     },
     "user_tz": 180
    },
    "id": "cAmI-qEvDN7r",
    "outputId": "2babe746-f54d-4779-b9bb-0bcf6d692ddc"
   },
   "outputs": [
    {
     "name": "stdout",
     "output_type": "stream",
     "text": [
      "StellarDiGraph: Directed multigraph\n",
      " Nodes: 23567, Edges: 271167\n",
      "\n",
      " Node types:\n",
      "  paper: [23567]\n",
      "    Features: float32 vector, length 18\n",
      "    Edge types: paper-cites->paper\n",
      "\n",
      " Edge types:\n",
      "    paper-cites->paper: [271167]\n",
      "        Weights: all 1 (default)\n",
      "        Features: none\n"
     ]
    }
   ],
   "source": [
    "graph_citation_train = graph_citation_full.subgraph(train_nodes.index)\n",
    "print(graph_citation_train.info())"
   ]
  },
  {
   "cell_type": "markdown",
   "metadata": {
    "id": "rmWmlczn7EOX"
   },
   "source": [
    "### Splitting the data"
   ]
  },
  {
   "cell_type": "code",
   "execution_count": 16,
   "metadata": {
    "executionInfo": {
     "elapsed": 7,
     "status": "ok",
     "timestamp": 1653297838204,
     "user": {
      "displayName": "Vitor Faria",
      "userId": "10491360195309454196"
     },
     "user_tz": 180
    },
    "id": "AKguFrly7EOY"
   },
   "outputs": [],
   "source": [
    "train_labels, test_labels = model_selection.train_test_split(\n",
    "    train_nodes,\n",
    "    train_size=0.7, #0.05\n",
    "    test_size=None,\n",
    "    stratify=train_nodes,\n",
    "    random_state=42,\n",
    ")\n",
    "\n",
    "val_labels, test_labels = model_selection.train_test_split(\n",
    "    test_labels, \n",
    "    train_size=0.67, #0.2\n",
    "    test_size=None, \n",
    "    stratify=test_labels, \n",
    "    random_state=42,\n",
    ")"
   ]
  },
  {
   "cell_type": "markdown",
   "metadata": {
    "id": "2j6AhAv_7EOY"
   },
   "source": [
    "Stratified sampling gives the following counts:"
   ]
  },
  {
   "cell_type": "code",
   "execution_count": 17,
   "metadata": {
    "colab": {
     "base_uri": "https://localhost:8080/"
    },
    "executionInfo": {
     "elapsed": 7,
     "status": "ok",
     "timestamp": 1653297838204,
     "user": {
      "displayName": "Vitor Faria",
      "userId": "10491360195309454196"
     },
     "user_tz": 180
    },
    "id": "7C-6gaow7EOZ",
    "outputId": "b6689b03-0826-410e-e57b-1dea9d604e7f"
   },
   "outputs": [
    {
     "data": {
      "text/plain": [
       "Counter({0: 5044, 1: 9509, 2: 1103, 3: 840})"
      ]
     },
     "execution_count": 17,
     "metadata": {},
     "output_type": "execute_result"
    }
   ],
   "source": [
    "from collections import Counter\n",
    "\n",
    "Counter(train_labels)"
   ]
  },
  {
   "cell_type": "markdown",
   "metadata": {
    "id": "2CF1qCd87EOa"
   },
   "source": [
    "The training set has class imbalance is compensated, with class weights inversely proportional to class support."
   ]
  },
  {
   "cell_type": "code",
   "execution_count": 18,
   "metadata": {
    "colab": {
     "base_uri": "https://localhost:8080/"
    },
    "executionInfo": {
     "elapsed": 5,
     "status": "ok",
     "timestamp": 1653297838204,
     "user": {
      "displayName": "Vitor Faria",
      "userId": "10491360195309454196"
     },
     "user_tz": 180
    },
    "id": "WaPZlh6dcUHt",
    "outputId": "a509e38a-a6ef-49bc-e63e-538be9c55c91"
   },
   "outputs": [
    {
     "data": {
      "text/plain": [
       "{0: 0.8176050753370341,\n",
       " 1: 0.43369439478388894,\n",
       " 2: 3.7388939256572984,\n",
       " 3: 4.90952380952381}"
      ]
     },
     "execution_count": 18,
     "metadata": {},
     "output_type": "execute_result"
    }
   ],
   "source": [
    "#get class_weights\n",
    "class_weights = class_weight.compute_class_weight(\n",
    "    class_weight = \"balanced\",\n",
    "    classes = np.unique(train_labels),\n",
    "    y = train_labels                                                    \n",
    ")\n",
    "class_weights = dict(zip(np.unique(train_labels), class_weights))\n",
    "class_weights"
   ]
  },
  {
   "cell_type": "markdown",
   "metadata": {
    "id": "V88k-gWV7EOa"
   },
   "source": [
    "### Converting to numeric arrays"
   ]
  },
  {
   "cell_type": "markdown",
   "metadata": {
    "id": "PKctkCXT7EOa"
   },
   "source": [
    "For our categorical target, we will use one-hot vectors that will be fed into a soft-max Keras layer during training."
   ]
  },
  {
   "cell_type": "code",
   "execution_count": 19,
   "metadata": {
    "executionInfo": {
     "elapsed": 4,
     "status": "ok",
     "timestamp": 1653297838204,
     "user": {
      "displayName": "Vitor Faria",
      "userId": "10491360195309454196"
     },
     "user_tz": 180
    },
    "id": "PbTaDEld7EOb"
   },
   "outputs": [],
   "source": [
    "target_encoding = preprocessing.LabelBinarizer()\n",
    "\n",
    "train_targets = target_encoding.fit_transform(train_labels)\n",
    "val_targets = target_encoding.transform(val_labels)\n",
    "test_targets = target_encoding.transform(test_labels)"
   ]
  },
  {
   "cell_type": "markdown",
   "metadata": {
    "id": "VlmeWyzX7EOb"
   },
   "source": [
    "## Creating the GraphSAGE model in Keras"
   ]
  },
  {
   "cell_type": "markdown",
   "metadata": {
    "id": "mB0JjICB7EOc"
   },
   "source": [
    "To feed data from the graph to the Keras model we need a generator. The generators are specialized to the model and the learning task so we choose the `DirectedGraphSAGENodeGenerator` as we are predicting node attributes with a GraphSAGE model.\n",
    "\n",
    "We need specify the `batch_size` to use for training and the number of nodes to sample at each level of the model. Here we choose a two-layer model with 10 in-nodes sampled in the first layer, and 4 in-nodes in the second layer."
   ]
  },
  {
   "cell_type": "code",
   "execution_count": 20,
   "metadata": {
    "executionInfo": {
     "elapsed": 5,
     "status": "ok",
     "timestamp": 1653297838205,
     "user": {
      "displayName": "Vitor Faria",
      "userId": "10491360195309454196"
     },
     "user_tz": 180
    },
    "id": "Vty7LaMU7EOd"
   },
   "outputs": [],
   "source": [
    "batch_size = 50\n",
    "in_samples = [1, 1]\n",
    "out_samples = [10, 4]\n",
    "\n",
    "generator = DirectedGraphSAGENodeGenerator(graph_citation_train, batch_size, in_samples, out_samples)"
   ]
  },
  {
   "cell_type": "markdown",
   "metadata": {
    "id": "EEiwrels7EOg"
   },
   "source": [
    "Using the `generator.flow()` method, we can create iterators over nodes that should be used to train, validate, or evaluate the model. For training we use only the training nodes returned from our splitter and the target values. The `shuffle=True` argument is given to the `flow` method to improve training."
   ]
  },
  {
   "cell_type": "code",
   "execution_count": 22,
   "metadata": {
    "executionInfo": {
     "elapsed": 5,
     "status": "ok",
     "timestamp": 1653297838205,
     "user": {
      "displayName": "Vitor Faria",
      "userId": "10491360195309454196"
     },
     "user_tz": 180
    },
    "id": "6ohivP8L7EOh"
   },
   "outputs": [],
   "source": [
    "train_gen = generator.flow(train_labels.index, train_targets, shuffle=True)\n",
    "val_gen = generator.flow(val_labels.index, val_targets, shuffle=True)\n",
    "test_gen = generator.flow(test_labels.index, test_targets)"
   ]
  },
  {
   "cell_type": "markdown",
   "metadata": {
    "id": "DX7W8MZg7EOh"
   },
   "source": [
    "Now we can specify our machine learning model, and use 2 layers of 32 neurons each of them. And a dropout of 0.1 to help the model to generalize."
   ]
  },
  {
   "cell_type": "code",
   "execution_count": 23,
   "metadata": {
    "executionInfo": {
     "elapsed": 4,
     "status": "ok",
     "timestamp": 1653297838205,
     "user": {
      "displayName": "Vitor Faria",
      "userId": "10491360195309454196"
     },
     "user_tz": 180
    },
    "id": "nsaaN8847EOi"
   },
   "outputs": [],
   "source": [
    "graphsage_model = DirectedGraphSAGE(\n",
    "    layer_sizes=[32, 32], generator=generator, bias=True, dropout=0.1 #, activations=[\"relu\"] or  activation=keras.layers.LeakyReLU(alpha=0.01)\n",
    ")"
   ]
  },
  {
   "cell_type": "markdown",
   "metadata": {
    "id": "qnU6NuWT7EOi"
   },
   "source": [
    "Now we create a model to predict the 4 categories using Keras softmax layers."
   ]
  },
  {
   "cell_type": "code",
   "execution_count": 24,
   "metadata": {
    "executionInfo": {
     "elapsed": 1430,
     "status": "ok",
     "timestamp": 1653297839631,
     "user": {
      "displayName": "Vitor Faria",
      "userId": "10491360195309454196"
     },
     "user_tz": 180
    },
    "id": "ntXp0k5N7EOj"
   },
   "outputs": [],
   "source": [
    "x_inp, x_out = graphsage_model.in_out_tensors()\n",
    "prediction = layers.Dense(units=train_targets.shape[1], activation=\"softmax\")(x_out)\n"
   ]
  },
  {
   "cell_type": "code",
   "execution_count": 25,
   "metadata": {
    "colab": {
     "base_uri": "https://localhost:8080/"
    },
    "executionInfo": {
     "elapsed": 39,
     "status": "ok",
     "timestamp": 1653297839631,
     "user": {
      "displayName": "Vitor Faria",
      "userId": "10491360195309454196"
     },
     "user_tz": 180
    },
    "id": "7mBiMGwq7EOj",
    "outputId": "9c6b8769-ba0a-40cf-c7c6-253cbf15f203"
   },
   "outputs": [
    {
     "data": {
      "text/plain": [
       "TensorShape([None, 4])"
      ]
     },
     "execution_count": 25,
     "metadata": {},
     "output_type": "execute_result"
    }
   ],
   "source": [
    "prediction.shape"
   ]
  },
  {
   "cell_type": "markdown",
   "metadata": {
    "id": "GgSm5t-l7EOk"
   },
   "source": [
    "### Training the model"
   ]
  },
  {
   "cell_type": "markdown",
   "metadata": {
    "id": "ynGCJm7c7EOl"
   },
   "source": [
    "Now let's create the actual Keras model with the graph inputs `x_inp` provided by the `graph_model` and outputs being the predictions from the softmax layer"
   ]
  },
  {
   "cell_type": "code",
   "execution_count": 26,
   "metadata": {
    "colab": {
     "base_uri": "https://localhost:8080/"
    },
    "executionInfo": {
     "elapsed": 38,
     "status": "ok",
     "timestamp": 1653297839632,
     "user": {
      "displayName": "Vitor Faria",
      "userId": "10491360195309454196"
     },
     "user_tz": 180
    },
    "id": "myB7DUNt7EOl",
    "outputId": "f26180c9-56fc-480d-b10d-d088836bc714"
   },
   "outputs": [
    {
     "name": "stdout",
     "output_type": "stream",
     "text": [
      "Model: \"model\"\n",
      "__________________________________________________________________________________________________\n",
      " Layer (type)                   Output Shape         Param #     Connected to                     \n",
      "==================================================================================================\n",
      " input_2 (InputLayer)           [(None, 5, 18)]      0           []                               \n",
      "                                                                                                  \n",
      " input_3 (InputLayer)           [(None, 5, 18)]      0           []                               \n",
      "                                                                                                  \n",
      " input_4 (InputLayer)           [(None, 10, 18)]     0           []                               \n",
      "                                                                                                  \n",
      " input_5 (InputLayer)           [(None, 10, 18)]     0           []                               \n",
      "                                                                                                  \n",
      " input_6 (InputLayer)           [(None, 10, 18)]     0           []                               \n",
      "                                                                                                  \n",
      " input_7 (InputLayer)           [(None, 10, 18)]     0           []                               \n",
      "                                                                                                  \n",
      " input_1 (InputLayer)           [(None, 1, 18)]      0           []                               \n",
      "                                                                                                  \n",
      " reshape (Reshape)              (None, 1, 5, 18)     0           ['input_2[0][0]']                \n",
      "                                                                                                  \n",
      " reshape_1 (Reshape)            (None, 1, 5, 18)     0           ['input_3[0][0]']                \n",
      "                                                                                                  \n",
      " reshape_2 (Reshape)            (None, 5, 2, 18)     0           ['input_4[0][0]']                \n",
      "                                                                                                  \n",
      " reshape_3 (Reshape)            (None, 5, 2, 18)     0           ['input_5[0][0]']                \n",
      "                                                                                                  \n",
      " reshape_4 (Reshape)            (None, 5, 2, 18)     0           ['input_6[0][0]']                \n",
      "                                                                                                  \n",
      " reshape_5 (Reshape)            (None, 5, 2, 18)     0           ['input_7[0][0]']                \n",
      "                                                                                                  \n",
      " dropout (Dropout)              (None, 1, 18)        0           ['input_1[0][0]']                \n",
      "                                                                                                  \n",
      " dropout_1 (Dropout)            (None, 1, 5, 18)     0           ['reshape[0][0]']                \n",
      "                                                                                                  \n",
      " dropout_2 (Dropout)            (None, 1, 5, 18)     0           ['reshape_1[0][0]']              \n",
      "                                                                                                  \n",
      " dropout_3 (Dropout)            (None, 5, 18)        0           ['input_2[0][0]']                \n",
      "                                                                                                  \n",
      " dropout_4 (Dropout)            (None, 5, 2, 18)     0           ['reshape_2[0][0]']              \n",
      "                                                                                                  \n",
      " dropout_5 (Dropout)            (None, 5, 2, 18)     0           ['reshape_3[0][0]']              \n",
      "                                                                                                  \n",
      " dropout_6 (Dropout)            (None, 5, 18)        0           ['input_3[0][0]']                \n",
      "                                                                                                  \n",
      " dropout_7 (Dropout)            (None, 5, 2, 18)     0           ['reshape_4[0][0]']              \n",
      "                                                                                                  \n",
      " dropout_8 (Dropout)            (None, 5, 2, 18)     0           ['reshape_5[0][0]']              \n",
      "                                                                                                  \n",
      " mean_aggregator (MeanAggregato  multiple            608         ['dropout[0][0]',                \n",
      " r)                                                               'dropout_1[0][0]',              \n",
      "                                                                  'dropout_2[0][0]',              \n",
      "                                                                  'dropout_3[0][0]',              \n",
      "                                                                  'dropout_4[0][0]',              \n",
      "                                                                  'dropout_5[0][0]',              \n",
      "                                                                  'dropout_6[0][0]',              \n",
      "                                                                  'dropout_7[0][0]',              \n",
      "                                                                  'dropout_8[0][0]']              \n",
      "                                                                                                  \n",
      " reshape_6 (Reshape)            (None, 1, 5, 32)     0           ['mean_aggregator[1][0]']        \n",
      "                                                                                                  \n",
      " reshape_7 (Reshape)            (None, 1, 5, 32)     0           ['mean_aggregator[2][0]']        \n",
      "                                                                                                  \n",
      " dropout_9 (Dropout)            (None, 1, 32)        0           ['mean_aggregator[0][0]']        \n",
      "                                                                                                  \n",
      " dropout_10 (Dropout)           (None, 1, 5, 32)     0           ['reshape_6[0][0]']              \n",
      "                                                                                                  \n",
      " dropout_11 (Dropout)           (None, 1, 5, 32)     0           ['reshape_7[0][0]']              \n",
      "                                                                                                  \n",
      " mean_aggregator_1 (MeanAggrega  (None, 1, 32)       1056        ['dropout_9[0][0]',              \n",
      " tor)                                                             'dropout_10[0][0]',             \n",
      "                                                                  'dropout_11[0][0]']             \n",
      "                                                                                                  \n",
      " reshape_8 (Reshape)            (None, 32)           0           ['mean_aggregator_1[0][0]']      \n",
      "                                                                                                  \n",
      " lambda (Lambda)                (None, 32)           0           ['reshape_8[0][0]']              \n",
      "                                                                                                  \n",
      " dense (Dense)                  (None, 4)            132         ['lambda[0][0]']                 \n",
      "                                                                                                  \n",
      "==================================================================================================\n",
      "Total params: 1,796\n",
      "Trainable params: 1,796\n",
      "Non-trainable params: 0\n",
      "__________________________________________________________________________________________________\n",
      "None\n"
     ]
    }
   ],
   "source": [
    "model = Model(inputs=x_inp, outputs=prediction)\n",
    "model.compile(\n",
    "    optimizer = optimizers.Adam(learning_rate=1e-04),\n",
    "    loss = losses.categorical_crossentropy, #weighted_categorical_crossentropy(weights)\n",
    "    metrics = [\n",
    "        metrics.AUC(),\n",
    "        metrics.CategoricalAccuracy(),\n",
    "    ] #= ['accuracy'],\n",
    ")\n",
    "\n",
    "print(model.summary())"
   ]
  },
  {
   "cell_type": "markdown",
   "metadata": {
    "id": "AL8BJ1Z_7EOl"
   },
   "source": [
    "Train the model, keeping track of its loss and accuracy on the training set, and its generalisation performance on the validation set."
   ]
  },
  {
   "cell_type": "code",
   "execution_count": 27,
   "metadata": {
    "colab": {
     "base_uri": "https://localhost:8080/"
    },
    "executionInfo": {
     "elapsed": 1892855,
     "status": "ok",
     "timestamp": 1653299732479,
     "user": {
      "displayName": "Vitor Faria",
      "userId": "10491360195309454196"
     },
     "user_tz": 180
    },
    "id": "rovZ_BvA7EOm",
    "outputId": "209c199e-1bb8-42ad-d65e-c59de5e08349"
   },
   "outputs": [
    {
     "name": "stdout",
     "output_type": "stream",
     "text": [
      "Epoch 1/100\n",
      "330/330 [==============================] - ETA: 0s - loss: 1.3758 - auc: 0.3919 - categorical_accuracy: 0.2113\n",
      "Epoch 1: val_categorical_accuracy improved from -inf to 0.21913, saving model to graphsage_directed_extra_feat.hdf5\n",
      "330/330 [==============================] - 36s 99ms/step - loss: 1.3758 - auc: 0.3919 - categorical_accuracy: 0.2113 - val_loss: 1.3929 - val_auc: 0.4630 - val_categorical_accuracy: 0.2191\n",
      "Epoch 2/100\n",
      "330/330 [==============================] - ETA: 0s - loss: 1.3323 - auc: 0.5425 - categorical_accuracy: 0.2554\n",
      "Epoch 2: val_categorical_accuracy improved from 0.21913 to 0.28119, saving model to graphsage_directed_extra_feat.hdf5\n",
      "330/330 [==============================] - 16s 50ms/step - loss: 1.3323 - auc: 0.5425 - categorical_accuracy: 0.2554 - val_loss: 1.3447 - val_auc: 0.5641 - val_categorical_accuracy: 0.2812\n",
      "Epoch 3/100\n",
      "330/330 [==============================] - ETA: 0s - loss: 1.2978 - auc: 0.6131 - categorical_accuracy: 0.3144\n",
      "Epoch 3: val_categorical_accuracy improved from 0.28119 to 0.32130, saving model to graphsage_directed_extra_feat.hdf5\n",
      "330/330 [==============================] - 14s 43ms/step - loss: 1.2978 - auc: 0.6131 - categorical_accuracy: 0.3144 - val_loss: 1.3095 - val_auc: 0.5999 - val_categorical_accuracy: 0.3213\n",
      "Epoch 4/100\n",
      "330/330 [==============================] - ETA: 0s - loss: 1.2650 - auc: 0.6462 - categorical_accuracy: 0.3583\n",
      "Epoch 4: val_categorical_accuracy improved from 0.32130 to 0.38843, saving model to graphsage_directed_extra_feat.hdf5\n",
      "330/330 [==============================] - 17s 50ms/step - loss: 1.2650 - auc: 0.6462 - categorical_accuracy: 0.3583 - val_loss: 1.2715 - val_auc: 0.6592 - val_categorical_accuracy: 0.3884\n",
      "Epoch 5/100\n",
      "330/330 [==============================] - ETA: 0s - loss: 1.2368 - auc: 0.6991 - categorical_accuracy: 0.4343\n",
      "Epoch 5: val_categorical_accuracy improved from 0.38843 to 0.43361, saving model to graphsage_directed_extra_feat.hdf5\n",
      "330/330 [==============================] - 17s 50ms/step - loss: 1.2368 - auc: 0.6991 - categorical_accuracy: 0.4343 - val_loss: 1.2438 - val_auc: 0.6920 - val_categorical_accuracy: 0.4336\n",
      "Epoch 6/100\n",
      "329/330 [============================>.] - ETA: 0s - loss: 1.2089 - auc: 0.7241 - categorical_accuracy: 0.4636\n",
      "Epoch 6: val_categorical_accuracy improved from 0.43361 to 0.49884, saving model to graphsage_directed_extra_feat.hdf5\n",
      "330/330 [==============================] - 16s 50ms/step - loss: 1.2087 - auc: 0.7242 - categorical_accuracy: 0.4637 - val_loss: 1.2112 - val_auc: 0.7330 - val_categorical_accuracy: 0.4988\n",
      "Epoch 7/100\n",
      "329/330 [============================>.] - ETA: 0s - loss: 1.1783 - auc: 0.7439 - categorical_accuracy: 0.4920\n",
      "Epoch 7: val_categorical_accuracy improved from 0.49884 to 0.53093, saving model to graphsage_directed_extra_feat.hdf5\n",
      "330/330 [==============================] - 17s 51ms/step - loss: 1.1791 - auc: 0.7440 - categorical_accuracy: 0.4921 - val_loss: 1.1769 - val_auc: 0.7601 - val_categorical_accuracy: 0.5309\n",
      "Epoch 8/100\n",
      "330/330 [==============================] - ETA: 0s - loss: 1.1495 - auc: 0.7621 - categorical_accuracy: 0.5111\n",
      "Epoch 8: val_categorical_accuracy improved from 0.53093 to 0.53367, saving model to graphsage_directed_extra_feat.hdf5\n",
      "330/330 [==============================] - 17s 50ms/step - loss: 1.1495 - auc: 0.7621 - categorical_accuracy: 0.5111 - val_loss: 1.1437 - val_auc: 0.7773 - val_categorical_accuracy: 0.5337\n",
      "Epoch 9/100\n",
      "330/330 [==============================] - ETA: 0s - loss: 1.1221 - auc: 0.7753 - categorical_accuracy: 0.5130\n",
      "Epoch 9: val_categorical_accuracy did not improve from 0.53367\n",
      "330/330 [==============================] - 16s 50ms/step - loss: 1.1221 - auc: 0.7753 - categorical_accuracy: 0.5130 - val_loss: 1.1301 - val_auc: 0.7719 - val_categorical_accuracy: 0.5153\n",
      "Epoch 10/100\n",
      "330/330 [==============================] - ETA: 0s - loss: 1.0961 - auc: 0.7778 - categorical_accuracy: 0.5067\n",
      "Epoch 10: val_categorical_accuracy did not improve from 0.53367\n",
      "330/330 [==============================] - 17s 50ms/step - loss: 1.0961 - auc: 0.7778 - categorical_accuracy: 0.5067 - val_loss: 1.1119 - val_auc: 0.7767 - val_categorical_accuracy: 0.5183\n",
      "Epoch 11/100\n",
      "330/330 [==============================] - ETA: 0s - loss: 1.0748 - auc: 0.7791 - categorical_accuracy: 0.4987\n",
      "Epoch 11: val_categorical_accuracy did not improve from 0.53367\n",
      "330/330 [==============================] - 16s 50ms/step - loss: 1.0748 - auc: 0.7791 - categorical_accuracy: 0.4987 - val_loss: 1.0855 - val_auc: 0.7900 - val_categorical_accuracy: 0.5235\n",
      "Epoch 12/100\n",
      "330/330 [==============================] - ETA: 0s - loss: 1.0553 - auc: 0.7860 - categorical_accuracy: 0.5081\n",
      "Epoch 12: val_categorical_accuracy did not improve from 0.53367\n",
      "330/330 [==============================] - 14s 43ms/step - loss: 1.0553 - auc: 0.7860 - categorical_accuracy: 0.5081 - val_loss: 1.0688 - val_auc: 0.7947 - val_categorical_accuracy: 0.5174\n",
      "Epoch 13/100\n",
      "329/330 [============================>.] - ETA: 0s - loss: 1.0418 - auc: 0.7897 - categorical_accuracy: 0.5113\n",
      "Epoch 13: val_categorical_accuracy improved from 0.53367 to 0.53578, saving model to graphsage_directed_extra_feat.hdf5\n",
      "330/330 [==============================] - 17s 50ms/step - loss: 1.0418 - auc: 0.7895 - categorical_accuracy: 0.5113 - val_loss: 1.0556 - val_auc: 0.8013 - val_categorical_accuracy: 0.5358\n",
      "Epoch 14/100\n",
      "330/330 [==============================] - ETA: 0s - loss: 1.0247 - auc: 0.7954 - categorical_accuracy: 0.5184\n",
      "Epoch 14: val_categorical_accuracy improved from 0.53578 to 0.54359, saving model to graphsage_directed_extra_feat.hdf5\n",
      "330/330 [==============================] - 17s 50ms/step - loss: 1.0247 - auc: 0.7954 - categorical_accuracy: 0.5184 - val_loss: 1.0374 - val_auc: 0.8093 - val_categorical_accuracy: 0.5436\n",
      "Epoch 15/100\n",
      "330/330 [==============================] - ETA: 0s - loss: 1.0151 - auc: 0.8010 - categorical_accuracy: 0.5274\n",
      "Epoch 15: val_categorical_accuracy improved from 0.54359 to 0.55204, saving model to graphsage_directed_extra_feat.hdf5\n",
      "330/330 [==============================] - 17s 50ms/step - loss: 1.0151 - auc: 0.8010 - categorical_accuracy: 0.5274 - val_loss: 1.0257 - val_auc: 0.8138 - val_categorical_accuracy: 0.5520\n",
      "Epoch 16/100\n",
      "329/330 [============================>.] - ETA: 0s - loss: 1.0066 - auc: 0.8045 - categorical_accuracy: 0.5269\n",
      "Epoch 16: val_categorical_accuracy did not improve from 0.55204\n",
      "330/330 [==============================] - 17s 51ms/step - loss: 1.0065 - auc: 0.8045 - categorical_accuracy: 0.5269 - val_loss: 1.0248 - val_auc: 0.8136 - val_categorical_accuracy: 0.5495\n",
      "Epoch 17/100\n",
      "330/330 [==============================] - ETA: 0s - loss: 0.9986 - auc: 0.8048 - categorical_accuracy: 0.5287\n",
      "Epoch 17: val_categorical_accuracy improved from 0.55204 to 0.56006, saving model to graphsage_directed_extra_feat.hdf5\n",
      "330/330 [==============================] - 17s 51ms/step - loss: 0.9986 - auc: 0.8048 - categorical_accuracy: 0.5287 - val_loss: 1.0054 - val_auc: 0.8213 - val_categorical_accuracy: 0.5601\n",
      "Epoch 18/100\n",
      "330/330 [==============================] - ETA: 0s - loss: 0.9948 - auc: 0.8098 - categorical_accuracy: 0.5389\n",
      "Epoch 18: val_categorical_accuracy improved from 0.56006 to 0.56090, saving model to graphsage_directed_extra_feat.hdf5\n",
      "330/330 [==============================] - 14s 43ms/step - loss: 0.9948 - auc: 0.8098 - categorical_accuracy: 0.5389 - val_loss: 1.0093 - val_auc: 0.8196 - val_categorical_accuracy: 0.5609\n",
      "Epoch 19/100\n",
      "330/330 [==============================] - ETA: 0s - loss: 0.9889 - auc: 0.8099 - categorical_accuracy: 0.5450\n",
      "Epoch 19: val_categorical_accuracy improved from 0.56090 to 0.56935, saving model to graphsage_directed_extra_feat.hdf5\n",
      "330/330 [==============================] - 14s 43ms/step - loss: 0.9889 - auc: 0.8099 - categorical_accuracy: 0.5450 - val_loss: 0.9992 - val_auc: 0.8240 - val_categorical_accuracy: 0.5693\n",
      "Epoch 20/100\n",
      "329/330 [============================>.] - ETA: 0s - loss: 0.9819 - auc: 0.8133 - categorical_accuracy: 0.5476\n",
      "Epoch 20: val_categorical_accuracy did not improve from 0.56935\n",
      "330/330 [==============================] - 17s 50ms/step - loss: 0.9821 - auc: 0.8132 - categorical_accuracy: 0.5473 - val_loss: 0.9975 - val_auc: 0.8243 - val_categorical_accuracy: 0.5639\n",
      "Epoch 21/100\n",
      "329/330 [============================>.] - ETA: 0s - loss: 0.9817 - auc: 0.8137 - categorical_accuracy: 0.5449\n",
      "Epoch 21: val_categorical_accuracy did not improve from 0.56935\n",
      "330/330 [==============================] - 17s 51ms/step - loss: 0.9823 - auc: 0.8137 - categorical_accuracy: 0.5446 - val_loss: 0.9961 - val_auc: 0.8255 - val_categorical_accuracy: 0.5664\n",
      "Epoch 22/100\n",
      "329/330 [============================>.] - ETA: 0s - loss: 0.9731 - auc: 0.8175 - categorical_accuracy: 0.5499\n",
      "Epoch 22: val_categorical_accuracy improved from 0.56935 to 0.57674, saving model to graphsage_directed_extra_feat.hdf5\n",
      "330/330 [==============================] - 17s 50ms/step - loss: 0.9724 - auc: 0.8175 - categorical_accuracy: 0.5497 - val_loss: 0.9912 - val_auc: 0.8270 - val_categorical_accuracy: 0.5767\n",
      "Epoch 23/100\n",
      "330/330 [==============================] - ETA: 0s - loss: 0.9705 - auc: 0.8196 - categorical_accuracy: 0.5547\n",
      "Epoch 23: val_categorical_accuracy improved from 0.57674 to 0.57885, saving model to graphsage_directed_extra_feat.hdf5\n",
      "330/330 [==============================] - 14s 43ms/step - loss: 0.9705 - auc: 0.8196 - categorical_accuracy: 0.5547 - val_loss: 0.9917 - val_auc: 0.8276 - val_categorical_accuracy: 0.5788\n",
      "Epoch 24/100\n",
      "329/330 [============================>.] - ETA: 0s - loss: 0.9665 - auc: 0.8177 - categorical_accuracy: 0.5536\n",
      "Epoch 24: val_categorical_accuracy improved from 0.57885 to 0.58434, saving model to graphsage_directed_extra_feat.hdf5\n",
      "330/330 [==============================] - 17s 50ms/step - loss: 0.9666 - auc: 0.8176 - categorical_accuracy: 0.5536 - val_loss: 0.9637 - val_auc: 0.8378 - val_categorical_accuracy: 0.5843\n",
      "Epoch 25/100\n",
      "329/330 [============================>.] - ETA: 0s - loss: 0.9639 - auc: 0.8248 - categorical_accuracy: 0.5625\n",
      "Epoch 25: val_categorical_accuracy did not improve from 0.58434\n",
      "330/330 [==============================] - 17s 50ms/step - loss: 0.9648 - auc: 0.8249 - categorical_accuracy: 0.5624 - val_loss: 0.9894 - val_auc: 0.8284 - val_categorical_accuracy: 0.5816\n",
      "Epoch 26/100\n",
      "330/330 [==============================] - ETA: 0s - loss: 0.9565 - auc: 0.8236 - categorical_accuracy: 0.5578\n",
      "Epoch 26: val_categorical_accuracy did not improve from 0.58434\n",
      "330/330 [==============================] - 17s 51ms/step - loss: 0.9565 - auc: 0.8236 - categorical_accuracy: 0.5578 - val_loss: 0.9802 - val_auc: 0.8318 - val_categorical_accuracy: 0.5810\n",
      "Epoch 27/100\n",
      "330/330 [==============================] - ETA: 0s - loss: 0.9594 - auc: 0.8211 - categorical_accuracy: 0.5552\n",
      "Epoch 27: val_categorical_accuracy improved from 0.58434 to 0.58539, saving model to graphsage_directed_extra_feat.hdf5\n",
      "330/330 [==============================] - 14s 43ms/step - loss: 0.9594 - auc: 0.8211 - categorical_accuracy: 0.5552 - val_loss: 0.9668 - val_auc: 0.8368 - val_categorical_accuracy: 0.5854\n",
      "Epoch 28/100\n",
      "329/330 [============================>.] - ETA: 0s - loss: 0.9510 - auc: 0.8254 - categorical_accuracy: 0.5634\n",
      "Epoch 28: val_categorical_accuracy improved from 0.58539 to 0.59468, saving model to graphsage_directed_extra_feat.hdf5\n",
      "330/330 [==============================] - 17s 50ms/step - loss: 0.9513 - auc: 0.8255 - categorical_accuracy: 0.5635 - val_loss: 0.9567 - val_auc: 0.8404 - val_categorical_accuracy: 0.5947\n",
      "Epoch 29/100\n",
      "330/330 [==============================] - ETA: 0s - loss: 0.9585 - auc: 0.8247 - categorical_accuracy: 0.5584\n",
      "Epoch 29: val_categorical_accuracy did not improve from 0.59468\n",
      "330/330 [==============================] - 17s 50ms/step - loss: 0.9585 - auc: 0.8247 - categorical_accuracy: 0.5584 - val_loss: 0.9738 - val_auc: 0.8340 - val_categorical_accuracy: 0.5824\n",
      "Epoch 30/100\n",
      "329/330 [============================>.] - ETA: 0s - loss: 0.9478 - auc: 0.8295 - categorical_accuracy: 0.5711\n",
      "Epoch 30: val_categorical_accuracy did not improve from 0.59468\n",
      "330/330 [==============================] - 17s 50ms/step - loss: 0.9477 - auc: 0.8297 - categorical_accuracy: 0.5716 - val_loss: 0.9591 - val_auc: 0.8400 - val_categorical_accuracy: 0.5945\n",
      "Epoch 31/100\n",
      "330/330 [==============================] - ETA: 0s - loss: 0.9504 - auc: 0.8281 - categorical_accuracy: 0.5664\n",
      "Epoch 31: val_categorical_accuracy improved from 0.59468 to 0.60122, saving model to graphsage_directed_extra_feat.hdf5\n",
      "330/330 [==============================] - 14s 43ms/step - loss: 0.9504 - auc: 0.8281 - categorical_accuracy: 0.5664 - val_loss: 0.9405 - val_auc: 0.8465 - val_categorical_accuracy: 0.6012\n",
      "Epoch 32/100\n",
      "329/330 [============================>.] - ETA: 0s - loss: 0.9423 - auc: 0.8318 - categorical_accuracy: 0.5750\n",
      "Epoch 32: val_categorical_accuracy did not improve from 0.60122\n",
      "330/330 [==============================] - 17s 51ms/step - loss: 0.9424 - auc: 0.8318 - categorical_accuracy: 0.5753 - val_loss: 0.9623 - val_auc: 0.8386 - val_categorical_accuracy: 0.5883\n",
      "Epoch 33/100\n",
      "329/330 [============================>.] - ETA: 0s - loss: 0.9377 - auc: 0.8321 - categorical_accuracy: 0.5747\n",
      "Epoch 33: val_categorical_accuracy did not improve from 0.60122\n",
      "330/330 [==============================] - 17s 51ms/step - loss: 0.9378 - auc: 0.8323 - categorical_accuracy: 0.5748 - val_loss: 0.9436 - val_auc: 0.8445 - val_categorical_accuracy: 0.5913\n",
      "Epoch 34/100\n",
      "329/330 [============================>.] - ETA: 0s - loss: 0.9388 - auc: 0.8339 - categorical_accuracy: 0.5728\n",
      "Epoch 34: val_categorical_accuracy did not improve from 0.60122\n",
      "330/330 [==============================] - 17s 50ms/step - loss: 0.9382 - auc: 0.8339 - categorical_accuracy: 0.5730 - val_loss: 0.9361 - val_auc: 0.8477 - val_categorical_accuracy: 0.6012\n",
      "Epoch 35/100\n",
      "330/330 [==============================] - ETA: 0s - loss: 0.9340 - auc: 0.8342 - categorical_accuracy: 0.5766\n",
      "Epoch 35: val_categorical_accuracy did not improve from 0.60122\n",
      "330/330 [==============================] - 14s 42ms/step - loss: 0.9340 - auc: 0.8342 - categorical_accuracy: 0.5766 - val_loss: 0.9634 - val_auc: 0.8382 - val_categorical_accuracy: 0.5892\n",
      "Epoch 36/100\n",
      "329/330 [============================>.] - ETA: 0s - loss: 0.9391 - auc: 0.8318 - categorical_accuracy: 0.5666\n",
      "Epoch 36: val_categorical_accuracy did not improve from 0.60122\n",
      "330/330 [==============================] - 14s 43ms/step - loss: 0.9400 - auc: 0.8317 - categorical_accuracy: 0.5666 - val_loss: 0.9477 - val_auc: 0.8438 - val_categorical_accuracy: 0.5934\n",
      "Epoch 37/100\n",
      "329/330 [============================>.] - ETA: 0s - loss: 0.9327 - auc: 0.8359 - categorical_accuracy: 0.5758\n",
      "Epoch 37: val_categorical_accuracy did not improve from 0.60122\n",
      "330/330 [==============================] - 17s 50ms/step - loss: 0.9321 - auc: 0.8361 - categorical_accuracy: 0.5760 - val_loss: 0.9396 - val_auc: 0.8463 - val_categorical_accuracy: 0.5940\n",
      "Epoch 38/100\n",
      "329/330 [============================>.] - ETA: 0s - loss: 0.9345 - auc: 0.8341 - categorical_accuracy: 0.5735\n",
      "Epoch 38: val_categorical_accuracy did not improve from 0.60122\n",
      "330/330 [==============================] - 17s 51ms/step - loss: 0.9352 - auc: 0.8341 - categorical_accuracy: 0.5736 - val_loss: 0.9323 - val_auc: 0.8489 - val_categorical_accuracy: 0.5985\n",
      "Epoch 39/100\n",
      "330/330 [==============================] - ETA: 0s - loss: 0.9334 - auc: 0.8358 - categorical_accuracy: 0.5762\n",
      "Epoch 39: val_categorical_accuracy did not improve from 0.60122\n",
      "330/330 [==============================] - 17s 50ms/step - loss: 0.9334 - auc: 0.8358 - categorical_accuracy: 0.5762 - val_loss: 0.9337 - val_auc: 0.8479 - val_categorical_accuracy: 0.5997\n",
      "Epoch 40/100\n",
      "329/330 [============================>.] - ETA: 0s - loss: 0.9315 - auc: 0.8370 - categorical_accuracy: 0.5790\n",
      "Epoch 40: val_categorical_accuracy did not improve from 0.60122\n",
      "330/330 [==============================] - 17s 50ms/step - loss: 0.9312 - auc: 0.8370 - categorical_accuracy: 0.5789 - val_loss: 0.9380 - val_auc: 0.8466 - val_categorical_accuracy: 0.6004\n",
      "Epoch 41/100\n",
      "329/330 [============================>.] - ETA: 0s - loss: 0.9329 - auc: 0.8333 - categorical_accuracy: 0.5719\n",
      "Epoch 41: val_categorical_accuracy did not improve from 0.60122\n",
      "330/330 [==============================] - 17s 50ms/step - loss: 0.9345 - auc: 0.8333 - categorical_accuracy: 0.5720 - val_loss: 0.9533 - val_auc: 0.8413 - val_categorical_accuracy: 0.5926\n",
      "Epoch 42/100\n",
      "330/330 [==============================] - ETA: 0s - loss: 0.9325 - auc: 0.8345 - categorical_accuracy: 0.5718\n",
      "Epoch 42: val_categorical_accuracy did not improve from 0.60122\n",
      "330/330 [==============================] - 17s 51ms/step - loss: 0.9325 - auc: 0.8345 - categorical_accuracy: 0.5718 - val_loss: 0.9375 - val_auc: 0.8471 - val_categorical_accuracy: 0.5985\n",
      "Epoch 43/100\n",
      "329/330 [============================>.] - ETA: 0s - loss: 0.9322 - auc: 0.8344 - categorical_accuracy: 0.5740\n",
      "Epoch 43: val_categorical_accuracy did not improve from 0.60122\n",
      "330/330 [==============================] - 17s 51ms/step - loss: 0.9344 - auc: 0.8342 - categorical_accuracy: 0.5737 - val_loss: 0.9285 - val_auc: 0.8490 - val_categorical_accuracy: 0.5928\n",
      "Epoch 44/100\n",
      "329/330 [============================>.] - ETA: 0s - loss: 0.9276 - auc: 0.8388 - categorical_accuracy: 0.5821\n",
      "Epoch 44: val_categorical_accuracy improved from 0.60122 to 0.60481, saving model to graphsage_directed_extra_feat.hdf5\n",
      "330/330 [==============================] - 17s 50ms/step - loss: 0.9279 - auc: 0.8388 - categorical_accuracy: 0.5819 - val_loss: 0.9188 - val_auc: 0.8527 - val_categorical_accuracy: 0.6048\n",
      "Epoch 45/100\n",
      "329/330 [============================>.] - ETA: 0s - loss: 0.9212 - auc: 0.8412 - categorical_accuracy: 0.5842\n",
      "Epoch 45: val_categorical_accuracy did not improve from 0.60481\n",
      "330/330 [==============================] - 17s 51ms/step - loss: 0.9219 - auc: 0.8413 - categorical_accuracy: 0.5843 - val_loss: 0.9550 - val_auc: 0.8405 - val_categorical_accuracy: 0.5896\n",
      "Epoch 46/100\n",
      "330/330 [==============================] - ETA: 0s - loss: 0.9358 - auc: 0.8336 - categorical_accuracy: 0.5733\n",
      "Epoch 46: val_categorical_accuracy did not improve from 0.60481\n",
      "330/330 [==============================] - 17s 50ms/step - loss: 0.9358 - auc: 0.8336 - categorical_accuracy: 0.5733 - val_loss: 0.9319 - val_auc: 0.8489 - val_categorical_accuracy: 0.5985\n",
      "Epoch 47/100\n",
      "329/330 [============================>.] - ETA: 0s - loss: 0.9305 - auc: 0.8373 - categorical_accuracy: 0.5796\n",
      "Epoch 47: val_categorical_accuracy did not improve from 0.60481\n",
      "330/330 [==============================] - 17s 51ms/step - loss: 0.9308 - auc: 0.8373 - categorical_accuracy: 0.5795 - val_loss: 0.9245 - val_auc: 0.8505 - val_categorical_accuracy: 0.6006\n",
      "Epoch 48/100\n",
      "330/330 [==============================] - ETA: 0s - loss: 0.9243 - auc: 0.8394 - categorical_accuracy: 0.5814\n",
      "Epoch 48: val_categorical_accuracy did not improve from 0.60481\n",
      "330/330 [==============================] - 17s 51ms/step - loss: 0.9243 - auc: 0.8394 - categorical_accuracy: 0.5814 - val_loss: 0.9488 - val_auc: 0.8427 - val_categorical_accuracy: 0.5900\n",
      "Epoch 49/100\n",
      "329/330 [============================>.] - ETA: 0s - loss: 0.9206 - auc: 0.8391 - categorical_accuracy: 0.5812\n",
      "Epoch 49: val_categorical_accuracy improved from 0.60481 to 0.61051, saving model to graphsage_directed_extra_feat.hdf5\n",
      "330/330 [==============================] - 17s 51ms/step - loss: 0.9214 - auc: 0.8391 - categorical_accuracy: 0.5812 - val_loss: 0.9084 - val_auc: 0.8558 - val_categorical_accuracy: 0.6105\n",
      "Epoch 50/100\n",
      "330/330 [==============================] - ETA: 0s - loss: 0.9210 - auc: 0.8413 - categorical_accuracy: 0.5845\n",
      "Epoch 50: val_categorical_accuracy did not improve from 0.61051\n",
      "330/330 [==============================] - 16s 50ms/step - loss: 0.9210 - auc: 0.8413 - categorical_accuracy: 0.5845 - val_loss: 0.9163 - val_auc: 0.8534 - val_categorical_accuracy: 0.6052\n",
      "Epoch 51/100\n",
      "330/330 [==============================] - ETA: 0s - loss: 0.9142 - auc: 0.8422 - categorical_accuracy: 0.5849\n",
      "Epoch 51: val_categorical_accuracy did not improve from 0.61051\n",
      "330/330 [==============================] - 17s 51ms/step - loss: 0.9142 - auc: 0.8422 - categorical_accuracy: 0.5849 - val_loss: 0.9295 - val_auc: 0.8491 - val_categorical_accuracy: 0.5962\n",
      "Epoch 52/100\n",
      "330/330 [==============================] - ETA: 0s - loss: 0.9184 - auc: 0.8410 - categorical_accuracy: 0.5829\n",
      "Epoch 52: val_categorical_accuracy did not improve from 0.61051\n",
      "330/330 [==============================] - 17s 50ms/step - loss: 0.9184 - auc: 0.8410 - categorical_accuracy: 0.5829 - val_loss: 0.9351 - val_auc: 0.8476 - val_categorical_accuracy: 0.5997\n",
      "Epoch 53/100\n",
      "329/330 [============================>.] - ETA: 0s - loss: 0.9248 - auc: 0.8383 - categorical_accuracy: 0.5811\n",
      "Epoch 53: val_categorical_accuracy did not improve from 0.61051\n",
      "330/330 [==============================] - 14s 43ms/step - loss: 0.9241 - auc: 0.8384 - categorical_accuracy: 0.5814 - val_loss: 0.9263 - val_auc: 0.8502 - val_categorical_accuracy: 0.6012\n",
      "Epoch 54/100\n",
      "330/330 [==============================] - ETA: 0s - loss: 0.9198 - auc: 0.8436 - categorical_accuracy: 0.5865\n",
      "Epoch 54: val_categorical_accuracy did not improve from 0.61051\n",
      "330/330 [==============================] - 14s 44ms/step - loss: 0.9198 - auc: 0.8436 - categorical_accuracy: 0.5865 - val_loss: 0.9367 - val_auc: 0.8465 - val_categorical_accuracy: 0.5959\n",
      "Epoch 55/100\n",
      "329/330 [============================>.] - ETA: 0s - loss: 0.9172 - auc: 0.8409 - categorical_accuracy: 0.5828\n",
      "Epoch 55: val_categorical_accuracy did not improve from 0.61051\n",
      "330/330 [==============================] - 17s 50ms/step - loss: 0.9169 - auc: 0.8409 - categorical_accuracy: 0.5829 - val_loss: 0.9451 - val_auc: 0.8449 - val_categorical_accuracy: 0.5972\n",
      "Epoch 56/100\n",
      "330/330 [==============================] - ETA: 0s - loss: 0.9118 - auc: 0.8423 - categorical_accuracy: 0.5827\n",
      "Epoch 56: val_categorical_accuracy did not improve from 0.61051\n",
      "330/330 [==============================] - 17s 51ms/step - loss: 0.9118 - auc: 0.8423 - categorical_accuracy: 0.5827 - val_loss: 0.9271 - val_auc: 0.8502 - val_categorical_accuracy: 0.6040\n",
      "Epoch 57/100\n",
      "329/330 [============================>.] - ETA: 0s - loss: 0.9111 - auc: 0.8426 - categorical_accuracy: 0.5841\n",
      "Epoch 57: val_categorical_accuracy did not improve from 0.61051\n",
      "330/330 [==============================] - 17s 51ms/step - loss: 0.9111 - auc: 0.8427 - categorical_accuracy: 0.5841 - val_loss: 0.9312 - val_auc: 0.8487 - val_categorical_accuracy: 0.5972\n",
      "Epoch 58/100\n",
      "329/330 [============================>.] - ETA: 0s - loss: 0.9221 - auc: 0.8409 - categorical_accuracy: 0.5814\n",
      "Epoch 58: val_categorical_accuracy did not improve from 0.61051\n",
      "330/330 [==============================] - 17s 50ms/step - loss: 0.9215 - auc: 0.8409 - categorical_accuracy: 0.5812 - val_loss: 0.9109 - val_auc: 0.8546 - val_categorical_accuracy: 0.6033\n",
      "Epoch 59/100\n",
      "329/330 [============================>.] - ETA: 0s - loss: 0.9152 - auc: 0.8426 - categorical_accuracy: 0.5834\n",
      "Epoch 59: val_categorical_accuracy did not improve from 0.61051\n",
      "330/330 [==============================] - 17s 51ms/step - loss: 0.9148 - auc: 0.8427 - categorical_accuracy: 0.5839 - val_loss: 0.9223 - val_auc: 0.8503 - val_categorical_accuracy: 0.5970\n",
      "Epoch 60/100\n",
      "330/330 [==============================] - ETA: 0s - loss: 0.9125 - auc: 0.8440 - categorical_accuracy: 0.5820\n",
      "Epoch 60: val_categorical_accuracy did not improve from 0.61051\n",
      "330/330 [==============================] - 17s 51ms/step - loss: 0.9125 - auc: 0.8440 - categorical_accuracy: 0.5820 - val_loss: 0.9171 - val_auc: 0.8537 - val_categorical_accuracy: 0.6090\n",
      "Epoch 61/100\n",
      "330/330 [==============================] - ETA: 0s - loss: 0.9165 - auc: 0.8424 - categorical_accuracy: 0.5838\n",
      "Epoch 61: val_categorical_accuracy did not improve from 0.61051\n",
      "330/330 [==============================] - 17s 51ms/step - loss: 0.9165 - auc: 0.8424 - categorical_accuracy: 0.5838 - val_loss: 0.9165 - val_auc: 0.8532 - val_categorical_accuracy: 0.6027\n",
      "Epoch 62/100\n",
      "330/330 [==============================] - ETA: 0s - loss: 0.9128 - auc: 0.8443 - categorical_accuracy: 0.5884\n",
      "Epoch 62: val_categorical_accuracy did not improve from 0.61051\n",
      "330/330 [==============================] - 17s 51ms/step - loss: 0.9128 - auc: 0.8443 - categorical_accuracy: 0.5884 - val_loss: 0.9079 - val_auc: 0.8560 - val_categorical_accuracy: 0.6103\n",
      "Epoch 63/100\n",
      "330/330 [==============================] - ETA: 0s - loss: 0.9235 - auc: 0.8391 - categorical_accuracy: 0.5806\n",
      "Epoch 63: val_categorical_accuracy did not improve from 0.61051\n",
      "330/330 [==============================] - 17s 51ms/step - loss: 0.9235 - auc: 0.8391 - categorical_accuracy: 0.5806 - val_loss: 0.9160 - val_auc: 0.8535 - val_categorical_accuracy: 0.6025\n",
      "Epoch 64/100\n",
      "329/330 [============================>.] - ETA: 0s - loss: 0.9143 - auc: 0.8425 - categorical_accuracy: 0.5835\n",
      "Epoch 64: val_categorical_accuracy did not improve from 0.61051\n",
      "330/330 [==============================] - 17s 51ms/step - loss: 0.9153 - auc: 0.8422 - categorical_accuracy: 0.5830 - val_loss: 0.9215 - val_auc: 0.8512 - val_categorical_accuracy: 0.5940\n",
      "Epoch 65/100\n",
      "329/330 [============================>.] - ETA: 0s - loss: 0.9118 - auc: 0.8446 - categorical_accuracy: 0.5882\n",
      "Epoch 65: val_categorical_accuracy did not improve from 0.61051\n",
      "330/330 [==============================] - 17s 50ms/step - loss: 0.9122 - auc: 0.8444 - categorical_accuracy: 0.5877 - val_loss: 0.9135 - val_auc: 0.8541 - val_categorical_accuracy: 0.6021\n",
      "Epoch 66/100\n",
      "330/330 [==============================] - ETA: 0s - loss: 0.9140 - auc: 0.8434 - categorical_accuracy: 0.5815\n",
      "Epoch 66: val_categorical_accuracy did not improve from 0.61051\n",
      "330/330 [==============================] - 17s 50ms/step - loss: 0.9140 - auc: 0.8434 - categorical_accuracy: 0.5815 - val_loss: 0.9172 - val_auc: 0.8525 - val_categorical_accuracy: 0.6002\n",
      "Epoch 67/100\n",
      "329/330 [============================>.] - ETA: 0s - loss: 0.9106 - auc: 0.8477 - categorical_accuracy: 0.5921\n",
      "Epoch 67: val_categorical_accuracy did not improve from 0.61051\n",
      "330/330 [==============================] - 17s 50ms/step - loss: 0.9110 - auc: 0.8475 - categorical_accuracy: 0.5918 - val_loss: 0.9369 - val_auc: 0.8468 - val_categorical_accuracy: 0.5976\n",
      "Epoch 68/100\n",
      "330/330 [==============================] - ETA: 0s - loss: 0.9140 - auc: 0.8435 - categorical_accuracy: 0.5880\n",
      "Epoch 68: val_categorical_accuracy did not improve from 0.61051\n",
      "330/330 [==============================] - 17s 51ms/step - loss: 0.9140 - auc: 0.8435 - categorical_accuracy: 0.5880 - val_loss: 0.9108 - val_auc: 0.8546 - val_categorical_accuracy: 0.6031\n",
      "Epoch 69/100\n",
      "330/330 [==============================] - ETA: 0s - loss: 0.9100 - auc: 0.8438 - categorical_accuracy: 0.5889\n",
      "Epoch 69: val_categorical_accuracy did not improve from 0.61051\n",
      "330/330 [==============================] - 17s 51ms/step - loss: 0.9100 - auc: 0.8438 - categorical_accuracy: 0.5889 - val_loss: 0.9029 - val_auc: 0.8569 - val_categorical_accuracy: 0.6061\n",
      "Epoch 70/100\n",
      "330/330 [==============================] - ETA: 0s - loss: 0.9090 - auc: 0.8467 - categorical_accuracy: 0.5877\n",
      "Epoch 70: val_categorical_accuracy did not improve from 0.61051\n",
      "330/330 [==============================] - 17s 51ms/step - loss: 0.9090 - auc: 0.8467 - categorical_accuracy: 0.5877 - val_loss: 0.9125 - val_auc: 0.8539 - val_categorical_accuracy: 0.5949\n",
      "Epoch 71/100\n",
      "330/330 [==============================] - ETA: 0s - loss: 0.9060 - auc: 0.8468 - categorical_accuracy: 0.5881\n",
      "Epoch 71: val_categorical_accuracy did not improve from 0.61051\n",
      "330/330 [==============================] - 14s 44ms/step - loss: 0.9060 - auc: 0.8468 - categorical_accuracy: 0.5881 - val_loss: 0.9336 - val_auc: 0.8479 - val_categorical_accuracy: 0.5981\n",
      "Epoch 72/100\n",
      "329/330 [============================>.] - ETA: 0s - loss: 0.9098 - auc: 0.8436 - categorical_accuracy: 0.5847\n",
      "Epoch 72: val_categorical_accuracy did not improve from 0.61051\n",
      "330/330 [==============================] - 17s 51ms/step - loss: 0.9101 - auc: 0.8434 - categorical_accuracy: 0.5847 - val_loss: 0.9082 - val_auc: 0.8564 - val_categorical_accuracy: 0.6101\n",
      "Epoch 73/100\n",
      "329/330 [============================>.] - ETA: 0s - loss: 0.9072 - auc: 0.8447 - categorical_accuracy: 0.5849\n",
      "Epoch 73: val_categorical_accuracy did not improve from 0.61051\n",
      "330/330 [==============================] - 17s 51ms/step - loss: 0.9068 - auc: 0.8447 - categorical_accuracy: 0.5848 - val_loss: 0.9173 - val_auc: 0.8528 - val_categorical_accuracy: 0.6033\n",
      "Epoch 74/100\n",
      "330/330 [==============================] - ETA: 0s - loss: 0.9071 - auc: 0.8454 - categorical_accuracy: 0.5838\n",
      "Epoch 74: val_categorical_accuracy did not improve from 0.61051\n",
      "330/330 [==============================] - 17s 50ms/step - loss: 0.9071 - auc: 0.8454 - categorical_accuracy: 0.5838 - val_loss: 0.9101 - val_auc: 0.8546 - val_categorical_accuracy: 0.5974\n",
      "Epoch 75/100\n",
      "329/330 [============================>.] - ETA: 0s - loss: 0.9037 - auc: 0.8463 - categorical_accuracy: 0.5901\n",
      "Epoch 75: val_categorical_accuracy did not improve from 0.61051\n",
      "330/330 [==============================] - 17s 51ms/step - loss: 0.9048 - auc: 0.8462 - categorical_accuracy: 0.5900 - val_loss: 0.8976 - val_auc: 0.8594 - val_categorical_accuracy: 0.6092\n",
      "Epoch 76/100\n",
      "330/330 [==============================] - ETA: 0s - loss: 0.9095 - auc: 0.8446 - categorical_accuracy: 0.5821\n",
      "Epoch 76: val_categorical_accuracy did not improve from 0.61051\n",
      "330/330 [==============================] - 14s 44ms/step - loss: 0.9095 - auc: 0.8446 - categorical_accuracy: 0.5821 - val_loss: 0.9254 - val_auc: 0.8504 - val_categorical_accuracy: 0.5943\n",
      "Epoch 77/100\n",
      "329/330 [============================>.] - ETA: 0s - loss: 0.9095 - auc: 0.8463 - categorical_accuracy: 0.5906\n",
      "Epoch 77: val_categorical_accuracy did not improve from 0.61051\n",
      "330/330 [==============================] - 17s 51ms/step - loss: 0.9105 - auc: 0.8462 - categorical_accuracy: 0.5904 - val_loss: 0.9105 - val_auc: 0.8540 - val_categorical_accuracy: 0.5974\n",
      "Epoch 78/100\n",
      "330/330 [==============================] - ETA: 0s - loss: 0.9045 - auc: 0.8485 - categorical_accuracy: 0.5891\n",
      "Epoch 78: val_categorical_accuracy did not improve from 0.61051\n",
      "330/330 [==============================] - 17s 51ms/step - loss: 0.9045 - auc: 0.8485 - categorical_accuracy: 0.5891 - val_loss: 0.9125 - val_auc: 0.8541 - val_categorical_accuracy: 0.6004\n",
      "Epoch 79/100\n",
      "330/330 [==============================] - ETA: 0s - loss: 0.9109 - auc: 0.8453 - categorical_accuracy: 0.5895\n",
      "Epoch 79: val_categorical_accuracy did not improve from 0.61051\n",
      "330/330 [==============================] - 14s 43ms/step - loss: 0.9109 - auc: 0.8453 - categorical_accuracy: 0.5895 - val_loss: 0.9148 - val_auc: 0.8535 - val_categorical_accuracy: 0.5997\n",
      "Epoch 80/100\n",
      "329/330 [============================>.] - ETA: 0s - loss: 0.9063 - auc: 0.8461 - categorical_accuracy: 0.5890\n",
      "Epoch 80: val_categorical_accuracy did not improve from 0.61051\n",
      "330/330 [==============================] - 17s 50ms/step - loss: 0.9058 - auc: 0.8462 - categorical_accuracy: 0.5892 - val_loss: 0.8980 - val_auc: 0.8585 - val_categorical_accuracy: 0.6071\n",
      "Epoch 81/100\n",
      "330/330 [==============================] - ETA: 0s - loss: 0.9075 - auc: 0.8465 - categorical_accuracy: 0.5880\n",
      "Epoch 81: val_categorical_accuracy did not improve from 0.61051\n",
      "330/330 [==============================] - 14s 43ms/step - loss: 0.9075 - auc: 0.8465 - categorical_accuracy: 0.5880 - val_loss: 0.9220 - val_auc: 0.8509 - val_categorical_accuracy: 0.5953\n",
      "Epoch 82/100\n",
      "330/330 [==============================] - ETA: 0s - loss: 0.9022 - auc: 0.8487 - categorical_accuracy: 0.5918\n",
      "Epoch 82: val_categorical_accuracy did not improve from 0.61051\n",
      "330/330 [==============================] - 17s 51ms/step - loss: 0.9022 - auc: 0.8487 - categorical_accuracy: 0.5918 - val_loss: 0.9298 - val_auc: 0.8484 - val_categorical_accuracy: 0.5955\n",
      "Epoch 83/100\n",
      "329/330 [============================>.] - ETA: 0s - loss: 0.9021 - auc: 0.8470 - categorical_accuracy: 0.5905\n",
      "Epoch 83: val_categorical_accuracy did not improve from 0.61051\n",
      "330/330 [==============================] - 17s 51ms/step - loss: 0.9025 - auc: 0.8468 - categorical_accuracy: 0.5901 - val_loss: 0.9314 - val_auc: 0.8486 - val_categorical_accuracy: 0.6012\n",
      "Epoch 84/100\n",
      "329/330 [============================>.] - ETA: 0s - loss: 0.9029 - auc: 0.8462 - categorical_accuracy: 0.5897\n",
      "Epoch 84: val_categorical_accuracy did not improve from 0.61051\n",
      "330/330 [==============================] - 17s 52ms/step - loss: 0.9032 - auc: 0.8462 - categorical_accuracy: 0.5897 - val_loss: 0.9220 - val_auc: 0.8514 - val_categorical_accuracy: 0.6010\n",
      "Epoch 85/100\n",
      "329/330 [============================>.] - ETA: 0s - loss: 0.8986 - auc: 0.8477 - categorical_accuracy: 0.5873\n",
      "Epoch 85: val_categorical_accuracy did not improve from 0.61051\n",
      "330/330 [==============================] - 17s 51ms/step - loss: 0.8985 - auc: 0.8476 - categorical_accuracy: 0.5869 - val_loss: 0.9184 - val_auc: 0.8523 - val_categorical_accuracy: 0.6004\n",
      "Epoch 86/100\n",
      "330/330 [==============================] - ETA: 0s - loss: 0.9088 - auc: 0.8479 - categorical_accuracy: 0.5945\n",
      "Epoch 86: val_categorical_accuracy did not improve from 0.61051\n",
      "330/330 [==============================] - 17s 51ms/step - loss: 0.9088 - auc: 0.8479 - categorical_accuracy: 0.5945 - val_loss: 0.9192 - val_auc: 0.8519 - val_categorical_accuracy: 0.5959\n",
      "Epoch 87/100\n",
      "329/330 [============================>.] - ETA: 0s - loss: 0.9023 - auc: 0.8484 - categorical_accuracy: 0.5927\n",
      "Epoch 87: val_categorical_accuracy did not improve from 0.61051\n",
      "330/330 [==============================] - 17s 51ms/step - loss: 0.9035 - auc: 0.8485 - categorical_accuracy: 0.5926 - val_loss: 0.9093 - val_auc: 0.8550 - val_categorical_accuracy: 0.6014\n",
      "Epoch 88/100\n",
      "329/330 [============================>.] - ETA: 0s - loss: 0.8976 - auc: 0.8500 - categorical_accuracy: 0.5940\n",
      "Epoch 88: val_categorical_accuracy did not improve from 0.61051\n",
      "330/330 [==============================] - 17s 51ms/step - loss: 0.8974 - auc: 0.8500 - categorical_accuracy: 0.5938 - val_loss: 0.9153 - val_auc: 0.8535 - val_categorical_accuracy: 0.6025\n",
      "Epoch 89/100\n",
      "329/330 [============================>.] - ETA: 0s - loss: 0.9014 - auc: 0.8506 - categorical_accuracy: 0.5940\n",
      "Epoch 89: val_categorical_accuracy did not improve from 0.61051\n",
      "330/330 [==============================] - 17s 52ms/step - loss: 0.9012 - auc: 0.8505 - categorical_accuracy: 0.5939 - val_loss: 0.9206 - val_auc: 0.8513 - val_categorical_accuracy: 0.5940\n",
      "Epoch 90/100\n",
      "330/330 [==============================] - ETA: 0s - loss: 0.9038 - auc: 0.8492 - categorical_accuracy: 0.5927\n",
      "Epoch 90: val_categorical_accuracy did not improve from 0.61051\n",
      "330/330 [==============================] - 15s 45ms/step - loss: 0.9038 - auc: 0.8492 - categorical_accuracy: 0.5927 - val_loss: 0.9120 - val_auc: 0.8548 - val_categorical_accuracy: 0.6040\n",
      "Epoch 91/100\n",
      "329/330 [============================>.] - ETA: 0s - loss: 0.8957 - auc: 0.8509 - categorical_accuracy: 0.5947\n",
      "Epoch 91: val_categorical_accuracy did not improve from 0.61051\n",
      "330/330 [==============================] - 17s 51ms/step - loss: 0.8954 - auc: 0.8508 - categorical_accuracy: 0.5947 - val_loss: 0.9257 - val_auc: 0.8492 - val_categorical_accuracy: 0.5936\n",
      "Epoch 92/100\n",
      "330/330 [==============================] - ETA: 0s - loss: 0.9027 - auc: 0.8467 - categorical_accuracy: 0.5880\n",
      "Epoch 92: val_categorical_accuracy improved from 0.61051 to 0.61262, saving model to graphsage_directed_extra_feat.hdf5\n",
      "330/330 [==============================] - 17s 51ms/step - loss: 0.9027 - auc: 0.8467 - categorical_accuracy: 0.5880 - val_loss: 0.8994 - val_auc: 0.8587 - val_categorical_accuracy: 0.6126\n",
      "Epoch 93/100\n",
      "329/330 [============================>.] - ETA: 0s - loss: 0.9022 - auc: 0.8480 - categorical_accuracy: 0.5901\n",
      "Epoch 93: val_categorical_accuracy did not improve from 0.61262\n",
      "330/330 [==============================] - 17s 51ms/step - loss: 0.9021 - auc: 0.8481 - categorical_accuracy: 0.5902 - val_loss: 0.9261 - val_auc: 0.8504 - val_categorical_accuracy: 0.6052\n",
      "Epoch 94/100\n",
      "329/330 [============================>.] - ETA: 0s - loss: 0.8950 - auc: 0.8506 - categorical_accuracy: 0.5953\n",
      "Epoch 94: val_categorical_accuracy did not improve from 0.61262\n",
      "330/330 [==============================] - 15s 44ms/step - loss: 0.8946 - auc: 0.8505 - categorical_accuracy: 0.5953 - val_loss: 0.9150 - val_auc: 0.8530 - val_categorical_accuracy: 0.6019\n",
      "Epoch 95/100\n",
      "329/330 [============================>.] - ETA: 0s - loss: 0.9011 - auc: 0.8455 - categorical_accuracy: 0.5840\n",
      "Epoch 95: val_categorical_accuracy did not improve from 0.61262\n",
      "330/330 [==============================] - 14s 44ms/step - loss: 0.9013 - auc: 0.8454 - categorical_accuracy: 0.5839 - val_loss: 0.8993 - val_auc: 0.8576 - val_categorical_accuracy: 0.6027\n",
      "Epoch 96/100\n",
      "329/330 [============================>.] - ETA: 0s - loss: 0.8951 - auc: 0.8499 - categorical_accuracy: 0.5940\n",
      "Epoch 96: val_categorical_accuracy did not improve from 0.61262\n",
      "330/330 [==============================] - 17s 51ms/step - loss: 0.8954 - auc: 0.8499 - categorical_accuracy: 0.5942 - val_loss: 0.9042 - val_auc: 0.8560 - val_categorical_accuracy: 0.6002\n",
      "Epoch 97/100\n",
      "329/330 [============================>.] - ETA: 0s - loss: 0.8948 - auc: 0.8486 - categorical_accuracy: 0.5904\n",
      "Epoch 97: val_categorical_accuracy did not improve from 0.61262\n",
      "330/330 [==============================] - 17s 51ms/step - loss: 0.8946 - auc: 0.8486 - categorical_accuracy: 0.5903 - val_loss: 0.9014 - val_auc: 0.8580 - val_categorical_accuracy: 0.6084\n",
      "Epoch 98/100\n",
      "330/330 [==============================] - ETA: 0s - loss: 0.8905 - auc: 0.8517 - categorical_accuracy: 0.5939\n",
      "Epoch 98: val_categorical_accuracy did not improve from 0.61262\n",
      "330/330 [==============================] - 14s 44ms/step - loss: 0.8905 - auc: 0.8517 - categorical_accuracy: 0.5939 - val_loss: 0.9068 - val_auc: 0.8563 - val_categorical_accuracy: 0.6073\n",
      "Epoch 99/100\n",
      "329/330 [============================>.] - ETA: 0s - loss: 0.8936 - auc: 0.8502 - categorical_accuracy: 0.5945\n",
      "Epoch 99: val_categorical_accuracy did not improve from 0.61262\n",
      "330/330 [==============================] - 17s 51ms/step - loss: 0.8936 - auc: 0.8502 - categorical_accuracy: 0.5946 - val_loss: 0.8922 - val_auc: 0.8601 - val_categorical_accuracy: 0.6033\n",
      "Epoch 100/100\n",
      "329/330 [============================>.] - ETA: 0s - loss: 0.8934 - auc: 0.8496 - categorical_accuracy: 0.5907\n",
      "Epoch 100: val_categorical_accuracy improved from 0.61262 to 0.61305, saving model to graphsage_directed_extra_feat.hdf5\n",
      "330/330 [==============================] - 17s 52ms/step - loss: 0.8935 - auc: 0.8496 - categorical_accuracy: 0.5907 - val_loss: 0.8938 - val_auc: 0.8606 - val_categorical_accuracy: 0.6130\n"
     ]
    }
   ],
   "source": [
    "# create callback\n",
    "callback = ModelCheckpoint(\n",
    "    filepath=PATH_MODEL_GS_D_F,\n",
    "    monitor='val_categorical_accuracy',\n",
    "    verbose=1, \n",
    "    save_best_only=True,\n",
    "    mode='max'\n",
    ")\n",
    "\n",
    "#fit the model\n",
    "history = model.fit(\n",
    "    train_gen, \n",
    "    epochs=100, \n",
    "    validation_data=val_gen, \n",
    "    class_weight=class_weights,\n",
    "    verbose=1, \n",
    "    shuffle=True,\n",
    "    callbacks=[callback]\n",
    ")\n"
   ]
  },
  {
   "cell_type": "code",
   "execution_count": 28,
   "metadata": {
    "colab": {
     "base_uri": "https://localhost:8080/",
     "height": 873
    },
    "executionInfo": {
     "elapsed": 1065,
     "status": "ok",
     "timestamp": 1653299733517,
     "user": {
      "displayName": "Vitor Faria",
      "userId": "10491360195309454196"
     },
     "user_tz": 180
    },
    "id": "5u6GTQ6B7EOm",
    "outputId": "610d279f-2f20-4941-b5ee-35eac4bb1413"
   },
   "outputs": [
    {
     "data": {
      "image/png": "[encoded data removed]",
      "text/plain": [
       "<Figure size 504x864 with 3 Axes>"
      ]
     },
     "metadata": {
      "needs_background": "light"
     },
     "output_type": "display_data"
    }
   ],
   "source": [
    "sg.utils.plot_history(history)"
   ]
  },
  {
   "cell_type": "markdown",
   "metadata": {
    "id": "q3HzXM2embfz"
   },
   "source": [
    "### Evaluate the Model"
   ]
  },
  {
   "cell_type": "code",
   "execution_count": 29,
   "metadata": {
    "executionInfo": {
     "elapsed": 12,
     "status": "ok",
     "timestamp": 1653299733518,
     "user": {
      "displayName": "Vitor Faria",
      "userId": "10491360195309454196"
     },
     "user_tz": 180
    },
    "id": "ibFPQXFomnDP"
   },
   "outputs": [],
   "source": [
    "def plot_confusion_matrix(cm, classes,\n",
    "                          normalize=False,\n",
    "                          title='Confusion matrix',\n",
    "                          cmap=plt.cm.Blues):\n",
    "    \"\"\"\n",
    "    This function prints and plots the confusion matrix.\n",
    "    Normalization can be applied by setting `normalize=True`.\n",
    "    \"\"\"\n",
    "    if normalize:\n",
    "        cm = cm.astype('float') / cm.sum(axis=1)[:, np.newaxis]\n",
    "\n",
    "    plt.imshow(cm, interpolation='nearest', cmap=cmap)\n",
    "    plt.title(title)\n",
    "    plt.colorbar()\n",
    "    tick_marks = np.arange(len(classes))\n",
    "    plt.xticks(tick_marks, classes, rotation=45)\n",
    "    plt.yticks(tick_marks, classes)\n",
    "\n",
    "    fmt = '.2f' if normalize else 'd'\n",
    "    thresh = cm.max() / 2.\n",
    "    for i, j in itertools.product(range(cm.shape[0]), range(cm.shape[1])):\n",
    "        plt.text(j, i, format(cm[i, j], fmt),\n",
    "                 horizontalalignment=\"center\",\n",
    "                 color=\"white\" if cm[i, j] > thresh else \"black\")\n",
    "\n",
    "    plt.ylabel('True label')\n",
    "    plt.xlabel('Predicted label')\n",
    "    plt.tight_layout()"
   ]
  },
  {
   "cell_type": "markdown",
   "metadata": {
    "id": "qBEEBRkU7EOn"
   },
   "source": [
    "Now we have trained the model we can evaluate on the test set."
   ]
  },
  {
   "cell_type": "code",
   "execution_count": 30,
   "metadata": {
    "colab": {
     "base_uri": "https://localhost:8080/",
     "height": 592
    },
    "executionInfo": {
     "elapsed": 4871,
     "status": "ok",
     "timestamp": 1653299738378,
     "user": {
      "displayName": "Vitor Faria",
      "userId": "10491360195309454196"
     },
     "user_tz": 180
    },
    "id": "sd6pJHH30DY2",
    "outputId": "d9043843-f689-4522-c08f-700f20914cd1"
   },
   "outputs": [
    {
     "name": "stdout",
     "output_type": "stream",
     "text": [
      "              precision    recall  f1-score   support\n",
      "\n",
      "           0       0.74      0.75      0.75       714\n",
      "           1       0.82      0.55      0.66      1345\n",
      "           2       0.13      0.33      0.19       156\n",
      "           3       0.26      0.73      0.39       119\n",
      "\n",
      "    accuracy                           0.61      2334\n",
      "   macro avg       0.49      0.59      0.50      2334\n",
      "weighted avg       0.72      0.61      0.64      2334\n",
      "\n",
      "47/47 [==============================] - 2s 33ms/step - loss: 0.8830 - auc: 0.8620 - categorical_accuracy: 0.6114\n",
      "\n",
      "Test Set Metrics:\n",
      "\tloss: 0.8830\n",
      "\tauc: 0.8620\n",
      "\tcategorical_accuracy: 0.6114\n"
     ]
    },
    {
     "data": {
      "image/png": "[encoded data removed]",
      "text/plain": [
       "<Figure size 432x288 with 2 Axes>"
      ]
     },
     "metadata": {
      "needs_background": "light"
     },
     "output_type": "display_data"
    }
   ],
   "source": [
    "# Make prediction\n",
    "predictions = model.predict(test_gen)\n",
    "predictions = target_encoding.inverse_transform(predictions)\n",
    "results = pd.Series(predictions, index=test_labels.index)\n",
    "\n",
    "test_gen = generator.flow(test_labels.index, test_targets)\n",
    "\n",
    "# Evaluation Metrics\n",
    "cm = confusion_matrix(test_labels, results) #results intead of predictions\n",
    "plot_confusion_matrix(cm, classes = unique_labels(train_labels), title = \"Directed GraphSAGE on Test Set\")\n",
    "print(classification_report(test_labels, results))\n",
    "\n",
    "# Performance\n",
    "test_metrics = model.evaluate(test_gen)\n",
    "print(\"\\nTest Set Metrics:\")\n",
    "for name, val in zip(model.metrics_names, test_metrics):\n",
    "    print(\"\\t{}: {:0.4f}\".format(name, val))"
   ]
  },
  {
   "cell_type": "markdown",
   "metadata": {
    "id": "HCRJQfxa7EOo"
   },
   "source": [
    "## Making predictions with the model in papers pubblished in 2002 and *2003*"
   ]
  },
  {
   "cell_type": "code",
   "execution_count": 31,
   "metadata": {
    "executionInfo": {
     "elapsed": 567,
     "status": "ok",
     "timestamp": 1653299738937,
     "user": {
      "displayName": "Vitor Faria",
      "userId": "10491360195309454196"
     },
     "user_tz": 180
    },
    "id": "4S0RYIfwIe-q"
   },
   "outputs": [],
   "source": [
    "#Load and evaluate the best model version\n",
    "model = load_model(PATH_MODEL_GS_D_F, custom_objects={'MeanAggregator': MeanAggregator})"
   ]
  },
  {
   "cell_type": "code",
   "execution_count": 32,
   "metadata": {
    "colab": {
     "base_uri": "https://localhost:8080/",
     "height": 592
    },
    "executionInfo": {
     "elapsed": 6692,
     "status": "ok",
     "timestamp": 1653299745627,
     "user": {
      "displayName": "Vitor Faria",
      "userId": "10491360195309454196"
     },
     "user_tz": 180
    },
    "id": "PEHBK-gHymQz",
    "outputId": "2e6560fb-a966-428a-ddd0-9e0d7b4e4e44"
   },
   "outputs": [
    {
     "name": "stdout",
     "output_type": "stream",
     "text": [
      "              precision    recall  f1-score   support\n",
      "\n",
      "           0       0.92      0.94      0.93      1537\n",
      "           1       0.98      0.45      0.62      2209\n",
      "           2       0.09      0.37      0.15       233\n",
      "           3       0.22      0.72      0.34       204\n",
      "\n",
      "    accuracy                           0.64      4183\n",
      "   macro avg       0.55      0.62      0.51      4183\n",
      "weighted avg       0.87      0.64      0.69      4183\n",
      "\n",
      "84/84 [==============================] - 3s 30ms/step - loss: 0.8754 - auc: 0.8638 - categorical_accuracy: 0.6436\n",
      "\n",
      "Prediction Set Metrics:\n",
      "\tloss: 0.8754\n",
      "\tauc: 0.8638\n",
      "\tcategorical_accuracy: 0.6436\n"
     ]
    },
    {
     "data": {
      "image/png": "[encoded data removed]",
      "text/plain": [
       "<Figure size 432x288 with 2 Axes>"
      ]
     },
     "metadata": {
      "needs_background": "light"
     },
     "output_type": "display_data"
    }
   ],
   "source": [
    "# Introduce prediction nodes\n",
    "generator = DirectedGraphSAGENodeGenerator(graph_citation_full, batch_size, in_samples, out_samples)\n",
    "prediction_targets = target_encoding.transform(test_nodes)\n",
    "prediction_gen = generator.flow(test_nodes.index, prediction_targets)\n",
    "\n",
    "# Make prediction\n",
    "predictions = model.predict(prediction_gen)\n",
    "predictions = target_encoding.inverse_transform(predictions)\n",
    "\n",
    "# Create prediction dataset\n",
    "results = pd.Series(predictions, index=test_nodes.index)\n",
    "df_results = pd.DataFrame({\"Predicted\": results, \"True\": test_nodes})\n",
    "\n",
    "# Evaluation Metrics\n",
    "cm = confusion_matrix(test_nodes, results) #results intead of predictions\n",
    "plot_confusion_matrix(cm, classes = unique_labels(train_labels), title = \"Directed GraphSAGE on Prediction Set\")\n",
    "print(classification_report(test_nodes, results))\n",
    "\n",
    "# Performance\n",
    "prediction_metrics = model.evaluate(prediction_gen)\n",
    "print(\"\\nPrediction Set Metrics:\")\n",
    "for name, val in zip(model.metrics_names, prediction_metrics):\n",
    "    print(\"\\t{}: {:0.4f}\".format(name, val))"
   ]
  },
  {
   "cell_type": "code",
   "execution_count": 32,
   "metadata": {
    "executionInfo": {
     "elapsed": 22,
     "status": "ok",
     "timestamp": 1653299745628,
     "user": {
      "displayName": "Vitor Faria",
      "userId": "10491360195309454196"
     },
     "user_tz": 180
    },
    "id": "FQs3rV85yLrG"
   },
   "outputs": [],
   "source": []
  }
 ],
 "metadata": {
  "accelerator": "GPU",
  "colab": {
   "collapsed_sections": [],
   "name": "3.2.3 Graphsage_direct_node_classification_with_extra_feat.ipynb",
   "provenance": [
    {
     "file_id": "https://github.com/stellargraph/stellargraph/blob/master/demos/node-classification/graphsage-inductive-node-classification.ipynb",
     "timestamp": 1652109119389
    }
   ]
  },
  "kernelspec": {
   "display_name": "Python 3",
   "language": "python",
   "name": "python3"
  },
  "language_info": {
   "codemirror_mode": {
    "name": "ipython",
    "version": 3
   },
   "file_extension": ".py",
   "mimetype": "text/x-python",
   "name": "python",
   "nbconvert_exporter": "python",
   "pygments_lexer": "ipython3",
   "version": "3.8.5"
  }
 },
 "nbformat": 4,
 "nbformat_minor": 1
}
