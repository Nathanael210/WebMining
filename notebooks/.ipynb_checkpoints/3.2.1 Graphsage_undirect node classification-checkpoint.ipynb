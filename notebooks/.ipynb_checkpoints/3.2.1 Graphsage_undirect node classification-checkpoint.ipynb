{
 "cells": [
  {
   "cell_type": "markdown",
   "metadata": {
    "id": "A-6WACro7EOE"
   },
   "source": [
    "# Graphsage undirect paper classification\n"
   ]
  },
  {
   "cell_type": "code",
   "execution_count": 1,
   "metadata": {
    "executionInfo": {
     "elapsed": 4688,
     "status": "ok",
     "timestamp": 1652708577888,
     "user": {
      "displayName": "Victoria Zevallos Munguía",
      "userId": "08498841278570872685"
     },
     "user_tz": -120
    },
    "id": "zPoAueD97EOL",
    "nbsphinx": "hidden",
    "tags": [
     "CloudRunner"
    ]
   },
   "outputs": [],
   "source": [
    "# install StellarGraph if running on Google Colab\n",
    "import sys\n",
    "if 'google.colab' in sys.modules:\n",
    "    %pip install -q stellargraph[demos]==1.2.1"
   ]
  },
  {
   "cell_type": "code",
   "execution_count": 2,
   "metadata": {
    "colab": {
     "base_uri": "https://localhost:8080/"
    },
    "executionInfo": {
     "elapsed": 8838,
     "status": "ok",
     "timestamp": 1652708586718,
     "user": {
      "displayName": "Victoria Zevallos Munguía",
      "userId": "08498841278570872685"
     },
     "user_tz": -120
    },
    "id": "ame2QF0z7EOO",
    "outputId": "b2208c00-50ec-4e27-a24d-6ca24be78849"
   },
   "outputs": [
    {
     "name": "stdout",
     "output_type": "stream",
     "text": [
      "Drive already mounted at /content/drive; to attempt to forcibly remount, call drive.mount(\"/content/drive\", force_remount=True).\n"
     ]
    }
   ],
   "source": [
    "import networkx as nx\n",
    "import pandas as pd\n",
    "import numpy as np\n",
    "import itertools\n",
    "import os\n",
    "\n",
    "from sklearn.decomposition import PCA\n",
    "from sklearn.manifold import TSNE\n",
    "from sklearn.utils import class_weight\n",
    "\n",
    "import stellargraph as sg\n",
    "from stellargraph import StellarGraph, StellarDiGraph\n",
    "from stellargraph import globalvar\n",
    "from stellargraph.mapper import GraphSAGENodeGenerator, DirectedGraphSAGENodeGenerator\n",
    "from stellargraph.layer import GraphSAGE, MeanAggregator, DirectedGraphSAGE\n",
    "\n",
    "from tensorflow.keras import layers, optimizers, losses, metrics, Model\n",
    "from keras.callbacks import ModelCheckpoint\n",
    "from keras.models import Sequential, load_model\n",
    "from sklearn import preprocessing, feature_extraction, model_selection\n",
    "from sklearn.metrics import classification_report, accuracy_score, confusion_matrix, f1_score, make_scorer\n",
    "from sklearn.utils.multiclass import unique_labels\n",
    "from stellargraph import datasets\n",
    "from IPython.display import display, HTML\n",
    "import matplotlib.pyplot as plt\n",
    "\n",
    "from google.colab import drive\n",
    "drive.mount('/content/drive')\n",
    "\n",
    "import torch\n",
    "torch.cuda.is_available()\n",
    "\n",
    "%matplotlib inline"
   ]
  },
  {
   "cell_type": "markdown",
   "metadata": {
    "id": "ygUM42SNBdva"
   },
   "source": [
    "## Paths"
   ]
  },
  {
   "cell_type": "code",
   "execution_count": 3,
   "metadata": {
    "executionInfo": {
     "elapsed": 12,
     "status": "ok",
     "timestamp": 1652708586719,
     "user": {
      "displayName": "Victoria Zevallos Munguía",
      "userId": "08498841278570872685"
     },
     "user_tz": -120
    },
    "id": "vI4g-xgWBhSd"
   },
   "outputs": [],
   "source": [
    "# Parent paths\n",
    "google_path = '/content/drive/My Drive/'\n",
    "local_path = '/home/v.zevallosm/'\n",
    "parent_path = google_path\n",
    "\n",
    "#Specific paths\n",
    "PATH_DATES = parent_path+'WebMining/data/raw/hep-th-slacdates_unzipped.txt'\n",
    "PATH_CITATION = parent_path+'WebMining/data/raw/hep-th-citations_unzipped_filtered.txt'\n",
    "PATH_LABEL = parent_path+'WebMining/data/processed/papers_label.csv'\n",
    "PATH_ATTRIBUTES = parent_path+'WebMining/data/processed/papers_label.csv'\n",
    "\n",
    "PATH_MODEL_GS_U_B = parent_path+'WebMining/models/graphsage_undirected_base.hdf5'\n"
   ]
  },
  {
   "cell_type": "markdown",
   "metadata": {
    "id": "ft0lNCgQ7EOP"
   },
   "source": [
    "## Loading the dataset"
   ]
  },
  {
   "cell_type": "code",
   "execution_count": 4,
   "metadata": {
    "executionInfo": {
     "elapsed": 9,
     "status": "ok",
     "timestamp": 1652708586719,
     "user": {
      "displayName": "Victoria Zevallos Munguía",
      "userId": "08498841278570872685"
     },
     "user_tz": -120
    },
    "id": "AkoxsxneDEeX"
   },
   "outputs": [],
   "source": [
    "def read_dates(path):\n",
    "    df = pd.read_csv(path, sep=' ', header=None, names=['id_paper', 'slac_date'])\n",
    "    df['slac_date'] = pd.to_datetime(df['slac_date'])\n",
    "    display(df.head(5))\n",
    "    return (df)"
   ]
  },
  {
   "cell_type": "code",
   "execution_count": 5,
   "metadata": {
    "executionInfo": {
     "elapsed": 9,
     "status": "ok",
     "timestamp": 1652708586720,
     "user": {
      "displayName": "Victoria Zevallos Munguía",
      "userId": "08498841278570872685"
     },
     "user_tz": -120
    },
    "id": "4qAD-AN-DSTo"
   },
   "outputs": [],
   "source": [
    "def read_citation(path, df):\n",
    "    df = pd.read_csv(path, sep=' ', header=None, names=['source', 'target'])\n",
    "    display(df.head(5))\n",
    "    return(df)"
   ]
  },
  {
   "cell_type": "code",
   "execution_count": 6,
   "metadata": {
    "executionInfo": {
     "elapsed": 9,
     "status": "ok",
     "timestamp": 1652708586720,
     "user": {
      "displayName": "Victoria Zevallos Munguía",
      "userId": "08498841278570872685"
     },
     "user_tz": -120
    },
    "id": "FyKt7aPhml9P"
   },
   "outputs": [],
   "source": [
    "def get_labels(path, df2, label, date):\n",
    "    df1 = pd.read_csv(path, index_col=0)\n",
    "    df1.index.name='id_paper'\n",
    "    df2 = df2.set_index(\"id_paper\")\n",
    "    df1 = pd.merge(df1, df2, left_index=True, right_index=True)\n",
    "    label_full = df1[label]\n",
    "    label_train = df1[df1.slac_date < date][label]\n",
    "    label_test = df1[df1.slac_date >= date][label]\n",
    "    print('Full nodes: %s   Train nodes: %s   Test nodes: %s'%(len(label_full), len(label_train), len(label_test)))\n",
    "    return (label_full, label_train, label_test)\n",
    "  "
   ]
  },
  {
   "cell_type": "code",
   "execution_count": 7,
   "metadata": {
    "executionInfo": {
     "elapsed": 376,
     "status": "ok",
     "timestamp": 1652708587088,
     "user": {
      "displayName": "Victoria Zevallos Munguía",
      "userId": "08498841278570872685"
     },
     "user_tz": -120
    },
    "id": "HppoD4fgddvF"
   },
   "outputs": [],
   "source": [
    "def get_features(path, df2, date):\n",
    "    # Papers ids \n",
    "    df1 = pd.read_csv(path, index_col=0)\n",
    "    df1.index.name='id_paper'\n",
    "\n",
    "    # Date df\n",
    "    df2 = df2.set_index(\"id_paper\")\n",
    "\n",
    "    # Combine datasets\n",
    "    df1 = pd.merge(df1, df2, left_index=True, right_index=True)\n",
    "\n",
    "    # Date features\n",
    "    df1['slac_date'] = pd.to_datetime(df1['slac_date'])\n",
    "    df1['year']= df1[date].dt.year\n",
    "    df1['month']= df1[date].dt.month\n",
    "    df1['week']= df1[date].dt.isocalendar().week\n",
    "\n",
    "    df1['month_sin'] = np.sin((df1.month-1)*(2.*np.pi/12))\n",
    "    df1['month_cos'] = np.cos((df1.month-1)*(2.*np.pi/12))\n",
    "\n",
    "    df1['week_sin'] = np.sin((df1[date].dt.isocalendar().week-1)*(2.*np.pi/53))\n",
    "    df1['week_cos'] = np.cos((df1[date].dt.isocalendar().week-1)*(2.*np.pi/53))\n",
    "\n",
    "    ls = ['year', 'month_sin', 'month_cos', 'week_sin', 'week_cos']\n",
    "    df_date = df1[ls]\n",
    "    display(df_date.head(5))\n",
    "    return(df_date)\n"
   ]
  },
  {
   "cell_type": "code",
   "execution_count": 8,
   "metadata": {
    "colab": {
     "base_uri": "https://localhost:8080/",
     "height": 204
    },
    "executionInfo": {
     "elapsed": 11,
     "status": "ok",
     "timestamp": 1652708587089,
     "user": {
      "displayName": "Victoria Zevallos Munguía",
      "userId": "08498841278570872685"
     },
     "user_tz": -120
    },
    "id": "YRnTbsyDDFgs",
    "outputId": "16667643-a12c-4c03-fe40-14af566070d4"
   },
   "outputs": [
    {
     "data": {
      "text/html": [
       "\n",
       "  <div id=\"df-6893e9cf-0a36-4a17-ac9c-ff5800540caa\">\n",
       "    <div class=\"colab-df-container\">\n",
       "      <div>\n",
       "<style scoped>\n",
       "    .dataframe tbody tr th:only-of-type {\n",
       "        vertical-align: middle;\n",
       "    }\n",
       "\n",
       "    .dataframe tbody tr th {\n",
       "        vertical-align: top;\n",
       "    }\n",
       "\n",
       "    .dataframe thead th {\n",
       "        text-align: right;\n",
       "    }\n",
       "</style>\n",
       "<table border=\"1\" class=\"dataframe\">\n",
       "  <thead>\n",
       "    <tr style=\"text-align: right;\">\n",
       "      <th></th>\n",
       "      <th>id_paper</th>\n",
       "      <th>slac_date</th>\n",
       "    </tr>\n",
       "  </thead>\n",
       "  <tbody>\n",
       "    <tr>\n",
       "      <th>0</th>\n",
       "      <td>1001</td>\n",
       "      <td>2000-01-04</td>\n",
       "    </tr>\n",
       "    <tr>\n",
       "      <th>1</th>\n",
       "      <td>1002</td>\n",
       "      <td>2000-01-04</td>\n",
       "    </tr>\n",
       "    <tr>\n",
       "      <th>2</th>\n",
       "      <td>1003</td>\n",
       "      <td>2000-01-04</td>\n",
       "    </tr>\n",
       "    <tr>\n",
       "      <th>3</th>\n",
       "      <td>1004</td>\n",
       "      <td>2000-01-04</td>\n",
       "    </tr>\n",
       "    <tr>\n",
       "      <th>4</th>\n",
       "      <td>1005</td>\n",
       "      <td>2000-01-04</td>\n",
       "    </tr>\n",
       "  </tbody>\n",
       "</table>\n",
       "</div>\n",
       "      <button class=\"colab-df-convert\" onclick=\"convertToInteractive('df-6893e9cf-0a36-4a17-ac9c-ff5800540caa')\"\n",
       "              title=\"Convert this dataframe to an interactive table.\"\n",
       "              style=\"display:none;\">\n",
       "        \n",
       "  <svg xmlns=\"http://www.w3.org/2000/svg\" height=\"24px\"viewBox=\"0 0 24 24\"\n",
       "       width=\"24px\">\n",
       "    <path d=\"M0 0h24v24H0V0z\" fill=\"none\"/>\n",
       "    <path d=\"M18.56 5.44l.94 2.06.94-2.06 2.06-.94-2.06-.94-.94-2.06-.94 2.06-2.06.94zm-11 1L8.5 8.5l.94-2.06 2.06-.94-2.06-.94L8.5 2.5l-.94 2.06-2.06.94zm10 10l.94 2.06.94-2.06 2.06-.94-2.06-.94-.94-2.06-.94 2.06-2.06.94z\"/><path d=\"M17.41 7.96l-1.37-1.37c-.4-.4-.92-.59-1.43-.59-.52 0-1.04.2-1.43.59L10.3 9.45l-7.72 7.72c-.78.78-.78 2.05 0 2.83L4 21.41c.39.39.9.59 1.41.59.51 0 1.02-.2 1.41-.59l7.78-7.78 2.81-2.81c.8-.78.8-2.07 0-2.86zM5.41 20L4 18.59l7.72-7.72 1.47 1.35L5.41 20z\"/>\n",
       "  </svg>\n",
       "      </button>\n",
       "      \n",
       "  <style>\n",
       "    .colab-df-container {\n",
       "      display:flex;\n",
       "      flex-wrap:wrap;\n",
       "      gap: 12px;\n",
       "    }\n",
       "\n",
       "    .colab-df-convert {\n",
       "      background-color: #E8F0FE;\n",
       "      border: none;\n",
       "      border-radius: 50%;\n",
       "      cursor: pointer;\n",
       "      display: none;\n",
       "      fill: #1967D2;\n",
       "      height: 32px;\n",
       "      padding: 0 0 0 0;\n",
       "      width: 32px;\n",
       "    }\n",
       "\n",
       "    .colab-df-convert:hover {\n",
       "      background-color: #E2EBFA;\n",
       "      box-shadow: 0px 1px 2px rgba(60, 64, 67, 0.3), 0px 1px 3px 1px rgba(60, 64, 67, 0.15);\n",
       "      fill: #174EA6;\n",
       "    }\n",
       "\n",
       "    [theme=dark] .colab-df-convert {\n",
       "      background-color: #3B4455;\n",
       "      fill: #D2E3FC;\n",
       "    }\n",
       "\n",
       "    [theme=dark] .colab-df-convert:hover {\n",
       "      background-color: #434B5C;\n",
       "      box-shadow: 0px 1px 3px 1px rgba(0, 0, 0, 0.15);\n",
       "      filter: drop-shadow(0px 1px 2px rgba(0, 0, 0, 0.3));\n",
       "      fill: #FFFFFF;\n",
       "    }\n",
       "  </style>\n",
       "\n",
       "      <script>\n",
       "        const buttonEl =\n",
       "          document.querySelector('#df-6893e9cf-0a36-4a17-ac9c-ff5800540caa button.colab-df-convert');\n",
       "        buttonEl.style.display =\n",
       "          google.colab.kernel.accessAllowed ? 'block' : 'none';\n",
       "\n",
       "        async function convertToInteractive(key) {\n",
       "          const element = document.querySelector('#df-6893e9cf-0a36-4a17-ac9c-ff5800540caa');\n",
       "          const dataTable =\n",
       "            await google.colab.kernel.invokeFunction('convertToInteractive',\n",
       "                                                     [key], {});\n",
       "          if (!dataTable) return;\n",
       "\n",
       "          const docLinkHtml = 'Like what you see? Visit the ' +\n",
       "            '<a target=\"_blank\" href=https://colab.research.google.com/notebooks/data_table.ipynb>data table notebook</a>'\n",
       "            + ' to learn more about interactive tables.';\n",
       "          element.innerHTML = '';\n",
       "          dataTable['output_type'] = 'display_data';\n",
       "          await google.colab.output.renderOutput(dataTable, element);\n",
       "          const docLink = document.createElement('div');\n",
       "          docLink.innerHTML = docLinkHtml;\n",
       "          element.appendChild(docLink);\n",
       "        }\n",
       "      </script>\n",
       "    </div>\n",
       "  </div>\n",
       "  "
      ],
      "text/plain": [
       "   id_paper  slac_date\n",
       "0      1001 2000-01-04\n",
       "1      1002 2000-01-04\n",
       "2      1003 2000-01-04\n",
       "3      1004 2000-01-04\n",
       "4      1005 2000-01-04"
      ]
     },
     "metadata": {},
     "output_type": "display_data"
    }
   ],
   "source": [
    "df_dates = read_dates(PATH_DATES)"
   ]
  },
  {
   "cell_type": "code",
   "execution_count": 9,
   "metadata": {
    "colab": {
     "base_uri": "https://localhost:8080/",
     "height": 204
    },
    "executionInfo": {
     "elapsed": 347,
     "status": "ok",
     "timestamp": 1652708587429,
     "user": {
      "displayName": "Victoria Zevallos Munguía",
      "userId": "08498841278570872685"
     },
     "user_tz": -120
    },
    "id": "S-oNGBuVDN0N",
    "outputId": "c115ce47-8d2c-45d7-b29d-74e5bca0c11f"
   },
   "outputs": [
    {
     "data": {
      "text/html": [
       "\n",
       "  <div id=\"df-41321c24-c630-4b68-aa1d-1746905a6097\">\n",
       "    <div class=\"colab-df-container\">\n",
       "      <div>\n",
       "<style scoped>\n",
       "    .dataframe tbody tr th:only-of-type {\n",
       "        vertical-align: middle;\n",
       "    }\n",
       "\n",
       "    .dataframe tbody tr th {\n",
       "        vertical-align: top;\n",
       "    }\n",
       "\n",
       "    .dataframe thead th {\n",
       "        text-align: right;\n",
       "    }\n",
       "</style>\n",
       "<table border=\"1\" class=\"dataframe\">\n",
       "  <thead>\n",
       "    <tr style=\"text-align: right;\">\n",
       "      <th></th>\n",
       "      <th>source</th>\n",
       "      <th>target</th>\n",
       "    </tr>\n",
       "  </thead>\n",
       "  <tbody>\n",
       "    <tr>\n",
       "      <th>0</th>\n",
       "      <td>1001</td>\n",
       "      <td>9304045</td>\n",
       "    </tr>\n",
       "    <tr>\n",
       "      <th>1</th>\n",
       "      <td>1001</td>\n",
       "      <td>9308122</td>\n",
       "    </tr>\n",
       "    <tr>\n",
       "      <th>2</th>\n",
       "      <td>1001</td>\n",
       "      <td>9309097</td>\n",
       "    </tr>\n",
       "    <tr>\n",
       "      <th>3</th>\n",
       "      <td>1001</td>\n",
       "      <td>9311042</td>\n",
       "    </tr>\n",
       "    <tr>\n",
       "      <th>4</th>\n",
       "      <td>1001</td>\n",
       "      <td>9401139</td>\n",
       "    </tr>\n",
       "  </tbody>\n",
       "</table>\n",
       "</div>\n",
       "      <button class=\"colab-df-convert\" onclick=\"convertToInteractive('df-41321c24-c630-4b68-aa1d-1746905a6097')\"\n",
       "              title=\"Convert this dataframe to an interactive table.\"\n",
       "              style=\"display:none;\">\n",
       "        \n",
       "  <svg xmlns=\"http://www.w3.org/2000/svg\" height=\"24px\"viewBox=\"0 0 24 24\"\n",
       "       width=\"24px\">\n",
       "    <path d=\"M0 0h24v24H0V0z\" fill=\"none\"/>\n",
       "    <path d=\"M18.56 5.44l.94 2.06.94-2.06 2.06-.94-2.06-.94-.94-2.06-.94 2.06-2.06.94zm-11 1L8.5 8.5l.94-2.06 2.06-.94-2.06-.94L8.5 2.5l-.94 2.06-2.06.94zm10 10l.94 2.06.94-2.06 2.06-.94-2.06-.94-.94-2.06-.94 2.06-2.06.94z\"/><path d=\"M17.41 7.96l-1.37-1.37c-.4-.4-.92-.59-1.43-.59-.52 0-1.04.2-1.43.59L10.3 9.45l-7.72 7.72c-.78.78-.78 2.05 0 2.83L4 21.41c.39.39.9.59 1.41.59.51 0 1.02-.2 1.41-.59l7.78-7.78 2.81-2.81c.8-.78.8-2.07 0-2.86zM5.41 20L4 18.59l7.72-7.72 1.47 1.35L5.41 20z\"/>\n",
       "  </svg>\n",
       "      </button>\n",
       "      \n",
       "  <style>\n",
       "    .colab-df-container {\n",
       "      display:flex;\n",
       "      flex-wrap:wrap;\n",
       "      gap: 12px;\n",
       "    }\n",
       "\n",
       "    .colab-df-convert {\n",
       "      background-color: #E8F0FE;\n",
       "      border: none;\n",
       "      border-radius: 50%;\n",
       "      cursor: pointer;\n",
       "      display: none;\n",
       "      fill: #1967D2;\n",
       "      height: 32px;\n",
       "      padding: 0 0 0 0;\n",
       "      width: 32px;\n",
       "    }\n",
       "\n",
       "    .colab-df-convert:hover {\n",
       "      background-color: #E2EBFA;\n",
       "      box-shadow: 0px 1px 2px rgba(60, 64, 67, 0.3), 0px 1px 3px 1px rgba(60, 64, 67, 0.15);\n",
       "      fill: #174EA6;\n",
       "    }\n",
       "\n",
       "    [theme=dark] .colab-df-convert {\n",
       "      background-color: #3B4455;\n",
       "      fill: #D2E3FC;\n",
       "    }\n",
       "\n",
       "    [theme=dark] .colab-df-convert:hover {\n",
       "      background-color: #434B5C;\n",
       "      box-shadow: 0px 1px 3px 1px rgba(0, 0, 0, 0.15);\n",
       "      filter: drop-shadow(0px 1px 2px rgba(0, 0, 0, 0.3));\n",
       "      fill: #FFFFFF;\n",
       "    }\n",
       "  </style>\n",
       "\n",
       "      <script>\n",
       "        const buttonEl =\n",
       "          document.querySelector('#df-41321c24-c630-4b68-aa1d-1746905a6097 button.colab-df-convert');\n",
       "        buttonEl.style.display =\n",
       "          google.colab.kernel.accessAllowed ? 'block' : 'none';\n",
       "\n",
       "        async function convertToInteractive(key) {\n",
       "          const element = document.querySelector('#df-41321c24-c630-4b68-aa1d-1746905a6097');\n",
       "          const dataTable =\n",
       "            await google.colab.kernel.invokeFunction('convertToInteractive',\n",
       "                                                     [key], {});\n",
       "          if (!dataTable) return;\n",
       "\n",
       "          const docLinkHtml = 'Like what you see? Visit the ' +\n",
       "            '<a target=\"_blank\" href=https://colab.research.google.com/notebooks/data_table.ipynb>data table notebook</a>'\n",
       "            + ' to learn more about interactive tables.';\n",
       "          element.innerHTML = '';\n",
       "          dataTable['output_type'] = 'display_data';\n",
       "          await google.colab.output.renderOutput(dataTable, element);\n",
       "          const docLink = document.createElement('div');\n",
       "          docLink.innerHTML = docLinkHtml;\n",
       "          element.appendChild(docLink);\n",
       "        }\n",
       "      </script>\n",
       "    </div>\n",
       "  </div>\n",
       "  "
      ],
      "text/plain": [
       "   source   target\n",
       "0    1001  9304045\n",
       "1    1001  9308122\n",
       "2    1001  9309097\n",
       "3    1001  9311042\n",
       "4    1001  9401139"
      ]
     },
     "metadata": {},
     "output_type": "display_data"
    }
   ],
   "source": [
    "df_citation = read_citation(PATH_CITATION, df_dates)"
   ]
  },
  {
   "cell_type": "code",
   "execution_count": 10,
   "metadata": {
    "colab": {
     "base_uri": "https://localhost:8080/"
    },
    "executionInfo": {
     "elapsed": 17,
     "status": "ok",
     "timestamp": 1652708587430,
     "user": {
      "displayName": "Victoria Zevallos Munguía",
      "userId": "08498841278570872685"
     },
     "user_tz": -120
    },
    "id": "xqmCm9pAGWON",
    "outputId": "4aee27c8-6efc-448d-9579-80d4a691a126"
   },
   "outputs": [
    {
     "name": "stdout",
     "output_type": "stream",
     "text": [
      "Full nodes: 27750   Train nodes: 23567   Test nodes: 4183\n"
     ]
    }
   ],
   "source": [
    "full_nodes, train_nodes, test_nodes = get_labels(PATH_LABEL, df_dates, 'label', '2002-01-01')"
   ]
  },
  {
   "cell_type": "code",
   "execution_count": 11,
   "metadata": {
    "colab": {
     "base_uri": "https://localhost:8080/",
     "height": 235
    },
    "executionInfo": {
     "elapsed": 253,
     "status": "ok",
     "timestamp": 1652708587677,
     "user": {
      "displayName": "Victoria Zevallos Munguía",
      "userId": "08498841278570872685"
     },
     "user_tz": -120
    },
    "id": "xSuEjlchom3G",
    "outputId": "9e54b2f3-4bab-483f-e8c5-434fc69c235c"
   },
   "outputs": [
    {
     "data": {
      "text/html": [
       "\n",
       "  <div id=\"df-57b06646-b154-4525-b0a0-bf5ba49ef400\">\n",
       "    <div class=\"colab-df-container\">\n",
       "      <div>\n",
       "<style scoped>\n",
       "    .dataframe tbody tr th:only-of-type {\n",
       "        vertical-align: middle;\n",
       "    }\n",
       "\n",
       "    .dataframe tbody tr th {\n",
       "        vertical-align: top;\n",
       "    }\n",
       "\n",
       "    .dataframe thead th {\n",
       "        text-align: right;\n",
       "    }\n",
       "</style>\n",
       "<table border=\"1\" class=\"dataframe\">\n",
       "  <thead>\n",
       "    <tr style=\"text-align: right;\">\n",
       "      <th></th>\n",
       "      <th>year</th>\n",
       "      <th>month_sin</th>\n",
       "      <th>month_cos</th>\n",
       "      <th>week_sin</th>\n",
       "      <th>week_cos</th>\n",
       "    </tr>\n",
       "    <tr>\n",
       "      <th>id_paper</th>\n",
       "      <th></th>\n",
       "      <th></th>\n",
       "      <th></th>\n",
       "      <th></th>\n",
       "      <th></th>\n",
       "    </tr>\n",
       "  </thead>\n",
       "  <tbody>\n",
       "    <tr>\n",
       "      <th>1001</th>\n",
       "      <td>2000</td>\n",
       "      <td>0.0</td>\n",
       "      <td>1.0</td>\n",
       "      <td>0.0</td>\n",
       "      <td>1.0</td>\n",
       "    </tr>\n",
       "    <tr>\n",
       "      <th>1002</th>\n",
       "      <td>2000</td>\n",
       "      <td>0.0</td>\n",
       "      <td>1.0</td>\n",
       "      <td>0.0</td>\n",
       "      <td>1.0</td>\n",
       "    </tr>\n",
       "    <tr>\n",
       "      <th>1003</th>\n",
       "      <td>2000</td>\n",
       "      <td>0.0</td>\n",
       "      <td>1.0</td>\n",
       "      <td>0.0</td>\n",
       "      <td>1.0</td>\n",
       "    </tr>\n",
       "    <tr>\n",
       "      <th>1004</th>\n",
       "      <td>2000</td>\n",
       "      <td>0.0</td>\n",
       "      <td>1.0</td>\n",
       "      <td>0.0</td>\n",
       "      <td>1.0</td>\n",
       "    </tr>\n",
       "    <tr>\n",
       "      <th>1005</th>\n",
       "      <td>2000</td>\n",
       "      <td>0.0</td>\n",
       "      <td>1.0</td>\n",
       "      <td>0.0</td>\n",
       "      <td>1.0</td>\n",
       "    </tr>\n",
       "  </tbody>\n",
       "</table>\n",
       "</div>\n",
       "      <button class=\"colab-df-convert\" onclick=\"convertToInteractive('df-57b06646-b154-4525-b0a0-bf5ba49ef400')\"\n",
       "              title=\"Convert this dataframe to an interactive table.\"\n",
       "              style=\"display:none;\">\n",
       "        \n",
       "  <svg xmlns=\"http://www.w3.org/2000/svg\" height=\"24px\"viewBox=\"0 0 24 24\"\n",
       "       width=\"24px\">\n",
       "    <path d=\"M0 0h24v24H0V0z\" fill=\"none\"/>\n",
       "    <path d=\"M18.56 5.44l.94 2.06.94-2.06 2.06-.94-2.06-.94-.94-2.06-.94 2.06-2.06.94zm-11 1L8.5 8.5l.94-2.06 2.06-.94-2.06-.94L8.5 2.5l-.94 2.06-2.06.94zm10 10l.94 2.06.94-2.06 2.06-.94-2.06-.94-.94-2.06-.94 2.06-2.06.94z\"/><path d=\"M17.41 7.96l-1.37-1.37c-.4-.4-.92-.59-1.43-.59-.52 0-1.04.2-1.43.59L10.3 9.45l-7.72 7.72c-.78.78-.78 2.05 0 2.83L4 21.41c.39.39.9.59 1.41.59.51 0 1.02-.2 1.41-.59l7.78-7.78 2.81-2.81c.8-.78.8-2.07 0-2.86zM5.41 20L4 18.59l7.72-7.72 1.47 1.35L5.41 20z\"/>\n",
       "  </svg>\n",
       "      </button>\n",
       "      \n",
       "  <style>\n",
       "    .colab-df-container {\n",
       "      display:flex;\n",
       "      flex-wrap:wrap;\n",
       "      gap: 12px;\n",
       "    }\n",
       "\n",
       "    .colab-df-convert {\n",
       "      background-color: #E8F0FE;\n",
       "      border: none;\n",
       "      border-radius: 50%;\n",
       "      cursor: pointer;\n",
       "      display: none;\n",
       "      fill: #1967D2;\n",
       "      height: 32px;\n",
       "      padding: 0 0 0 0;\n",
       "      width: 32px;\n",
       "    }\n",
       "\n",
       "    .colab-df-convert:hover {\n",
       "      background-color: #E2EBFA;\n",
       "      box-shadow: 0px 1px 2px rgba(60, 64, 67, 0.3), 0px 1px 3px 1px rgba(60, 64, 67, 0.15);\n",
       "      fill: #174EA6;\n",
       "    }\n",
       "\n",
       "    [theme=dark] .colab-df-convert {\n",
       "      background-color: #3B4455;\n",
       "      fill: #D2E3FC;\n",
       "    }\n",
       "\n",
       "    [theme=dark] .colab-df-convert:hover {\n",
       "      background-color: #434B5C;\n",
       "      box-shadow: 0px 1px 3px 1px rgba(0, 0, 0, 0.15);\n",
       "      filter: drop-shadow(0px 1px 2px rgba(0, 0, 0, 0.3));\n",
       "      fill: #FFFFFF;\n",
       "    }\n",
       "  </style>\n",
       "\n",
       "      <script>\n",
       "        const buttonEl =\n",
       "          document.querySelector('#df-57b06646-b154-4525-b0a0-bf5ba49ef400 button.colab-df-convert');\n",
       "        buttonEl.style.display =\n",
       "          google.colab.kernel.accessAllowed ? 'block' : 'none';\n",
       "\n",
       "        async function convertToInteractive(key) {\n",
       "          const element = document.querySelector('#df-57b06646-b154-4525-b0a0-bf5ba49ef400');\n",
       "          const dataTable =\n",
       "            await google.colab.kernel.invokeFunction('convertToInteractive',\n",
       "                                                     [key], {});\n",
       "          if (!dataTable) return;\n",
       "\n",
       "          const docLinkHtml = 'Like what you see? Visit the ' +\n",
       "            '<a target=\"_blank\" href=https://colab.research.google.com/notebooks/data_table.ipynb>data table notebook</a>'\n",
       "            + ' to learn more about interactive tables.';\n",
       "          element.innerHTML = '';\n",
       "          dataTable['output_type'] = 'display_data';\n",
       "          await google.colab.output.renderOutput(dataTable, element);\n",
       "          const docLink = document.createElement('div');\n",
       "          docLink.innerHTML = docLinkHtml;\n",
       "          element.appendChild(docLink);\n",
       "        }\n",
       "      </script>\n",
       "    </div>\n",
       "  </div>\n",
       "  "
      ],
      "text/plain": [
       "          year  month_sin  month_cos  week_sin  week_cos\n",
       "id_paper                                                \n",
       "1001      2000        0.0        1.0       0.0       1.0\n",
       "1002      2000        0.0        1.0       0.0       1.0\n",
       "1003      2000        0.0        1.0       0.0       1.0\n",
       "1004      2000        0.0        1.0       0.0       1.0\n",
       "1005      2000        0.0        1.0       0.0       1.0"
      ]
     },
     "metadata": {},
     "output_type": "display_data"
    }
   ],
   "source": [
    "df_attributes = get_features(PATH_LABEL, df_dates, 'slac_date')"
   ]
  },
  {
   "cell_type": "markdown",
   "metadata": {
    "id": "3xlzx479EhDe"
   },
   "source": [
    "## Graph construction"
   ]
  },
  {
   "cell_type": "code",
   "execution_count": 12,
   "metadata": {
    "colab": {
     "base_uri": "https://localhost:8080/"
    },
    "executionInfo": {
     "elapsed": 262,
     "status": "ok",
     "timestamp": 1652708587935,
     "user": {
      "displayName": "Victoria Zevallos Munguía",
      "userId": "08498841278570872685"
     },
     "user_tz": -120
    },
    "id": "tzwadVwqwBT7",
    "outputId": "3d7f3c46-e85f-49cf-9b53-766a805ecaa4"
   },
   "outputs": [
    {
     "name": "stdout",
     "output_type": "stream",
     "text": [
      "StellarGraph: Undirected multigraph\n",
      " Nodes: 27750, Edges: 351763\n",
      "\n",
      " Node types:\n",
      "  paper: [27750]\n",
      "    Features: float32 vector, length 5\n",
      "    Edge types: paper-cites->paper\n",
      "\n",
      " Edge types:\n",
      "    paper-cites->paper: [351763]\n",
      "        Weights: all 1 (default)\n",
      "        Features: none\n"
     ]
    }
   ],
   "source": [
    "graph_citation_full = StellarGraph({\"paper\": df_attributes}, {\"cites\": df_citation})\n",
    "print(graph_citation_full.info())"
   ]
  },
  {
   "cell_type": "code",
   "execution_count": 13,
   "metadata": {
    "colab": {
     "base_uri": "https://localhost:8080/"
    },
    "executionInfo": {
     "elapsed": 399,
     "status": "ok",
     "timestamp": 1652708588332,
     "user": {
      "displayName": "Victoria Zevallos Munguía",
      "userId": "08498841278570872685"
     },
     "user_tz": -120
    },
    "id": "cAmI-qEvDN7r",
    "outputId": "e0ac62a6-b4b0-45eb-97d3-be71a58498a0"
   },
   "outputs": [
    {
     "name": "stdout",
     "output_type": "stream",
     "text": [
      "StellarGraph: Undirected multigraph\n",
      " Nodes: 23567, Edges: 271167\n",
      "\n",
      " Node types:\n",
      "  paper: [23567]\n",
      "    Features: float32 vector, length 5\n",
      "    Edge types: paper-cites->paper\n",
      "\n",
      " Edge types:\n",
      "    paper-cites->paper: [271167]\n",
      "        Weights: all 1 (default)\n",
      "        Features: none\n"
     ]
    }
   ],
   "source": [
    "graph_citation_train = graph_citation_full.subgraph(train_nodes.index)\n",
    "print(graph_citation_train.info())"
   ]
  },
  {
   "cell_type": "markdown",
   "metadata": {
    "id": "rmWmlczn7EOX"
   },
   "source": [
    "### Splitting the data"
   ]
  },
  {
   "cell_type": "code",
   "execution_count": 14,
   "metadata": {
    "executionInfo": {
     "elapsed": 30,
     "status": "ok",
     "timestamp": 1652708588333,
     "user": {
      "displayName": "Victoria Zevallos Munguía",
      "userId": "08498841278570872685"
     },
     "user_tz": -120
    },
    "id": "AKguFrly7EOY"
   },
   "outputs": [],
   "source": [
    "train_labels, test_labels = model_selection.train_test_split(\n",
    "    train_nodes,\n",
    "    train_size=0.7, #0.05\n",
    "    test_size=None,\n",
    "    stratify=train_nodes,\n",
    "    random_state=42,\n",
    ")\n",
    "\n",
    "val_labels, test_labels = model_selection.train_test_split(\n",
    "    test_labels, \n",
    "    train_size=0.67, #0.2\n",
    "    test_size=None, \n",
    "    stratify=test_labels, \n",
    "    random_state=42,\n",
    ")"
   ]
  },
  {
   "cell_type": "markdown",
   "metadata": {
    "id": "2j6AhAv_7EOY"
   },
   "source": [
    "Stratified sampling gives the following counts:"
   ]
  },
  {
   "cell_type": "code",
   "execution_count": 15,
   "metadata": {
    "colab": {
     "base_uri": "https://localhost:8080/"
    },
    "executionInfo": {
     "elapsed": 28,
     "status": "ok",
     "timestamp": 1652708588333,
     "user": {
      "displayName": "Victoria Zevallos Munguía",
      "userId": "08498841278570872685"
     },
     "user_tz": -120
    },
    "id": "7C-6gaow7EOZ",
    "outputId": "b0648301-7246-47fa-c17d-7a1fb6aac240"
   },
   "outputs": [
    {
     "data": {
      "text/plain": [
       "Counter({0: 5044, 1: 9509, 2: 1103, 3: 840})"
      ]
     },
     "execution_count": 15,
     "metadata": {},
     "output_type": "execute_result"
    }
   ],
   "source": [
    "from collections import Counter\n",
    "\n",
    "Counter(train_labels)"
   ]
  },
  {
   "cell_type": "markdown",
   "metadata": {
    "id": "2CF1qCd87EOa"
   },
   "source": [
    "The training set has class imbalance is compensated, with class weights inversely proportional to class support."
   ]
  },
  {
   "cell_type": "code",
   "execution_count": 16,
   "metadata": {
    "colab": {
     "base_uri": "https://localhost:8080/"
    },
    "executionInfo": {
     "elapsed": 18,
     "status": "ok",
     "timestamp": 1652708588334,
     "user": {
      "displayName": "Victoria Zevallos Munguía",
      "userId": "08498841278570872685"
     },
     "user_tz": -120
    },
    "id": "Lxi7vrmokt02",
    "outputId": "db2aabce-4c36-4364-c9f1-ef0cef14ae57"
   },
   "outputs": [
    {
     "data": {
      "text/plain": [
       "{0: 0.8176050753370341,\n",
       " 1: 0.43369439478388894,\n",
       " 2: 3.7388939256572984,\n",
       " 3: 4.90952380952381}"
      ]
     },
     "execution_count": 16,
     "metadata": {},
     "output_type": "execute_result"
    }
   ],
   "source": [
    "#get class_weights\n",
    "class_weights = class_weight.compute_class_weight(\n",
    "                                        class_weight = \"balanced\",\n",
    "                                        classes = np.unique(train_labels),\n",
    "                                        y = train_labels                                                    \n",
    "                                    )\n",
    "class_weights = dict(zip(np.unique(train_labels), class_weights))\n",
    "class_weights"
   ]
  },
  {
   "cell_type": "markdown",
   "metadata": {
    "id": "V88k-gWV7EOa"
   },
   "source": [
    "### Converting to numeric arrays"
   ]
  },
  {
   "cell_type": "markdown",
   "metadata": {
    "id": "PKctkCXT7EOa"
   },
   "source": [
    "For our categorical target, we will use one-hot vectors that will be fed into a soft-max Keras layer during training."
   ]
  },
  {
   "cell_type": "code",
   "execution_count": 17,
   "metadata": {
    "executionInfo": {
     "elapsed": 9,
     "status": "ok",
     "timestamp": 1652708588335,
     "user": {
      "displayName": "Victoria Zevallos Munguía",
      "userId": "08498841278570872685"
     },
     "user_tz": -120
    },
    "id": "PbTaDEld7EOb"
   },
   "outputs": [],
   "source": [
    "target_encoding = preprocessing.LabelBinarizer()\n",
    "\n",
    "train_targets = target_encoding.fit_transform(train_labels)\n",
    "val_targets = target_encoding.transform(val_labels)\n",
    "test_targets = target_encoding.transform(test_labels)"
   ]
  },
  {
   "cell_type": "markdown",
   "metadata": {
    "id": "VlmeWyzX7EOb"
   },
   "source": [
    "## Creating the GraphSAGE model in Keras"
   ]
  },
  {
   "cell_type": "markdown",
   "metadata": {
    "id": "mB0JjICB7EOc"
   },
   "source": [
    "To feed data from the graph to the Keras model we need a generator. The generators are specialized to the model and the learning task so we choose the `GraphSAGENodeGenerator` as we are predicting node attributes with a GraphSAGE model.\n",
    "\n",
    "We need specify the `batch_size` to use for training and the number of nodes to sample at each level of the model. Here we choose a two-layer model with 10 nodes sampled in the first layer, and 10 in the second."
   ]
  },
  {
   "cell_type": "code",
   "execution_count": 18,
   "metadata": {
    "executionInfo": {
     "elapsed": 9,
     "status": "ok",
     "timestamp": 1652708588336,
     "user": {
      "displayName": "Victoria Zevallos Munguía",
      "userId": "08498841278570872685"
     },
     "user_tz": -120
    },
    "id": "Vty7LaMU7EOd"
   },
   "outputs": [],
   "source": [
    "batch_size = 50\n",
    "num_samples = [10, 10]\n",
    "\n",
    "generator = GraphSAGENodeGenerator(graph_citation_train, batch_size, num_samples)"
   ]
  },
  {
   "cell_type": "markdown",
   "metadata": {
    "id": "EEiwrels7EOg"
   },
   "source": [
    "Using the `generator.flow()` method, we can create iterators over nodes that should be used to train, validate, or evaluate the model. For training we use only the training nodes returned from our splitter and the target values. The `shuffle=True` argument is given to the `flow` method to improve training."
   ]
  },
  {
   "cell_type": "code",
   "execution_count": 20,
   "metadata": {
    "executionInfo": {
     "elapsed": 6,
     "status": "ok",
     "timestamp": 1652708588642,
     "user": {
      "displayName": "Victoria Zevallos Munguía",
      "userId": "08498841278570872685"
     },
     "user_tz": -120
    },
    "id": "6ohivP8L7EOh"
   },
   "outputs": [],
   "source": [
    "train_gen = generator.flow(train_labels.index, train_targets, shuffle=True)\n",
    "val_gen = generator.flow(val_labels.index, val_targets, shuffle=True)\n",
    "test_gen = generator.flow(test_labels.index, test_targets)"
   ]
  },
  {
   "cell_type": "markdown",
   "metadata": {
    "id": "DX7W8MZg7EOh"
   },
   "source": [
    "Now we can specify our machine learning model, and use 2 layers of 32 neurons each of them. And a dropout of 0.1 to help the model to generalize."
   ]
  },
  {
   "cell_type": "code",
   "execution_count": 21,
   "metadata": {
    "executionInfo": {
     "elapsed": 6,
     "status": "ok",
     "timestamp": 1652708588643,
     "user": {
      "displayName": "Victoria Zevallos Munguía",
      "userId": "08498841278570872685"
     },
     "user_tz": -120
    },
    "id": "nsaaN8847EOi"
   },
   "outputs": [],
   "source": [
    "graphsage_model = GraphSAGE(\n",
    "    layer_sizes=[32, 32], generator=generator, bias=True, dropout=0.1 #, activations=[\"relu\"] or  activation=keras.layers.LeakyReLU(alpha=0.01)\n",
    ")"
   ]
  },
  {
   "cell_type": "markdown",
   "metadata": {
    "id": "qnU6NuWT7EOi"
   },
   "source": [
    "Now we create a model to predict the 4 categories using Keras softmax layers."
   ]
  },
  {
   "cell_type": "code",
   "execution_count": 22,
   "metadata": {
    "executionInfo": {
     "elapsed": 213,
     "status": "ok",
     "timestamp": 1652708588851,
     "user": {
      "displayName": "Victoria Zevallos Munguía",
      "userId": "08498841278570872685"
     },
     "user_tz": -120
    },
    "id": "ntXp0k5N7EOj"
   },
   "outputs": [],
   "source": [
    "x_inp, x_out = graphsage_model.in_out_tensors()\n",
    "prediction = layers.Dense(units=train_targets.shape[1], activation=\"softmax\")(x_out)"
   ]
  },
  {
   "cell_type": "code",
   "execution_count": 23,
   "metadata": {
    "colab": {
     "base_uri": "https://localhost:8080/"
    },
    "executionInfo": {
     "elapsed": 5,
     "status": "ok",
     "timestamp": 1652708588851,
     "user": {
      "displayName": "Victoria Zevallos Munguía",
      "userId": "08498841278570872685"
     },
     "user_tz": -120
    },
    "id": "7mBiMGwq7EOj",
    "outputId": "93a12780-9389-44de-fbff-ee6b487b9064"
   },
   "outputs": [
    {
     "data": {
      "text/plain": [
       "TensorShape([None, 4])"
      ]
     },
     "execution_count": 23,
     "metadata": {},
     "output_type": "execute_result"
    }
   ],
   "source": [
    "prediction.shape"
   ]
  },
  {
   "cell_type": "markdown",
   "metadata": {
    "id": "GgSm5t-l7EOk"
   },
   "source": [
    "### Training the model"
   ]
  },
  {
   "cell_type": "markdown",
   "metadata": {
    "id": "ynGCJm7c7EOl"
   },
   "source": [
    "Now let's create the actual Keras model with the graph inputs `x_inp` provided by the `graph_model` and outputs being the predictions from the softmax layer"
   ]
  },
  {
   "cell_type": "code",
   "execution_count": 24,
   "metadata": {
    "colab": {
     "base_uri": "https://localhost:8080/"
    },
    "executionInfo": {
     "elapsed": 364,
     "status": "ok",
     "timestamp": 1652708589213,
     "user": {
      "displayName": "Victoria Zevallos Munguía",
      "userId": "08498841278570872685"
     },
     "user_tz": -120
    },
    "id": "myB7DUNt7EOl",
    "outputId": "8f8aac04-ea88-4b6a-f01e-2cae8c310dd9"
   },
   "outputs": [
    {
     "name": "stdout",
     "output_type": "stream",
     "text": [
      "Model: \"model\"\n",
      "__________________________________________________________________________________________________\n",
      " Layer (type)                   Output Shape         Param #     Connected to                     \n",
      "==================================================================================================\n",
      " input_2 (InputLayer)           [(None, 10, 5)]      0           []                               \n",
      "                                                                                                  \n",
      " input_3 (InputLayer)           [(None, 100, 5)]     0           []                               \n",
      "                                                                                                  \n",
      " input_1 (InputLayer)           [(None, 1, 5)]       0           []                               \n",
      "                                                                                                  \n",
      " reshape (Reshape)              (None, 1, 10, 5)     0           ['input_2[0][0]']                \n",
      "                                                                                                  \n",
      " reshape_1 (Reshape)            (None, 10, 10, 5)    0           ['input_3[0][0]']                \n",
      "                                                                                                  \n",
      " dropout_1 (Dropout)            (None, 1, 5)         0           ['input_1[0][0]']                \n",
      "                                                                                                  \n",
      " dropout (Dropout)              (None, 1, 10, 5)     0           ['reshape[0][0]']                \n",
      "                                                                                                  \n",
      " dropout_3 (Dropout)            (None, 10, 5)        0           ['input_2[0][0]']                \n",
      "                                                                                                  \n",
      " dropout_2 (Dropout)            (None, 10, 10, 5)    0           ['reshape_1[0][0]']              \n",
      "                                                                                                  \n",
      " mean_aggregator (MeanAggregato  multiple            192         ['dropout_1[0][0]',              \n",
      " r)                                                               'dropout[0][0]',                \n",
      "                                                                  'dropout_3[0][0]',              \n",
      "                                                                  'dropout_2[0][0]']              \n",
      "                                                                                                  \n",
      " reshape_2 (Reshape)            (None, 1, 10, 32)    0           ['mean_aggregator[1][0]']        \n",
      "                                                                                                  \n",
      " dropout_5 (Dropout)            (None, 1, 32)        0           ['mean_aggregator[0][0]']        \n",
      "                                                                                                  \n",
      " dropout_4 (Dropout)            (None, 1, 10, 32)    0           ['reshape_2[0][0]']              \n",
      "                                                                                                  \n",
      " mean_aggregator_1 (MeanAggrega  (None, 1, 32)       1056        ['dropout_5[0][0]',              \n",
      " tor)                                                             'dropout_4[0][0]']              \n",
      "                                                                                                  \n",
      " reshape_3 (Reshape)            (None, 32)           0           ['mean_aggregator_1[0][0]']      \n",
      "                                                                                                  \n",
      " lambda (Lambda)                (None, 32)           0           ['reshape_3[0][0]']              \n",
      "                                                                                                  \n",
      " dense (Dense)                  (None, 4)            132         ['lambda[0][0]']                 \n",
      "                                                                                                  \n",
      "==================================================================================================\n",
      "Total params: 1,380\n",
      "Trainable params: 1,380\n",
      "Non-trainable params: 0\n",
      "__________________________________________________________________________________________________\n",
      "None\n"
     ]
    }
   ],
   "source": [
    "model = Model(inputs=x_inp, outputs=prediction)\n",
    "model.compile(\n",
    "    optimizer=optimizers.Adam(learning_rate=0.001),\n",
    "    loss=losses.categorical_crossentropy,\n",
    "    metrics = [metrics.CategoricalAccuracy()]\n",
    ")\n",
    "print(model.summary())"
   ]
  },
  {
   "cell_type": "markdown",
   "metadata": {
    "id": "AL8BJ1Z_7EOl"
   },
   "source": [
    "Train the model, keeping track of its loss and accuracy on the training set, and its generalisation performance on the validation set."
   ]
  },
  {
   "cell_type": "code",
   "execution_count": 26,
   "metadata": {
    "colab": {
     "base_uri": "https://localhost:8080/"
    },
    "executionInfo": {
     "elapsed": 28633,
     "status": "ok",
     "timestamp": 1652710262584,
     "user": {
      "displayName": "Victoria Zevallos Munguía",
      "userId": "08498841278570872685"
     },
     "user_tz": -120
    },
    "id": "rovZ_BvA7EOm",
    "outputId": "5aa92c73-81e4-41ad-c21a-7bed14c8ef84"
   },
   "outputs": [
    {
     "name": "stdout",
     "output_type": "stream",
     "text": [
      "Epoch 1/100\n",
      "330/330 [==============================] - ETA: 0s - loss: 1.3899 - categorical_accuracy: 0.1973\n",
      "Epoch 1: val_categorical_accuracy improved from -inf to 0.05404, saving model to /content/drive/My Drive/WebMining/models/graphsage_undirected_base.hdf5\n",
      "330/330 [==============================] - 30s 77ms/step - loss: 1.3899 - categorical_accuracy: 0.1973 - val_loss: 1.3660 - val_categorical_accuracy: 0.0540\n",
      "Epoch 2/100\n",
      "330/330 [==============================] - ETA: 0s - loss: 1.3898 - categorical_accuracy: 0.2309\n",
      "Epoch 2: val_categorical_accuracy improved from 0.05404 to 0.07009, saving model to /content/drive/My Drive/WebMining/models/graphsage_undirected_base.hdf5\n",
      "330/330 [==============================] - 12s 36ms/step - loss: 1.3898 - categorical_accuracy: 0.2309 - val_loss: 1.4288 - val_categorical_accuracy: 0.0701\n",
      "Epoch 3/100\n",
      "328/330 [============================>.] - ETA: 0s - loss: 1.3889 - categorical_accuracy: 0.2162\n",
      "Epoch 3: val_categorical_accuracy improved from 0.07009 to 0.57906, saving model to /content/drive/My Drive/WebMining/models/graphsage_undirected_base.hdf5\n",
      "330/330 [==============================] - 12s 38ms/step - loss: 1.3872 - categorical_accuracy: 0.2168 - val_loss: 1.3615 - val_categorical_accuracy: 0.5791\n",
      "Epoch 4/100\n",
      "329/330 [============================>.] - ETA: 0s - loss: 1.3875 - categorical_accuracy: 0.2242\n",
      "Epoch 4: val_categorical_accuracy did not improve from 0.57906\n",
      "330/330 [==============================] - 12s 36ms/step - loss: 1.3877 - categorical_accuracy: 0.2238 - val_loss: 1.4154 - val_categorical_accuracy: 0.0540\n",
      "Epoch 5/100\n",
      "329/330 [============================>.] - ETA: 0s - loss: 1.3889 - categorical_accuracy: 0.2086\n",
      "Epoch 5: val_categorical_accuracy did not improve from 0.57906\n",
      "330/330 [==============================] - 12s 36ms/step - loss: 1.3888 - categorical_accuracy: 0.2082 - val_loss: 1.3980 - val_categorical_accuracy: 0.0540\n",
      "Epoch 6/100\n",
      "329/330 [============================>.] - ETA: 0s - loss: 1.3894 - categorical_accuracy: 0.2641\n",
      "Epoch 6: val_categorical_accuracy did not improve from 0.57906\n",
      "330/330 [==============================] - 12s 36ms/step - loss: 1.3882 - categorical_accuracy: 0.2634 - val_loss: 1.4107 - val_categorical_accuracy: 0.0540\n",
      "Epoch 7/100\n",
      "330/330 [==============================] - ETA: 0s - loss: 1.3872 - categorical_accuracy: 0.2082\n",
      "Epoch 7: val_categorical_accuracy did not improve from 0.57906\n",
      "330/330 [==============================] - 15s 46ms/step - loss: 1.3872 - categorical_accuracy: 0.2082 - val_loss: 1.3583 - val_categorical_accuracy: 0.5791\n",
      "Epoch 8/100\n",
      "329/330 [============================>.] - ETA: 0s - loss: 1.3867 - categorical_accuracy: 0.2364\n",
      "Epoch 8: val_categorical_accuracy did not improve from 0.57906\n",
      "330/330 [==============================] - 12s 37ms/step - loss: 1.3877 - categorical_accuracy: 0.2363 - val_loss: 1.3850 - val_categorical_accuracy: 0.0701\n",
      "Epoch 9/100\n",
      "329/330 [============================>.] - ETA: 0s - loss: 1.3861 - categorical_accuracy: 0.2100\n",
      "Epoch 9: val_categorical_accuracy did not improve from 0.57906\n",
      "330/330 [==============================] - 12s 36ms/step - loss: 1.3867 - categorical_accuracy: 0.2095 - val_loss: 1.3989 - val_categorical_accuracy: 0.0540\n",
      "Epoch 10/100\n",
      "330/330 [==============================] - ETA: 0s - loss: 1.3874 - categorical_accuracy: 0.2101\n",
      "Epoch 10: val_categorical_accuracy did not improve from 0.57906\n",
      "330/330 [==============================] - 13s 40ms/step - loss: 1.3874 - categorical_accuracy: 0.2101 - val_loss: 1.3798 - val_categorical_accuracy: 0.3057\n",
      "Epoch 11/100\n",
      "330/330 [==============================] - ETA: 0s - loss: 1.3866 - categorical_accuracy: 0.2360\n",
      "Epoch 11: val_categorical_accuracy did not improve from 0.57906\n",
      "330/330 [==============================] - 12s 37ms/step - loss: 1.3866 - categorical_accuracy: 0.2360 - val_loss: 1.3768 - val_categorical_accuracy: 0.0701\n",
      "Epoch 12/100\n",
      "330/330 [==============================] - ETA: 0s - loss: 1.3871 - categorical_accuracy: 0.2788\n",
      "Epoch 12: val_categorical_accuracy did not improve from 0.57906\n",
      "330/330 [==============================] - 12s 37ms/step - loss: 1.3871 - categorical_accuracy: 0.2788 - val_loss: 1.3628 - val_categorical_accuracy: 0.3057\n",
      "Epoch 13/100\n",
      "329/330 [============================>.] - ETA: 0s - loss: 1.3876 - categorical_accuracy: 0.2319\n",
      "Epoch 13: val_categorical_accuracy did not improve from 0.57906\n",
      "330/330 [==============================] - 12s 38ms/step - loss: 1.3871 - categorical_accuracy: 0.2312 - val_loss: 1.3857 - val_categorical_accuracy: 0.0540\n",
      "Epoch 14/100\n",
      "330/330 [==============================] - ETA: 0s - loss: 1.3869 - categorical_accuracy: 0.2461\n",
      "Epoch 14: val_categorical_accuracy did not improve from 0.57906\n",
      "330/330 [==============================] - 12s 37ms/step - loss: 1.3869 - categorical_accuracy: 0.2461 - val_loss: 1.4057 - val_categorical_accuracy: 0.0701\n",
      "Epoch 15/100\n",
      "329/330 [============================>.] - ETA: 0s - loss: 1.3883 - categorical_accuracy: 0.2900\n",
      "Epoch 15: val_categorical_accuracy did not improve from 0.57906\n",
      "330/330 [==============================] - 12s 36ms/step - loss: 1.3874 - categorical_accuracy: 0.2892 - val_loss: 1.3929 - val_categorical_accuracy: 0.0540\n",
      "Epoch 16/100\n",
      "330/330 [==============================] - ETA: 0s - loss: 1.3875 - categorical_accuracy: 0.1549\n",
      "Epoch 16: val_categorical_accuracy did not improve from 0.57906\n",
      "330/330 [==============================] - 12s 36ms/step - loss: 1.3875 - categorical_accuracy: 0.1549 - val_loss: 1.3814 - val_categorical_accuracy: 0.0701\n",
      "Epoch 17/100\n",
      "330/330 [==============================] - ETA: 0s - loss: 1.3867 - categorical_accuracy: 0.2141\n",
      "Epoch 17: val_categorical_accuracy did not improve from 0.57906\n",
      "330/330 [==============================] - 12s 36ms/step - loss: 1.3867 - categorical_accuracy: 0.2141 - val_loss: 1.3904 - val_categorical_accuracy: 0.0669\n",
      "Epoch 18/100\n",
      "329/330 [============================>.] - ETA: 0s - loss: 1.3863 - categorical_accuracy: 0.1943\n",
      "Epoch 18: val_categorical_accuracy did not improve from 0.57906\n",
      "330/330 [==============================] - 12s 36ms/step - loss: 1.3872 - categorical_accuracy: 0.1942 - val_loss: 1.3874 - val_categorical_accuracy: 0.3057\n",
      "Epoch 19/100\n",
      "329/330 [============================>.] - ETA: 0s - loss: 1.3866 - categorical_accuracy: 0.1455\n",
      "Epoch 19: val_categorical_accuracy did not improve from 0.57906\n",
      "330/330 [==============================] - 12s 37ms/step - loss: 1.3868 - categorical_accuracy: 0.1460 - val_loss: 1.3596 - val_categorical_accuracy: 0.5791\n",
      "Epoch 20/100\n",
      "330/330 [==============================] - ETA: 0s - loss: 1.3870 - categorical_accuracy: 0.2128\n",
      "Epoch 20: val_categorical_accuracy did not improve from 0.57906\n",
      "330/330 [==============================] - 12s 37ms/step - loss: 1.3870 - categorical_accuracy: 0.2128 - val_loss: 1.3736 - val_categorical_accuracy: 0.3057\n",
      "Epoch 21/100\n",
      "329/330 [============================>.] - ETA: 0s - loss: 1.3872 - categorical_accuracy: 0.2314\n",
      "Epoch 21: val_categorical_accuracy did not improve from 0.57906\n",
      "330/330 [==============================] - 12s 38ms/step - loss: 1.3872 - categorical_accuracy: 0.2313 - val_loss: 1.3934 - val_categorical_accuracy: 0.3057\n",
      "Epoch 22/100\n",
      "330/330 [==============================] - ETA: 0s - loss: 1.3871 - categorical_accuracy: 0.2313\n",
      "Epoch 22: val_categorical_accuracy did not improve from 0.57906\n",
      "330/330 [==============================] - 12s 35ms/step - loss: 1.3871 - categorical_accuracy: 0.2313 - val_loss: 1.3997 - val_categorical_accuracy: 0.0701\n",
      "Epoch 23/100\n",
      "329/330 [============================>.] - ETA: 0s - loss: 1.3875 - categorical_accuracy: 0.1763\n",
      "Epoch 23: val_categorical_accuracy did not improve from 0.57906\n",
      "330/330 [==============================] - 12s 37ms/step - loss: 1.3871 - categorical_accuracy: 0.1765 - val_loss: 1.3798 - val_categorical_accuracy: 0.5791\n",
      "Epoch 24/100\n",
      "329/330 [============================>.] - ETA: 0s - loss: 1.3881 - categorical_accuracy: 0.2235\n",
      "Epoch 24: val_categorical_accuracy did not improve from 0.57906\n",
      "330/330 [==============================] - 12s 37ms/step - loss: 1.3864 - categorical_accuracy: 0.2230 - val_loss: 1.3912 - val_categorical_accuracy: 0.0540\n",
      "Epoch 25/100\n",
      "329/330 [============================>.] - ETA: 0s - loss: 1.3863 - categorical_accuracy: 0.1830\n",
      "Epoch 25: val_categorical_accuracy did not improve from 0.57906\n",
      "330/330 [==============================] - 12s 36ms/step - loss: 1.3863 - categorical_accuracy: 0.1827 - val_loss: 1.3858 - val_categorical_accuracy: 0.0540\n",
      "Epoch 26/100\n",
      "330/330 [==============================] - ETA: 0s - loss: 1.3870 - categorical_accuracy: 0.1705\n",
      "Epoch 26: val_categorical_accuracy did not improve from 0.57906\n",
      "330/330 [==============================] - 12s 37ms/step - loss: 1.3870 - categorical_accuracy: 0.1705 - val_loss: 1.3864 - val_categorical_accuracy: 0.0540\n",
      "Epoch 27/100\n",
      "330/330 [==============================] - ETA: 0s - loss: 1.3866 - categorical_accuracy: 0.2216\n",
      "Epoch 27: val_categorical_accuracy did not improve from 0.57906\n",
      "330/330 [==============================] - 12s 37ms/step - loss: 1.3866 - categorical_accuracy: 0.2216 - val_loss: 1.3953 - val_categorical_accuracy: 0.0701\n",
      "Epoch 28/100\n",
      "329/330 [============================>.] - ETA: 0s - loss: 1.3863 - categorical_accuracy: 0.2153\n",
      "Epoch 28: val_categorical_accuracy did not improve from 0.57906\n",
      "330/330 [==============================] - 12s 36ms/step - loss: 1.3865 - categorical_accuracy: 0.2148 - val_loss: 1.4128 - val_categorical_accuracy: 0.0540\n",
      "Epoch 29/100\n",
      "330/330 [==============================] - ETA: 0s - loss: 1.3866 - categorical_accuracy: 0.1303\n",
      "Epoch 29: val_categorical_accuracy did not improve from 0.57906\n",
      "330/330 [==============================] - 12s 37ms/step - loss: 1.3866 - categorical_accuracy: 0.1303 - val_loss: 1.3771 - val_categorical_accuracy: 0.3057\n",
      "Epoch 30/100\n",
      "330/330 [==============================] - ETA: 0s - loss: 1.3871 - categorical_accuracy: 0.2547\n",
      "Epoch 30: val_categorical_accuracy did not improve from 0.57906\n",
      "330/330 [==============================] - 12s 36ms/step - loss: 1.3871 - categorical_accuracy: 0.2547 - val_loss: 1.4120 - val_categorical_accuracy: 0.0540\n",
      "Epoch 31/100\n",
      "330/330 [==============================] - ETA: 0s - loss: 1.3871 - categorical_accuracy: 0.1335\n",
      "Epoch 31: val_categorical_accuracy did not improve from 0.57906\n",
      "330/330 [==============================] - 12s 36ms/step - loss: 1.3871 - categorical_accuracy: 0.1335 - val_loss: 1.3654 - val_categorical_accuracy: 0.5791\n",
      "Epoch 32/100\n",
      "329/330 [============================>.] - ETA: 0s - loss: 1.3874 - categorical_accuracy: 0.2022\n",
      "Epoch 32: val_categorical_accuracy did not improve from 0.57906\n",
      "330/330 [==============================] - 12s 36ms/step - loss: 1.3867 - categorical_accuracy: 0.2024 - val_loss: 1.3930 - val_categorical_accuracy: 0.3057\n",
      "Epoch 33/100\n",
      "330/330 [==============================] - ETA: 0s - loss: 1.3865 - categorical_accuracy: 0.2293\n",
      "Epoch 33: val_categorical_accuracy did not improve from 0.57906\n",
      "330/330 [==============================] - 12s 36ms/step - loss: 1.3865 - categorical_accuracy: 0.2293 - val_loss: 1.3897 - val_categorical_accuracy: 0.0540\n",
      "Epoch 34/100\n",
      "329/330 [============================>.] - ETA: 0s - loss: 1.3867 - categorical_accuracy: 0.1383\n",
      "Epoch 34: val_categorical_accuracy did not improve from 0.57906\n",
      "330/330 [==============================] - 12s 37ms/step - loss: 1.3862 - categorical_accuracy: 0.1381 - val_loss: 1.3744 - val_categorical_accuracy: 0.0540\n",
      "Epoch 35/100\n",
      "330/330 [==============================] - ETA: 0s - loss: 1.3869 - categorical_accuracy: 0.2212\n",
      "Epoch 35: val_categorical_accuracy did not improve from 0.57906\n",
      "330/330 [==============================] - 12s 37ms/step - loss: 1.3869 - categorical_accuracy: 0.2212 - val_loss: 1.3845 - val_categorical_accuracy: 0.3057\n",
      "Epoch 36/100\n",
      "329/330 [============================>.] - ETA: 0s - loss: 1.3867 - categorical_accuracy: 0.2150\n",
      "Epoch 36: val_categorical_accuracy did not improve from 0.57906\n",
      "330/330 [==============================] - 12s 36ms/step - loss: 1.3867 - categorical_accuracy: 0.2148 - val_loss: 1.3776 - val_categorical_accuracy: 0.0701\n",
      "Epoch 37/100\n",
      "329/330 [============================>.] - ETA: 0s - loss: 1.3860 - categorical_accuracy: 0.1953\n",
      "Epoch 37: val_categorical_accuracy did not improve from 0.57906\n",
      "330/330 [==============================] - 12s 37ms/step - loss: 1.3867 - categorical_accuracy: 0.1953 - val_loss: 1.3752 - val_categorical_accuracy: 0.0701\n",
      "Epoch 38/100\n",
      "330/330 [==============================] - ETA: 0s - loss: 1.3863 - categorical_accuracy: 0.1944\n",
      "Epoch 38: val_categorical_accuracy did not improve from 0.57906\n",
      "330/330 [==============================] - 12s 38ms/step - loss: 1.3863 - categorical_accuracy: 0.1944 - val_loss: 1.3636 - val_categorical_accuracy: 0.5791\n",
      "Epoch 39/100\n",
      "330/330 [==============================] - ETA: 0s - loss: 1.3865 - categorical_accuracy: 0.1494\n",
      "Epoch 39: val_categorical_accuracy did not improve from 0.57906\n",
      "330/330 [==============================] - 12s 37ms/step - loss: 1.3865 - categorical_accuracy: 0.1494 - val_loss: 1.3784 - val_categorical_accuracy: 0.3057\n",
      "Epoch 40/100\n",
      "329/330 [============================>.] - ETA: 0s - loss: 1.3860 - categorical_accuracy: 0.3139\n",
      "Epoch 40: val_categorical_accuracy did not improve from 0.57906\n",
      "330/330 [==============================] - 12s 37ms/step - loss: 1.3867 - categorical_accuracy: 0.3137 - val_loss: 1.3933 - val_categorical_accuracy: 0.0540\n",
      "Epoch 41/100\n",
      "329/330 [============================>.] - ETA: 0s - loss: 1.3856 - categorical_accuracy: 0.1801\n",
      "Epoch 41: val_categorical_accuracy did not improve from 0.57906\n",
      "330/330 [==============================] - 13s 38ms/step - loss: 1.3863 - categorical_accuracy: 0.1811 - val_loss: 1.3630 - val_categorical_accuracy: 0.5791\n",
      "Epoch 42/100\n",
      "329/330 [============================>.] - ETA: 0s - loss: 1.3850 - categorical_accuracy: 0.2114\n",
      "Epoch 42: val_categorical_accuracy did not improve from 0.57906\n",
      "330/330 [==============================] - 12s 37ms/step - loss: 1.3864 - categorical_accuracy: 0.2117 - val_loss: 1.3663 - val_categorical_accuracy: 0.3057\n",
      "Epoch 43/100\n",
      "330/330 [==============================] - ETA: 0s - loss: 1.3864 - categorical_accuracy: 0.2638\n",
      "Epoch 43: val_categorical_accuracy did not improve from 0.57906\n",
      "330/330 [==============================] - 12s 37ms/step - loss: 1.3864 - categorical_accuracy: 0.2638 - val_loss: 1.3949 - val_categorical_accuracy: 0.0701\n",
      "Epoch 44/100\n",
      "330/330 [==============================] - ETA: 0s - loss: 1.3861 - categorical_accuracy: 0.2511\n",
      "Epoch 44: val_categorical_accuracy did not improve from 0.57906\n",
      "330/330 [==============================] - 12s 36ms/step - loss: 1.3861 - categorical_accuracy: 0.2511 - val_loss: 1.3928 - val_categorical_accuracy: 0.0540\n",
      "Epoch 45/100\n",
      "330/330 [==============================] - ETA: 0s - loss: 1.3862 - categorical_accuracy: 0.1978\n",
      "Epoch 45: val_categorical_accuracy did not improve from 0.57906\n",
      "330/330 [==============================] - 12s 36ms/step - loss: 1.3862 - categorical_accuracy: 0.1978 - val_loss: 1.3989 - val_categorical_accuracy: 0.0701\n",
      "Epoch 46/100\n",
      "330/330 [==============================] - ETA: 0s - loss: 1.3861 - categorical_accuracy: 0.1549\n",
      "Epoch 46: val_categorical_accuracy did not improve from 0.57906\n",
      "330/330 [==============================] - 12s 38ms/step - loss: 1.3861 - categorical_accuracy: 0.1549 - val_loss: 1.3687 - val_categorical_accuracy: 0.5791\n",
      "Epoch 47/100\n",
      "330/330 [==============================] - ETA: 0s - loss: 1.3859 - categorical_accuracy: 0.2502\n",
      "Epoch 47: val_categorical_accuracy did not improve from 0.57906\n",
      "330/330 [==============================] - 12s 37ms/step - loss: 1.3859 - categorical_accuracy: 0.2502 - val_loss: 1.3786 - val_categorical_accuracy: 0.3057\n",
      "Epoch 48/100\n",
      "329/330 [============================>.] - ETA: 0s - loss: 1.3867 - categorical_accuracy: 0.2172\n",
      "Epoch 48: val_categorical_accuracy did not improve from 0.57906\n",
      "330/330 [==============================] - 12s 37ms/step - loss: 1.3864 - categorical_accuracy: 0.2177 - val_loss: 1.3772 - val_categorical_accuracy: 0.5791\n",
      "Epoch 49/100\n",
      "330/330 [==============================] - ETA: 0s - loss: 1.3856 - categorical_accuracy: 0.3181\n",
      "Epoch 49: val_categorical_accuracy did not improve from 0.57906\n",
      "330/330 [==============================] - 12s 38ms/step - loss: 1.3856 - categorical_accuracy: 0.3181 - val_loss: 1.4057 - val_categorical_accuracy: 0.0540\n",
      "Epoch 50/100\n",
      "330/330 [==============================] - ETA: 0s - loss: 1.3856 - categorical_accuracy: 0.1449\n",
      "Epoch 50: val_categorical_accuracy did not improve from 0.57906\n",
      "330/330 [==============================] - 12s 36ms/step - loss: 1.3856 - categorical_accuracy: 0.1449 - val_loss: 1.3802 - val_categorical_accuracy: 0.0701\n",
      "Epoch 51/100\n",
      "329/330 [============================>.] - ETA: 0s - loss: 1.3859 - categorical_accuracy: 0.2190\n",
      "Epoch 51: val_categorical_accuracy did not improve from 0.57906\n",
      "330/330 [==============================] - 12s 37ms/step - loss: 1.3857 - categorical_accuracy: 0.2187 - val_loss: 1.3871 - val_categorical_accuracy: 0.0701\n",
      "Epoch 52/100\n",
      "329/330 [============================>.] - ETA: 0s - loss: 1.3858 - categorical_accuracy: 0.1799\n",
      "Epoch 52: val_categorical_accuracy did not improve from 0.57906\n",
      "330/330 [==============================] - 12s 36ms/step - loss: 1.3857 - categorical_accuracy: 0.1804 - val_loss: 1.3668 - val_categorical_accuracy: 0.3057\n",
      "Epoch 53/100\n",
      "329/330 [============================>.] - ETA: 0s - loss: 1.3840 - categorical_accuracy: 0.2912\n",
      "Epoch 53: val_categorical_accuracy did not improve from 0.57906\n",
      "330/330 [==============================] - 12s 37ms/step - loss: 1.3855 - categorical_accuracy: 0.2906 - val_loss: 1.3826 - val_categorical_accuracy: 0.0701\n",
      "Epoch 54/100\n",
      "330/330 [==============================] - ETA: 0s - loss: 1.3855 - categorical_accuracy: 0.2113\n",
      "Epoch 54: val_categorical_accuracy did not improve from 0.57906\n",
      "330/330 [==============================] - 12s 36ms/step - loss: 1.3855 - categorical_accuracy: 0.2113 - val_loss: 1.3870 - val_categorical_accuracy: 0.0701\n",
      "Epoch 55/100\n",
      "328/330 [============================>.] - ETA: 0s - loss: 1.3851 - categorical_accuracy: 0.2248\n",
      "Epoch 55: val_categorical_accuracy did not improve from 0.57906\n",
      "330/330 [==============================] - 12s 37ms/step - loss: 1.3857 - categorical_accuracy: 0.2236 - val_loss: 1.3917 - val_categorical_accuracy: 0.0540\n",
      "Epoch 56/100\n",
      "329/330 [============================>.] - ETA: 0s - loss: 1.3859 - categorical_accuracy: 0.1371\n",
      "Epoch 56: val_categorical_accuracy did not improve from 0.57906\n",
      "330/330 [==============================] - 12s 37ms/step - loss: 1.3853 - categorical_accuracy: 0.1372 - val_loss: 1.3855 - val_categorical_accuracy: 0.0701\n",
      "Epoch 57/100\n",
      "330/330 [==============================] - ETA: 0s - loss: 1.3857 - categorical_accuracy: 0.2991\n",
      "Epoch 57: val_categorical_accuracy did not improve from 0.57906\n",
      "330/330 [==============================] - 12s 37ms/step - loss: 1.3857 - categorical_accuracy: 0.2991 - val_loss: 1.4002 - val_categorical_accuracy: 0.0701\n",
      "Epoch 58/100\n",
      "330/330 [==============================] - ETA: 0s - loss: 1.3855 - categorical_accuracy: 0.1680\n",
      "Epoch 58: val_categorical_accuracy did not improve from 0.57906\n",
      "330/330 [==============================] - 12s 36ms/step - loss: 1.3855 - categorical_accuracy: 0.1680 - val_loss: 1.3677 - val_categorical_accuracy: 0.5791\n",
      "Epoch 59/100\n",
      "329/330 [============================>.] - ETA: 0s - loss: 1.3863 - categorical_accuracy: 0.2459\n",
      "Epoch 59: val_categorical_accuracy did not improve from 0.57906\n",
      "330/330 [==============================] - 12s 36ms/step - loss: 1.3852 - categorical_accuracy: 0.2456 - val_loss: 1.3810 - val_categorical_accuracy: 0.0540\n",
      "Epoch 60/100\n",
      "329/330 [============================>.] - ETA: 0s - loss: 1.3856 - categorical_accuracy: 0.2099\n",
      "Epoch 60: val_categorical_accuracy did not improve from 0.57906\n",
      "330/330 [==============================] - 12s 37ms/step - loss: 1.3856 - categorical_accuracy: 0.2097 - val_loss: 1.3897 - val_categorical_accuracy: 0.0540\n",
      "Epoch 61/100\n",
      "329/330 [============================>.] - ETA: 0s - loss: 1.3846 - categorical_accuracy: 0.2106\n",
      "Epoch 61: val_categorical_accuracy did not improve from 0.57906\n",
      "330/330 [==============================] - 12s 37ms/step - loss: 1.3851 - categorical_accuracy: 0.2116 - val_loss: 1.3703 - val_categorical_accuracy: 0.5791\n",
      "Epoch 62/100\n",
      "329/330 [============================>.] - ETA: 0s - loss: 1.3853 - categorical_accuracy: 0.2695\n",
      "Epoch 62: val_categorical_accuracy did not improve from 0.57906\n",
      "330/330 [==============================] - 12s 37ms/step - loss: 1.3856 - categorical_accuracy: 0.2690 - val_loss: 1.3827 - val_categorical_accuracy: 0.0701\n",
      "Epoch 63/100\n",
      "330/330 [==============================] - ETA: 0s - loss: 1.3851 - categorical_accuracy: 0.2286\n",
      "Epoch 63: val_categorical_accuracy did not improve from 0.57906\n",
      "330/330 [==============================] - 13s 38ms/step - loss: 1.3851 - categorical_accuracy: 0.2286 - val_loss: 1.3857 - val_categorical_accuracy: 0.0540\n",
      "Epoch 64/100\n",
      "330/330 [==============================] - ETA: 0s - loss: 1.3852 - categorical_accuracy: 0.1326\n",
      "Epoch 64: val_categorical_accuracy did not improve from 0.57906\n",
      "330/330 [==============================] - 12s 38ms/step - loss: 1.3852 - categorical_accuracy: 0.1326 - val_loss: 1.3737 - val_categorical_accuracy: 0.3057\n",
      "Epoch 65/100\n",
      "329/330 [============================>.] - ETA: 0s - loss: 1.3850 - categorical_accuracy: 0.2441\n",
      "Epoch 65: val_categorical_accuracy did not improve from 0.57906\n",
      "330/330 [==============================] - 12s 37ms/step - loss: 1.3854 - categorical_accuracy: 0.2439 - val_loss: 1.3790 - val_categorical_accuracy: 0.0540\n",
      "Epoch 66/100\n",
      "329/330 [============================>.] - ETA: 0s - loss: 1.3846 - categorical_accuracy: 0.1844\n",
      "Epoch 66: val_categorical_accuracy did not improve from 0.57906\n",
      "330/330 [==============================] - 12s 37ms/step - loss: 1.3849 - categorical_accuracy: 0.1844 - val_loss: 1.3819 - val_categorical_accuracy: 0.3057\n",
      "Epoch 67/100\n",
      "330/330 [==============================] - ETA: 0s - loss: 1.3847 - categorical_accuracy: 0.1830\n",
      "Epoch 67: val_categorical_accuracy did not improve from 0.57906\n",
      "330/330 [==============================] - 12s 37ms/step - loss: 1.3847 - categorical_accuracy: 0.1830 - val_loss: 1.3853 - val_categorical_accuracy: 0.0701\n",
      "Epoch 68/100\n",
      "330/330 [==============================] - ETA: 0s - loss: 1.3856 - categorical_accuracy: 0.2703\n",
      "Epoch 68: val_categorical_accuracy did not improve from 0.57906\n",
      "330/330 [==============================] - 12s 37ms/step - loss: 1.3856 - categorical_accuracy: 0.2703 - val_loss: 1.3857 - val_categorical_accuracy: 0.3057\n",
      "Epoch 69/100\n",
      "330/330 [==============================] - ETA: 0s - loss: 1.3849 - categorical_accuracy: 0.2082\n",
      "Epoch 69: val_categorical_accuracy did not improve from 0.57906\n",
      "330/330 [==============================] - 12s 36ms/step - loss: 1.3849 - categorical_accuracy: 0.2082 - val_loss: 1.3861 - val_categorical_accuracy: 0.0540\n",
      "Epoch 70/100\n",
      "329/330 [============================>.] - ETA: 0s - loss: 1.3873 - categorical_accuracy: 0.1634\n",
      "Epoch 70: val_categorical_accuracy did not improve from 0.57906\n",
      "330/330 [==============================] - 12s 37ms/step - loss: 1.3856 - categorical_accuracy: 0.1631 - val_loss: 1.3868 - val_categorical_accuracy: 0.0540\n",
      "Epoch 71/100\n",
      "329/330 [============================>.] - ETA: 0s - loss: 1.3847 - categorical_accuracy: 0.1788\n",
      "Epoch 71: val_categorical_accuracy did not improve from 0.57906\n",
      "330/330 [==============================] - 12s 36ms/step - loss: 1.3851 - categorical_accuracy: 0.1795 - val_loss: 1.3835 - val_categorical_accuracy: 0.5791\n",
      "Epoch 72/100\n",
      "330/330 [==============================] - ETA: 0s - loss: 1.3854 - categorical_accuracy: 0.1957\n",
      "Epoch 72: val_categorical_accuracy did not improve from 0.57906\n",
      "330/330 [==============================] - 12s 36ms/step - loss: 1.3854 - categorical_accuracy: 0.1957 - val_loss: 1.3914 - val_categorical_accuracy: 0.0540\n",
      "Epoch 73/100\n",
      "329/330 [============================>.] - ETA: 0s - loss: 1.3851 - categorical_accuracy: 0.1091\n",
      "Epoch 73: val_categorical_accuracy did not improve from 0.57906\n",
      "330/330 [==============================] - 12s 36ms/step - loss: 1.3853 - categorical_accuracy: 0.1097 - val_loss: 1.3816 - val_categorical_accuracy: 0.0701\n",
      "Epoch 74/100\n",
      "330/330 [==============================] - ETA: 0s - loss: 1.3857 - categorical_accuracy: 0.2431\n",
      "Epoch 74: val_categorical_accuracy did not improve from 0.57906\n",
      "330/330 [==============================] - 12s 37ms/step - loss: 1.3857 - categorical_accuracy: 0.2431 - val_loss: 1.3724 - val_categorical_accuracy: 0.5791\n",
      "Epoch 75/100\n",
      "330/330 [==============================] - ETA: 0s - loss: 1.3848 - categorical_accuracy: 0.2227\n",
      "Epoch 75: val_categorical_accuracy did not improve from 0.57906\n",
      "330/330 [==============================] - 12s 36ms/step - loss: 1.3848 - categorical_accuracy: 0.2227 - val_loss: 1.3829 - val_categorical_accuracy: 0.0701\n",
      "Epoch 76/100\n",
      "330/330 [==============================] - ETA: 0s - loss: 1.3855 - categorical_accuracy: 0.1675\n",
      "Epoch 76: val_categorical_accuracy did not improve from 0.57906\n",
      "330/330 [==============================] - 12s 35ms/step - loss: 1.3855 - categorical_accuracy: 0.1675 - val_loss: 1.3709 - val_categorical_accuracy: 0.3057\n",
      "Epoch 77/100\n",
      "330/330 [==============================] - ETA: 0s - loss: 1.3851 - categorical_accuracy: 0.2544\n",
      "Epoch 77: val_categorical_accuracy did not improve from 0.57906\n",
      "330/330 [==============================] - 12s 36ms/step - loss: 1.3851 - categorical_accuracy: 0.2544 - val_loss: 1.3982 - val_categorical_accuracy: 0.0701\n",
      "Epoch 78/100\n",
      "330/330 [==============================] - ETA: 0s - loss: 1.3852 - categorical_accuracy: 0.1689\n",
      "Epoch 78: val_categorical_accuracy did not improve from 0.57906\n",
      "330/330 [==============================] - 12s 36ms/step - loss: 1.3852 - categorical_accuracy: 0.1689 - val_loss: 1.3659 - val_categorical_accuracy: 0.5791\n",
      "Epoch 79/100\n",
      "329/330 [============================>.] - ETA: 0s - loss: 1.3847 - categorical_accuracy: 0.2798\n",
      "Epoch 79: val_categorical_accuracy did not improve from 0.57906\n",
      "330/330 [==============================] - 12s 36ms/step - loss: 1.3848 - categorical_accuracy: 0.2796 - val_loss: 1.3813 - val_categorical_accuracy: 0.0701\n",
      "Epoch 80/100\n",
      "330/330 [==============================] - ETA: 0s - loss: 1.3852 - categorical_accuracy: 0.2487\n",
      "Epoch 80: val_categorical_accuracy did not improve from 0.57906\n",
      "330/330 [==============================] - 12s 36ms/step - loss: 1.3852 - categorical_accuracy: 0.2487 - val_loss: 1.3985 - val_categorical_accuracy: 0.0701\n",
      "Epoch 81/100\n",
      "330/330 [==============================] - ETA: 0s - loss: 1.3850 - categorical_accuracy: 0.2673\n",
      "Epoch 81: val_categorical_accuracy did not improve from 0.57906\n",
      "330/330 [==============================] - 12s 35ms/step - loss: 1.3850 - categorical_accuracy: 0.2673 - val_loss: 1.3962 - val_categorical_accuracy: 0.0540\n",
      "Epoch 82/100\n",
      "330/330 [==============================] - ETA: 0s - loss: 1.3848 - categorical_accuracy: 0.2065\n",
      "Epoch 82: val_categorical_accuracy did not improve from 0.57906\n",
      "330/330 [==============================] - 12s 36ms/step - loss: 1.3848 - categorical_accuracy: 0.2065 - val_loss: 1.3773 - val_categorical_accuracy: 0.3057\n",
      "Epoch 83/100\n",
      "328/330 [============================>.] - ETA: 0s - loss: 1.3855 - categorical_accuracy: 0.2035\n",
      "Epoch 83: val_categorical_accuracy did not improve from 0.57906\n",
      "330/330 [==============================] - 12s 36ms/step - loss: 1.3852 - categorical_accuracy: 0.2028 - val_loss: 1.3883 - val_categorical_accuracy: 0.0701\n",
      "Epoch 84/100\n",
      "329/330 [============================>.] - ETA: 0s - loss: 1.3850 - categorical_accuracy: 0.1757\n",
      "Epoch 84: val_categorical_accuracy did not improve from 0.57906\n",
      "330/330 [==============================] - 12s 35ms/step - loss: 1.3849 - categorical_accuracy: 0.1757 - val_loss: 1.3801 - val_categorical_accuracy: 0.0540\n",
      "Epoch 85/100\n",
      "330/330 [==============================] - ETA: 0s - loss: 1.3848 - categorical_accuracy: 0.1573\n",
      "Epoch 85: val_categorical_accuracy did not improve from 0.57906\n",
      "330/330 [==============================] - 12s 37ms/step - loss: 1.3848 - categorical_accuracy: 0.1573 - val_loss: 1.3629 - val_categorical_accuracy: 0.3057\n",
      "Epoch 86/100\n",
      "329/330 [============================>.] - ETA: 0s - loss: 1.3851 - categorical_accuracy: 0.1922\n",
      "Epoch 86: val_categorical_accuracy did not improve from 0.57906\n",
      "330/330 [==============================] - 12s 37ms/step - loss: 1.3848 - categorical_accuracy: 0.1927 - val_loss: 1.3689 - val_categorical_accuracy: 0.3057\n",
      "Epoch 87/100\n",
      "329/330 [============================>.] - ETA: 0s - loss: 1.3855 - categorical_accuracy: 0.1938\n",
      "Epoch 87: val_categorical_accuracy did not improve from 0.57906\n",
      "330/330 [==============================] - 12s 37ms/step - loss: 1.3851 - categorical_accuracy: 0.1948 - val_loss: 1.3612 - val_categorical_accuracy: 0.5791\n",
      "Epoch 88/100\n",
      "330/330 [==============================] - ETA: 0s - loss: 1.3852 - categorical_accuracy: 0.2113\n",
      "Epoch 88: val_categorical_accuracy did not improve from 0.57906\n",
      "330/330 [==============================] - 12s 37ms/step - loss: 1.3852 - categorical_accuracy: 0.2113 - val_loss: 1.3790 - val_categorical_accuracy: 0.5791\n",
      "Epoch 89/100\n",
      "330/330 [==============================] - ETA: 0s - loss: 1.3851 - categorical_accuracy: 0.2898\n",
      "Epoch 89: val_categorical_accuracy did not improve from 0.57906\n",
      "330/330 [==============================] - 12s 36ms/step - loss: 1.3851 - categorical_accuracy: 0.2898 - val_loss: 1.3806 - val_categorical_accuracy: 0.3057\n",
      "Epoch 90/100\n",
      "330/330 [==============================] - ETA: 0s - loss: 1.3849 - categorical_accuracy: 0.2487\n",
      "Epoch 90: val_categorical_accuracy did not improve from 0.57906\n",
      "330/330 [==============================] - 12s 36ms/step - loss: 1.3849 - categorical_accuracy: 0.2487 - val_loss: 1.3939 - val_categorical_accuracy: 0.0701\n",
      "Epoch 91/100\n",
      "329/330 [============================>.] - ETA: 0s - loss: 1.3851 - categorical_accuracy: 0.1488\n",
      "Epoch 91: val_categorical_accuracy did not improve from 0.57906\n",
      "330/330 [==============================] - 12s 37ms/step - loss: 1.3844 - categorical_accuracy: 0.1491 - val_loss: 1.3805 - val_categorical_accuracy: 0.0540\n",
      "Epoch 92/100\n",
      "329/330 [============================>.] - ETA: 0s - loss: 1.3848 - categorical_accuracy: 0.1883\n",
      "Epoch 92: val_categorical_accuracy did not improve from 0.57906\n",
      "330/330 [==============================] - 12s 36ms/step - loss: 1.3849 - categorical_accuracy: 0.1893 - val_loss: 1.3828 - val_categorical_accuracy: 0.5791\n",
      "Epoch 93/100\n",
      "329/330 [============================>.] - ETA: 0s - loss: 1.3841 - categorical_accuracy: 0.2370\n",
      "Epoch 93: val_categorical_accuracy did not improve from 0.57906\n",
      "330/330 [==============================] - 12s 37ms/step - loss: 1.3842 - categorical_accuracy: 0.2365 - val_loss: 1.4021 - val_categorical_accuracy: 0.0540\n",
      "Epoch 94/100\n",
      "329/330 [============================>.] - ETA: 0s - loss: 1.3841 - categorical_accuracy: 0.1940\n",
      "Epoch 94: val_categorical_accuracy did not improve from 0.57906\n",
      "330/330 [==============================] - 12s 35ms/step - loss: 1.3848 - categorical_accuracy: 0.1937 - val_loss: 1.3876 - val_categorical_accuracy: 0.0701\n",
      "Epoch 95/100\n",
      "330/330 [==============================] - ETA: 0s - loss: 1.3847 - categorical_accuracy: 0.2536\n",
      "Epoch 95: val_categorical_accuracy did not improve from 0.57906\n",
      "330/330 [==============================] - 12s 36ms/step - loss: 1.3847 - categorical_accuracy: 0.2536 - val_loss: 1.3886 - val_categorical_accuracy: 0.0701\n",
      "Epoch 96/100\n",
      "330/330 [==============================] - ETA: 0s - loss: 1.3847 - categorical_accuracy: 0.1562\n",
      "Epoch 96: val_categorical_accuracy did not improve from 0.57906\n",
      "330/330 [==============================] - 12s 37ms/step - loss: 1.3847 - categorical_accuracy: 0.1562 - val_loss: 1.3810 - val_categorical_accuracy: 0.3057\n",
      "Epoch 97/100\n",
      "328/330 [============================>.] - ETA: 0s - loss: 1.3848 - categorical_accuracy: 0.3347\n",
      "Epoch 97: val_categorical_accuracy did not improve from 0.57906\n",
      "330/330 [==============================] - 12s 37ms/step - loss: 1.3847 - categorical_accuracy: 0.3331 - val_loss: 1.4163 - val_categorical_accuracy: 0.0701\n",
      "Epoch 98/100\n",
      "329/330 [============================>.] - ETA: 0s - loss: 1.3842 - categorical_accuracy: 0.1235\n",
      "Epoch 98: val_categorical_accuracy did not improve from 0.57906\n",
      "330/330 [==============================] - 12s 37ms/step - loss: 1.3848 - categorical_accuracy: 0.1239 - val_loss: 1.3775 - val_categorical_accuracy: 0.3057\n",
      "Epoch 99/100\n",
      "329/330 [============================>.] - ETA: 0s - loss: 1.3839 - categorical_accuracy: 0.2142\n",
      "Epoch 99: val_categorical_accuracy did not improve from 0.57906\n",
      "330/330 [==============================] - 13s 39ms/step - loss: 1.3850 - categorical_accuracy: 0.2150 - val_loss: 1.3711 - val_categorical_accuracy: 0.5791\n",
      "Epoch 100/100\n",
      "329/330 [============================>.] - ETA: 0s - loss: 1.3848 - categorical_accuracy: 0.2815\n",
      "Epoch 100: val_categorical_accuracy did not improve from 0.57906\n",
      "330/330 [==============================] - 13s 40ms/step - loss: 1.3851 - categorical_accuracy: 0.2813 - val_loss: 1.3814 - val_categorical_accuracy: 0.3057\n"
     ]
    }
   ],
   "source": [
    "#create callback\n",
    "checkpoint = ModelCheckpoint(filepath=PATH_MODEL_GS_U_B, \n",
    "                             monitor='val_categorical_accuracy',\n",
    "                             verbose=1, \n",
    "                             save_best_only=True,\n",
    "                             mode='max')\n",
    "\n",
    "#fit the model\n",
    "history = model.fit(train_gen, \n",
    "                    epochs=100, \n",
    "                    validation_data=val_gen, \n",
    "                    class_weight=class_weights,\n",
    "                    verbose=1, \n",
    "                    shuffle=True,\n",
    "                    callbacks=[checkpoint])\n"
   ]
  },
  {
   "cell_type": "code",
   "execution_count": 27,
   "metadata": {
    "colab": {
     "base_uri": "https://localhost:8080/",
     "height": 585
    },
    "executionInfo": {
     "elapsed": 1266,
     "status": "ok",
     "timestamp": 1652710263848,
     "user": {
      "displayName": "Victoria Zevallos Munguía",
      "userId": "08498841278570872685"
     },
     "user_tz": -120
    },
    "id": "5u6GTQ6B7EOm",
    "outputId": "412d6d2f-7610-4760-948d-1796d848460d"
   },
   "outputs": [
    {
     "data": {
      "image/png": "[encoded data removed]",
      "text/plain": [
       "<Figure size 504x576 with 2 Axes>"
      ]
     },
     "metadata": {
      "needs_background": "light"
     },
     "output_type": "display_data"
    }
   ],
   "source": [
    "sg.utils.plot_history(history)"
   ]
  },
  {
   "cell_type": "markdown",
   "metadata": {
    "id": "5g9aTCPKAcXQ"
   },
   "source": [
    "### Evaluate the Model"
   ]
  },
  {
   "cell_type": "code",
   "execution_count": 32,
   "metadata": {
    "executionInfo": {
     "elapsed": 275,
     "status": "ok",
     "timestamp": 1652710310719,
     "user": {
      "displayName": "Victoria Zevallos Munguía",
      "userId": "08498841278570872685"
     },
     "user_tz": -120
    },
    "id": "eoZZ5a2OAYAQ"
   },
   "outputs": [],
   "source": [
    "def plot_confusion_matrix(cm, classes,\n",
    "                          normalize=False,\n",
    "                          title='Confusion matrix',\n",
    "                          cmap=plt.cm.Blues):\n",
    "    \"\"\"\n",
    "    This function prints and plots the confusion matrix.\n",
    "    Normalization can be applied by setting `normalize=True`.\n",
    "    \"\"\"\n",
    "    if normalize:\n",
    "        cm = cm.astype('float') / cm.sum(axis=1)[:, np.newaxis]\n",
    "\n",
    "    plt.imshow(cm, interpolation='nearest', cmap=cmap)\n",
    "    plt.title(title)\n",
    "    plt.colorbar()\n",
    "    tick_marks = np.arange(len(classes))\n",
    "    plt.xticks(tick_marks, classes, rotation=45)\n",
    "    plt.yticks(tick_marks, classes)\n",
    "\n",
    "    fmt = '.2f' if normalize else 'd'\n",
    "    thresh = cm.max() / 2.\n",
    "    for i, j in itertools.product(range(cm.shape[0]), range(cm.shape[1])):\n",
    "        plt.text(j, i, format(cm[i, j], fmt),\n",
    "                 horizontalalignment=\"center\",\n",
    "                 color=\"white\" if cm[i, j] > thresh else \"black\")\n",
    "\n",
    "    plt.ylabel('True label')\n",
    "    plt.xlabel('Predicted label')\n",
    "    plt.tight_layout()"
   ]
  },
  {
   "cell_type": "markdown",
   "metadata": {
    "id": "qBEEBRkU7EOn"
   },
   "source": [
    "Now we have trained the model we can evaluate on the test set."
   ]
  },
  {
   "cell_type": "code",
   "execution_count": 33,
   "metadata": {
    "colab": {
     "base_uri": "https://localhost:8080/",
     "height": 691
    },
    "executionInfo": {
     "elapsed": 9005,
     "status": "ok",
     "timestamp": 1652710323479,
     "user": {
      "displayName": "Victoria Zevallos Munguía",
      "userId": "08498841278570872685"
     },
     "user_tz": -120
    },
    "id": "G93GBCBUAYGz",
    "outputId": "0b09c1c0-45a4-4b65-c570-379302b8376c"
   },
   "outputs": [
    {
     "name": "stderr",
     "output_type": "stream",
     "text": [
      "/usr/local/lib/python3.7/dist-packages/sklearn/metrics/_classification.py:1318: UndefinedMetricWarning: Precision and F-score are ill-defined and being set to 0.0 in labels with no predicted samples. Use `zero_division` parameter to control this behavior.\n",
      "  _warn_prf(average, modifier, msg_start, len(result))\n",
      "/usr/local/lib/python3.7/dist-packages/sklearn/metrics/_classification.py:1318: UndefinedMetricWarning: Precision and F-score are ill-defined and being set to 0.0 in labels with no predicted samples. Use `zero_division` parameter to control this behavior.\n",
      "  _warn_prf(average, modifier, msg_start, len(result))\n",
      "/usr/local/lib/python3.7/dist-packages/sklearn/metrics/_classification.py:1318: UndefinedMetricWarning: Precision and F-score are ill-defined and being set to 0.0 in labels with no predicted samples. Use `zero_division` parameter to control this behavior.\n",
      "  _warn_prf(average, modifier, msg_start, len(result))\n"
     ]
    },
    {
     "name": "stdout",
     "output_type": "stream",
     "text": [
      "              precision    recall  f1-score   support\n",
      "\n",
      "           0       0.88      0.01      0.02       714\n",
      "           1       0.58      1.00      0.73      1345\n",
      "           2       0.00      0.00      0.00       156\n",
      "           3       0.00      0.00      0.00       119\n",
      "\n",
      "    accuracy                           0.58      2334\n",
      "   macro avg       0.36      0.25      0.19      2334\n",
      "weighted avg       0.60      0.58      0.43      2334\n",
      "\n",
      "47/47 [==============================] - 3s 59ms/step - loss: 1.3617 - categorical_accuracy: 0.5763\n",
      "\n",
      "Test Set Metrics:\n",
      "\tloss: 1.3617\n",
      "\tcategorical_accuracy: 0.5763\n"
     ]
    },
    {
     "data": {
      "image/png": "[encoded data removed]",
      "text/plain": [
       "<Figure size 432x288 with 2 Axes>"
      ]
     },
     "metadata": {
      "needs_background": "light"
     },
     "output_type": "display_data"
    }
   ],
   "source": [
    "# Make prediction\n",
    "predictions = model.predict(test_gen)\n",
    "predictions = target_encoding.inverse_transform(predictions)\n",
    "results = pd.Series(predictions, index=test_labels.index)\n",
    "\n",
    "test_gen = generator.flow(test_labels.index, test_targets)\n",
    "\n",
    "# Evaluation Metrics\n",
    "cm = confusion_matrix(test_labels, results) #results intead of predictions\n",
    "plot_confusion_matrix(cm, classes = unique_labels(train_labels), title = \"Undirected GraphSAGE on Test Set\")\n",
    "print(classification_report(test_labels, results))\n",
    "\n",
    "# Performance\n",
    "test_metrics = model.evaluate(test_gen)\n",
    "print(\"\\nTest Set Metrics:\")\n",
    "for name, val in zip(model.metrics_names, test_metrics):\n",
    "    print(\"\\t{}: {:0.4f}\".format(name, val))"
   ]
  },
  {
   "cell_type": "markdown",
   "metadata": {
    "id": "ClC61rCFAuoP"
   },
   "source": [
    "## Making predictions with the model in papers pubblished in 2002 and *2003*"
   ]
  },
  {
   "cell_type": "code",
   "execution_count": 34,
   "metadata": {
    "executionInfo": {
     "elapsed": 345,
     "status": "ok",
     "timestamp": 1652710323815,
     "user": {
      "displayName": "Victoria Zevallos Munguía",
      "userId": "08498841278570872685"
     },
     "user_tz": -120
    },
    "id": "4S0RYIfwIe-q"
   },
   "outputs": [],
   "source": [
    "#Load and evaluate the best model version\n",
    "model = load_model(PATH_MODEL_GS_U_B, custom_objects={'MeanAggregator': MeanAggregator})"
   ]
  },
  {
   "cell_type": "code",
   "execution_count": 35,
   "metadata": {
    "colab": {
     "base_uri": "https://localhost:8080/",
     "height": 691
    },
    "executionInfo": {
     "elapsed": 12503,
     "status": "ok",
     "timestamp": 1652710336313,
     "user": {
      "displayName": "Victoria Zevallos Munguía",
      "userId": "08498841278570872685"
     },
     "user_tz": -120
    },
    "id": "A7tyX5xiBCGY",
    "outputId": "71967da5-d2df-48d2-a9d6-2b9b9d09fa99"
   },
   "outputs": [
    {
     "name": "stderr",
     "output_type": "stream",
     "text": [
      "/usr/local/lib/python3.7/dist-packages/sklearn/metrics/_classification.py:1318: UndefinedMetricWarning: Precision and F-score are ill-defined and being set to 0.0 in labels with no predicted samples. Use `zero_division` parameter to control this behavior.\n",
      "  _warn_prf(average, modifier, msg_start, len(result))\n",
      "/usr/local/lib/python3.7/dist-packages/sklearn/metrics/_classification.py:1318: UndefinedMetricWarning: Precision and F-score are ill-defined and being set to 0.0 in labels with no predicted samples. Use `zero_division` parameter to control this behavior.\n",
      "  _warn_prf(average, modifier, msg_start, len(result))\n",
      "/usr/local/lib/python3.7/dist-packages/sklearn/metrics/_classification.py:1318: UndefinedMetricWarning: Precision and F-score are ill-defined and being set to 0.0 in labels with no predicted samples. Use `zero_division` parameter to control this behavior.\n",
      "  _warn_prf(average, modifier, msg_start, len(result))\n"
     ]
    },
    {
     "name": "stdout",
     "output_type": "stream",
     "text": [
      "              precision    recall  f1-score   support\n",
      "\n",
      "           0       0.00      0.00      0.00      1537\n",
      "           1       0.53      1.00      0.69      2209\n",
      "           2       0.00      0.00      0.00       233\n",
      "           3       0.00      0.00      0.00       204\n",
      "\n",
      "    accuracy                           0.53      4183\n",
      "   macro avg       0.13      0.25      0.17      4183\n",
      "weighted avg       0.28      0.53      0.37      4183\n",
      "\n",
      "84/84 [==============================] - 6s 58ms/step - loss: 1.3610 - categorical_accuracy: 0.5281\n",
      "\n",
      "Prediction Set Metrics:\n",
      "\tloss: 1.3610\n",
      "\tcategorical_accuracy: 0.5281\n"
     ]
    },
    {
     "data": {
      "image/png": "[encoded data removed]",
      "text/plain": [
       "<Figure size 432x288 with 2 Axes>"
      ]
     },
     "metadata": {
      "needs_background": "light"
     },
     "output_type": "display_data"
    }
   ],
   "source": [
    "# Introduce prediction nodes\n",
    "generator = GraphSAGENodeGenerator(graph_citation_full, batch_size, num_samples)\n",
    "prediction_targets = target_encoding.transform(test_nodes)\n",
    "prediction_gen = generator.flow(test_nodes.index, prediction_targets)\n",
    "\n",
    "# Make prediction\n",
    "predictions = model.predict(prediction_gen)\n",
    "predictions = target_encoding.inverse_transform(predictions)\n",
    "\n",
    "# Create prediction dataset\n",
    "results = pd.Series(predictions, index=test_nodes.index)\n",
    "df_results = pd.DataFrame({\"Predicted\": results, \"True\": test_nodes})\n",
    "\n",
    "# Evaluation Metrics\n",
    "cm = confusion_matrix(test_nodes, results) #results intead of predictions\n",
    "plot_confusion_matrix(cm, classes = unique_labels(train_labels), title = \"Undirected GraphSAGE on Prediction Set\")\n",
    "print(classification_report(test_nodes, results))\n",
    "\n",
    "# Performance\n",
    "prediction_metrics = model.evaluate(prediction_gen)\n",
    "print(\"\\nPrediction Set Metrics:\")\n",
    "for name, val in zip(model.metrics_names, prediction_metrics):\n",
    "    print(\"\\t{}: {:0.4f}\".format(name, val))\n"
   ]
  }
 ],
 "metadata": {
  "colab": {
   "collapsed_sections": [],
   "name": "Graphsage_undirect node classification.ipynb",
   "provenance": [
    {
     "file_id": "https://github.com/stellargraph/stellargraph/blob/master/demos/node-classification/graphsage-inductive-node-classification.ipynb",
     "timestamp": 1652109119389
    }
   ]
  },
  "kernelspec": {
   "display_name": "Python 3",
   "language": "python",
   "name": "python3"
  },
  "language_info": {
   "codemirror_mode": {
    "name": "ipython",
    "version": 3
   },
   "file_extension": ".py",
   "mimetype": "text/x-python",
   "name": "python",
   "nbconvert_exporter": "python",
   "pygments_lexer": "ipython3",
   "version": "3.8.5"
  }
 },
 "nbformat": 4,
 "nbformat_minor": 1
}
